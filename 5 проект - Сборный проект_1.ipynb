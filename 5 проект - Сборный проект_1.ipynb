{
 "cells": [
  {
   "cell_type": "markdown",
   "metadata": {},
   "source": [
    "<div style=\"border:solid Chocolate 2px; padding: 40px\">\n",
    "\n",
    "<b>Кристина, привет!👋</b> Спасибо, что прислала задание 😏\n",
    "\n",
    "Меня зовут Антон Аразашвили и я буду ревьювером твоего проекта. Давай сразу перейдем на общение \"на ты\", если ты, конечно, не против 😉\n",
    "\n",
    "Попрошу тебя не удалять мои комментарии, т.к. они будут полезны при повторной проверке.\n",
    "\n",
    "Если захочешь, то можешь оставлять комментарии к моим комментариям, только помечай их каким-либо отличным от меня способом, что бы нам не запутаться  😏\n",
    "\n",
    "Ты можешь найти мои комментарии, обозначенные <font color='green'>зеленым</font>, <font color='gold'>желтым</font> и <font color='red'>красным</font> цветами, например:\n",
    "\n",
    "<br/>\n",
    "\n",
    "<div class=\"alert alert-success\">\n",
    "<h2> Комментарий ревьюера <a class=\"tocSkip\"> </h2>\n",
    "\n",
    "<b>Все отлично!👍:</b> В случае, если решение на отдельном шаге является полностью правильным и показательным.\n",
    "</div>\n",
    "\n",
    "<br/>\n",
    "\n",
    "<div class=\"alert alert-warning\">\n",
    "    <h2> Комментарий ревьюера <a class=\"tocSkip\"> </h2>\n",
    "    \n",
    "<b>Некоторые замечания и рекомендации💡:</b> В случае, когда решение на отдельном шаге станет еще лучше, если внести небольшие коррективы.\n",
    "</div>\n",
    "\n",
    "\n",
    "<br/>\n",
    "<div class=\"alert alert-block alert-danger\">\n",
    "<h2> Комментарий ревьюера <a class=\"tocSkip\"></h2>\n",
    "\n",
    "    \n",
    "<b>На доработку🤔:</b>\n",
    " В случае, когда решение на отдельном шаге требует существенной переработки и внесения правок. Напоминаю, что проект не может быть принят с первого раза, если ревью содержит комментарии, рекомендующие доработать шаги.\n",
    "</div>\n",
    "    \n",
    "Увидев у тебя неточность, в первый раз я лишь укажу на ее наличие и дам тебе возможность самому найти и исправить ее. Если у тебя все же возникнут трудности - при следующей проверке я дам более точную подсказку!🤓"
   ]
  },
  {
   "cell_type": "markdown",
   "metadata": {},
   "source": [
    "<div style=\"border-radius: 3px; border: 2px solid black; padding: 0px;\"> \n",
    "<div class=\"alert alert-block alert-info\">\n",
    "<h2>Комментарий студента</h2>\n",
    "    Привет Антон! Спасибо, что проверил мой проект и оставил комментарии.  \n",
    "</div> \n",
    "</div>"
   ]
  },
  {
   "cell_type": "markdown",
   "metadata": {
    "id": "6oXYxvITkh23"
   },
   "source": [
    "## Сборный Проект 1 - введение\n",
    "\n",
    "---\n",
    "**Описание проекта**\n",
    "\n",
    "Вы работаете в интернет-магазине «Стримчик», который продаёт по всему миру\n",
    "компьютерные игры. Из открытых источников доступны исторические данные о\n",
    "продажах игр, оценки пользователей и экспертов, жанры и платформы (например,\n",
    "Xboxили PlayStation). Вам нужно выявить определяющие успешность игры\n",
    "закономерности. Это позволит сделать ставку на потенциально популярный продукт и\n",
    "спланировать рекламные кампании.\n",
    "\n",
    "Перед вами данные до 2016 года. Представим, что сейчас декабрь 2016 г., и вы\n",
    "планируете кампанию на 2017-й. Нужно отработать принцип работы с данными.\n",
    "Неважно, прогнозируете ли вы продажи на 2017 год по данным 2016-го или же 2027-й\n",
    "— по данным 2026 года.\n",
    "\n",
    "В наборе данных попадается аббревиатура ESRB (Entertainment Software Rating Board)\n",
    "— это ассоциация, определяющая возрастной рейтинг компьютерных игр. ESRB\n",
    "оценивает игровой контент и присваивает ему подходящую возрастную категорию,\n",
    "например, «Для взрослых», «Для детей младшего возраста» или «Для подростков».\n",
    "\n",
    "\n",
    "---\n",
    "**Описание данных**\n",
    "> \n",
    "* Name — название игры\n",
    "* Platform — платформа\n",
    "* Year_of_Release — год выпуска\n",
    "* Genre — жанр игры\n",
    "* NA_sales — продажи в Северной Америке (миллионы проданных копий)\n",
    "* EU_sales — продажи в Европе (миллионы проданных копий)\n",
    "* JP_sales — продажи в Японии (миллионы проданных копий)\n",
    "* Other_sales — продажи в других странах (миллионы проданных копий)\n",
    "* Critic_Score — оценка критиков (максимум 100)\n",
    "* User_Score — оценка пользователей (максимум 10)\n",
    "* Rating — рейтинг от организации ESRB (англ. Entertainment Software Rating\n",
    "Board). Эта ассоциация определяет рейтинг компьютерных игр и присваивает\n",
    "им подходящую возрастную категорию.\n",
    "\n",
    "Данные за 2016 год могут быть неполными.\n",
    "\n"
   ]
  },
  {
   "cell_type": "markdown",
   "metadata": {
    "id": "LdPqS_vLtPYM"
   },
   "source": [
    "**Расшифровка рейтнгов ESRB:**\n",
    "\n",
    "* «EC» («Early childhood») — «Для детей младшего возраста»\n",
    "* «E» («Everyone») — «Для всех» ( тоже самое что \"K-A\" (\"Kids to Adults\"))\n",
    "* «E10+» («Everyone 10 and older») — «Для всех от 10 лет и старше»\n",
    "* «T» («Teen») — «Подросткам»\n",
    "* «M» («Mature») — «Для взрослых»\n",
    "* «AO» («Adults Only 18+») — «Только для взрослых»\n",
    "* «RP» («Rating Pending») — «Рейтинг ожидается»"
   ]
  },
  {
   "cell_type": "markdown",
   "metadata": {
    "id": "EvphbepxP9db"
   },
   "source": [
    "**Платформы:**\n",
    "* Sony: PS3, PSV, PS4, PSP\n",
    "* Microsoft: X360, XOne\n",
    "* Nintendo: 3DS, WiiU, Wii, DS\n",
    "* ПК"
   ]
  },
  {
   "cell_type": "markdown",
   "metadata": {},
   "source": [
    "<div class=\"alert alert-success\">\n",
    "<h2> Комментарий ревьюера <a class=\"tocSkip\"> </h2>\n",
    "\n",
    "<b>Все отлично!👍:</b> \n",
    " \n",
    "Правильное начало с правильного введения) "
   ]
  },
  {
   "cell_type": "markdown",
   "metadata": {
    "id": "Z8hrnXd4nEas"
   },
   "source": [
    "## Изучение данных из файлов"
   ]
  },
  {
   "cell_type": "code",
   "execution_count": 1,
   "metadata": {
    "id": "WfuAwqV7m9Fs"
   },
   "outputs": [],
   "source": [
    "import pandas as pd\n",
    "import numpy as np\n",
    "import matplotlib.pyplot as plt\n",
    "from scipy import stats as st\n",
    "import seaborn as sns\n",
    "#import sidetable"
   ]
  },
  {
   "cell_type": "code",
   "execution_count": 2,
   "metadata": {
    "colab": {
     "base_uri": "https://localhost:8080/",
     "height": 74,
     "resources": {
      "http://localhost:8080/nbextensions/google.colab/files.js": {
       "data": "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",
       "headers": [
        [
         "content-type",
         "application/javascript"
        ]
       ],
       "ok": true,
       "status": 200,
       "status_text": ""
      }
     }
    },
    "id": "BfsqcF2Exyzd",
    "outputId": "8a1108cc-c377-48e7-9e62-742d7bea92cc"
   },
   "outputs": [
    {
     "ename": "ModuleNotFoundError",
     "evalue": "No module named 'google.colab'",
     "output_type": "error",
     "traceback": [
      "\u001b[0;31m---------------------------------------------------------------------------\u001b[0m",
      "\u001b[0;31mModuleNotFoundError\u001b[0m                       Traceback (most recent call last)",
      "\u001b[0;32m/tmp/ipykernel_48/2535520808.py\u001b[0m in \u001b[0;36m<module>\u001b[0;34m\u001b[0m\n\u001b[0;32m----> 1\u001b[0;31m \u001b[0;32mfrom\u001b[0m \u001b[0mgoogle\u001b[0m\u001b[0;34m.\u001b[0m\u001b[0mcolab\u001b[0m \u001b[0;32mimport\u001b[0m \u001b[0mfiles\u001b[0m\u001b[0;34m\u001b[0m\u001b[0;34m\u001b[0m\u001b[0m\n\u001b[0m\u001b[1;32m      2\u001b[0m \u001b[0muploaded\u001b[0m \u001b[0;34m=\u001b[0m \u001b[0mfiles\u001b[0m\u001b[0;34m.\u001b[0m\u001b[0mupload\u001b[0m\u001b[0;34m(\u001b[0m\u001b[0;34m)\u001b[0m\u001b[0;34m\u001b[0m\u001b[0;34m\u001b[0m\u001b[0m\n",
      "\u001b[0;31mModuleNotFoundError\u001b[0m: No module named 'google.colab'"
     ]
    }
   ],
   "source": [
    "from google.colab import files\n",
    "uploaded = files.upload()"
   ]
  },
  {
   "cell_type": "code",
   "execution_count": 3,
   "metadata": {
    "id": "zmz_DktWYAIh"
   },
   "outputs": [],
   "source": [
    "# Сброс ограничений на количество выводимых рядов\n",
    "pd.set_option('display.max_rows', None)\n",
    "# Сброс ограничений на число столбцов\n",
    "pd.set_option('display.max_columns', None)\n",
    "# Сброс ограничений на количество символов в записи\n",
    "#pd.set_option('display.max_colwidth', None)\n",
    "\n",
    "try: \n",
    "    games = pd.read_csv('games.csv')\n",
    "except:\n",
    "    games = pd.read_csv('/datasets/games.csv')"
   ]
  },
  {
   "cell_type": "code",
   "execution_count": 4,
   "metadata": {
    "colab": {
     "base_uri": "https://localhost:8080/",
     "height": 520
    },
    "id": "7N60rvyEBvUr",
    "outputId": "9b1a6615-ca27-4f8a-a169-fd04def42499"
   },
   "outputs": [
    {
     "data": {
      "text/html": [
       "<div>\n",
       "<style scoped>\n",
       "    .dataframe tbody tr th:only-of-type {\n",
       "        vertical-align: middle;\n",
       "    }\n",
       "\n",
       "    .dataframe tbody tr th {\n",
       "        vertical-align: top;\n",
       "    }\n",
       "\n",
       "    .dataframe thead th {\n",
       "        text-align: right;\n",
       "    }\n",
       "</style>\n",
       "<table border=\"1\" class=\"dataframe\">\n",
       "  <thead>\n",
       "    <tr style=\"text-align: right;\">\n",
       "      <th></th>\n",
       "      <th>Name</th>\n",
       "      <th>Platform</th>\n",
       "      <th>Year_of_Release</th>\n",
       "      <th>Genre</th>\n",
       "      <th>NA_sales</th>\n",
       "      <th>EU_sales</th>\n",
       "      <th>JP_sales</th>\n",
       "      <th>Other_sales</th>\n",
       "      <th>Critic_Score</th>\n",
       "      <th>User_Score</th>\n",
       "      <th>Rating</th>\n",
       "    </tr>\n",
       "  </thead>\n",
       "  <tbody>\n",
       "    <tr>\n",
       "      <th>0</th>\n",
       "      <td>Wii Sports</td>\n",
       "      <td>Wii</td>\n",
       "      <td>2006.0</td>\n",
       "      <td>Sports</td>\n",
       "      <td>41.36</td>\n",
       "      <td>28.96</td>\n",
       "      <td>3.77</td>\n",
       "      <td>8.45</td>\n",
       "      <td>76.0</td>\n",
       "      <td>8</td>\n",
       "      <td>E</td>\n",
       "    </tr>\n",
       "    <tr>\n",
       "      <th>1</th>\n",
       "      <td>Super Mario Bros.</td>\n",
       "      <td>NES</td>\n",
       "      <td>1985.0</td>\n",
       "      <td>Platform</td>\n",
       "      <td>29.08</td>\n",
       "      <td>3.58</td>\n",
       "      <td>6.81</td>\n",
       "      <td>0.77</td>\n",
       "      <td>NaN</td>\n",
       "      <td>NaN</td>\n",
       "      <td>NaN</td>\n",
       "    </tr>\n",
       "    <tr>\n",
       "      <th>2</th>\n",
       "      <td>Mario Kart Wii</td>\n",
       "      <td>Wii</td>\n",
       "      <td>2008.0</td>\n",
       "      <td>Racing</td>\n",
       "      <td>15.68</td>\n",
       "      <td>12.76</td>\n",
       "      <td>3.79</td>\n",
       "      <td>3.29</td>\n",
       "      <td>82.0</td>\n",
       "      <td>8.3</td>\n",
       "      <td>E</td>\n",
       "    </tr>\n",
       "    <tr>\n",
       "      <th>3</th>\n",
       "      <td>Wii Sports Resort</td>\n",
       "      <td>Wii</td>\n",
       "      <td>2009.0</td>\n",
       "      <td>Sports</td>\n",
       "      <td>15.61</td>\n",
       "      <td>10.93</td>\n",
       "      <td>3.28</td>\n",
       "      <td>2.95</td>\n",
       "      <td>80.0</td>\n",
       "      <td>8</td>\n",
       "      <td>E</td>\n",
       "    </tr>\n",
       "    <tr>\n",
       "      <th>4</th>\n",
       "      <td>Pokemon Red/Pokemon Blue</td>\n",
       "      <td>GB</td>\n",
       "      <td>1996.0</td>\n",
       "      <td>Role-Playing</td>\n",
       "      <td>11.27</td>\n",
       "      <td>8.89</td>\n",
       "      <td>10.22</td>\n",
       "      <td>1.00</td>\n",
       "      <td>NaN</td>\n",
       "      <td>NaN</td>\n",
       "      <td>NaN</td>\n",
       "    </tr>\n",
       "    <tr>\n",
       "      <th>5</th>\n",
       "      <td>Tetris</td>\n",
       "      <td>GB</td>\n",
       "      <td>1989.0</td>\n",
       "      <td>Puzzle</td>\n",
       "      <td>23.20</td>\n",
       "      <td>2.26</td>\n",
       "      <td>4.22</td>\n",
       "      <td>0.58</td>\n",
       "      <td>NaN</td>\n",
       "      <td>NaN</td>\n",
       "      <td>NaN</td>\n",
       "    </tr>\n",
       "    <tr>\n",
       "      <th>6</th>\n",
       "      <td>New Super Mario Bros.</td>\n",
       "      <td>DS</td>\n",
       "      <td>2006.0</td>\n",
       "      <td>Platform</td>\n",
       "      <td>11.28</td>\n",
       "      <td>9.14</td>\n",
       "      <td>6.50</td>\n",
       "      <td>2.88</td>\n",
       "      <td>89.0</td>\n",
       "      <td>8.5</td>\n",
       "      <td>E</td>\n",
       "    </tr>\n",
       "    <tr>\n",
       "      <th>7</th>\n",
       "      <td>Wii Play</td>\n",
       "      <td>Wii</td>\n",
       "      <td>2006.0</td>\n",
       "      <td>Misc</td>\n",
       "      <td>13.96</td>\n",
       "      <td>9.18</td>\n",
       "      <td>2.93</td>\n",
       "      <td>2.84</td>\n",
       "      <td>58.0</td>\n",
       "      <td>6.6</td>\n",
       "      <td>E</td>\n",
       "    </tr>\n",
       "    <tr>\n",
       "      <th>8</th>\n",
       "      <td>New Super Mario Bros. Wii</td>\n",
       "      <td>Wii</td>\n",
       "      <td>2009.0</td>\n",
       "      <td>Platform</td>\n",
       "      <td>14.44</td>\n",
       "      <td>6.94</td>\n",
       "      <td>4.70</td>\n",
       "      <td>2.24</td>\n",
       "      <td>87.0</td>\n",
       "      <td>8.4</td>\n",
       "      <td>E</td>\n",
       "    </tr>\n",
       "    <tr>\n",
       "      <th>9</th>\n",
       "      <td>Duck Hunt</td>\n",
       "      <td>NES</td>\n",
       "      <td>1984.0</td>\n",
       "      <td>Shooter</td>\n",
       "      <td>26.93</td>\n",
       "      <td>0.63</td>\n",
       "      <td>0.28</td>\n",
       "      <td>0.47</td>\n",
       "      <td>NaN</td>\n",
       "      <td>NaN</td>\n",
       "      <td>NaN</td>\n",
       "    </tr>\n",
       "    <tr>\n",
       "      <th>10</th>\n",
       "      <td>Nintendogs</td>\n",
       "      <td>DS</td>\n",
       "      <td>2005.0</td>\n",
       "      <td>Simulation</td>\n",
       "      <td>9.05</td>\n",
       "      <td>10.95</td>\n",
       "      <td>1.93</td>\n",
       "      <td>2.74</td>\n",
       "      <td>NaN</td>\n",
       "      <td>NaN</td>\n",
       "      <td>NaN</td>\n",
       "    </tr>\n",
       "    <tr>\n",
       "      <th>11</th>\n",
       "      <td>Mario Kart DS</td>\n",
       "      <td>DS</td>\n",
       "      <td>2005.0</td>\n",
       "      <td>Racing</td>\n",
       "      <td>9.71</td>\n",
       "      <td>7.47</td>\n",
       "      <td>4.13</td>\n",
       "      <td>1.90</td>\n",
       "      <td>91.0</td>\n",
       "      <td>8.6</td>\n",
       "      <td>E</td>\n",
       "    </tr>\n",
       "    <tr>\n",
       "      <th>12</th>\n",
       "      <td>Pokemon Gold/Pokemon Silver</td>\n",
       "      <td>GB</td>\n",
       "      <td>1999.0</td>\n",
       "      <td>Role-Playing</td>\n",
       "      <td>9.00</td>\n",
       "      <td>6.18</td>\n",
       "      <td>7.20</td>\n",
       "      <td>0.71</td>\n",
       "      <td>NaN</td>\n",
       "      <td>NaN</td>\n",
       "      <td>NaN</td>\n",
       "    </tr>\n",
       "    <tr>\n",
       "      <th>13</th>\n",
       "      <td>Wii Fit</td>\n",
       "      <td>Wii</td>\n",
       "      <td>2007.0</td>\n",
       "      <td>Sports</td>\n",
       "      <td>8.92</td>\n",
       "      <td>8.03</td>\n",
       "      <td>3.60</td>\n",
       "      <td>2.15</td>\n",
       "      <td>80.0</td>\n",
       "      <td>7.7</td>\n",
       "      <td>E</td>\n",
       "    </tr>\n",
       "    <tr>\n",
       "      <th>14</th>\n",
       "      <td>Kinect Adventures!</td>\n",
       "      <td>X360</td>\n",
       "      <td>2010.0</td>\n",
       "      <td>Misc</td>\n",
       "      <td>15.00</td>\n",
       "      <td>4.89</td>\n",
       "      <td>0.24</td>\n",
       "      <td>1.69</td>\n",
       "      <td>61.0</td>\n",
       "      <td>6.3</td>\n",
       "      <td>E</td>\n",
       "    </tr>\n",
       "  </tbody>\n",
       "</table>\n",
       "</div>"
      ],
      "text/plain": [
       "                           Name Platform  Year_of_Release         Genre  \\\n",
       "0                    Wii Sports      Wii           2006.0        Sports   \n",
       "1             Super Mario Bros.      NES           1985.0      Platform   \n",
       "2                Mario Kart Wii      Wii           2008.0        Racing   \n",
       "3             Wii Sports Resort      Wii           2009.0        Sports   \n",
       "4      Pokemon Red/Pokemon Blue       GB           1996.0  Role-Playing   \n",
       "5                        Tetris       GB           1989.0        Puzzle   \n",
       "6         New Super Mario Bros.       DS           2006.0      Platform   \n",
       "7                      Wii Play      Wii           2006.0          Misc   \n",
       "8     New Super Mario Bros. Wii      Wii           2009.0      Platform   \n",
       "9                     Duck Hunt      NES           1984.0       Shooter   \n",
       "10                   Nintendogs       DS           2005.0    Simulation   \n",
       "11                Mario Kart DS       DS           2005.0        Racing   \n",
       "12  Pokemon Gold/Pokemon Silver       GB           1999.0  Role-Playing   \n",
       "13                      Wii Fit      Wii           2007.0        Sports   \n",
       "14           Kinect Adventures!     X360           2010.0          Misc   \n",
       "\n",
       "    NA_sales  EU_sales  JP_sales  Other_sales  Critic_Score User_Score Rating  \n",
       "0      41.36     28.96      3.77         8.45          76.0          8      E  \n",
       "1      29.08      3.58      6.81         0.77           NaN        NaN    NaN  \n",
       "2      15.68     12.76      3.79         3.29          82.0        8.3      E  \n",
       "3      15.61     10.93      3.28         2.95          80.0          8      E  \n",
       "4      11.27      8.89     10.22         1.00           NaN        NaN    NaN  \n",
       "5      23.20      2.26      4.22         0.58           NaN        NaN    NaN  \n",
       "6      11.28      9.14      6.50         2.88          89.0        8.5      E  \n",
       "7      13.96      9.18      2.93         2.84          58.0        6.6      E  \n",
       "8      14.44      6.94      4.70         2.24          87.0        8.4      E  \n",
       "9      26.93      0.63      0.28         0.47           NaN        NaN    NaN  \n",
       "10      9.05     10.95      1.93         2.74           NaN        NaN    NaN  \n",
       "11      9.71      7.47      4.13         1.90          91.0        8.6      E  \n",
       "12      9.00      6.18      7.20         0.71           NaN        NaN    NaN  \n",
       "13      8.92      8.03      3.60         2.15          80.0        7.7      E  \n",
       "14     15.00      4.89      0.24         1.69          61.0        6.3      E  "
      ]
     },
     "execution_count": 4,
     "metadata": {},
     "output_type": "execute_result"
    }
   ],
   "source": [
    "games.head(15)"
   ]
  },
  {
   "cell_type": "code",
   "execution_count": 5,
   "metadata": {
    "colab": {
     "base_uri": "https://localhost:8080/"
    },
    "id": "3Yl7lvJwCXGY",
    "outputId": "8192b94b-c349-4832-8373-b9f2942d2c68"
   },
   "outputs": [
    {
     "name": "stdout",
     "output_type": "stream",
     "text": [
      "<class 'pandas.core.frame.DataFrame'>\n",
      "RangeIndex: 16715 entries, 0 to 16714\n",
      "Data columns (total 11 columns):\n",
      " #   Column           Non-Null Count  Dtype  \n",
      "---  ------           --------------  -----  \n",
      " 0   Name             16713 non-null  object \n",
      " 1   Platform         16715 non-null  object \n",
      " 2   Year_of_Release  16446 non-null  float64\n",
      " 3   Genre            16713 non-null  object \n",
      " 4   NA_sales         16715 non-null  float64\n",
      " 5   EU_sales         16715 non-null  float64\n",
      " 6   JP_sales         16715 non-null  float64\n",
      " 7   Other_sales      16715 non-null  float64\n",
      " 8   Critic_Score     8137 non-null   float64\n",
      " 9   User_Score       10014 non-null  object \n",
      " 10  Rating           9949 non-null   object \n",
      "dtypes: float64(6), object(5)\n",
      "memory usage: 1.4+ MB\n"
     ]
    }
   ],
   "source": [
    "games.info()"
   ]
  },
  {
   "cell_type": "code",
   "execution_count": 6,
   "metadata": {
    "colab": {
     "base_uri": "https://localhost:8080/",
     "height": 300
    },
    "id": "Wxdehs1aCgX9",
    "outputId": "57288a61-678f-4002-8d7d-cd285bb272da"
   },
   "outputs": [
    {
     "data": {
      "text/html": [
       "<div>\n",
       "<style scoped>\n",
       "    .dataframe tbody tr th:only-of-type {\n",
       "        vertical-align: middle;\n",
       "    }\n",
       "\n",
       "    .dataframe tbody tr th {\n",
       "        vertical-align: top;\n",
       "    }\n",
       "\n",
       "    .dataframe thead th {\n",
       "        text-align: right;\n",
       "    }\n",
       "</style>\n",
       "<table border=\"1\" class=\"dataframe\">\n",
       "  <thead>\n",
       "    <tr style=\"text-align: right;\">\n",
       "      <th></th>\n",
       "      <th>Year_of_Release</th>\n",
       "      <th>NA_sales</th>\n",
       "      <th>EU_sales</th>\n",
       "      <th>JP_sales</th>\n",
       "      <th>Other_sales</th>\n",
       "      <th>Critic_Score</th>\n",
       "    </tr>\n",
       "  </thead>\n",
       "  <tbody>\n",
       "    <tr>\n",
       "      <th>count</th>\n",
       "      <td>16446.000000</td>\n",
       "      <td>16715.000000</td>\n",
       "      <td>16715.000000</td>\n",
       "      <td>16715.000000</td>\n",
       "      <td>16715.000000</td>\n",
       "      <td>8137.000000</td>\n",
       "    </tr>\n",
       "    <tr>\n",
       "      <th>mean</th>\n",
       "      <td>2006.484616</td>\n",
       "      <td>0.263377</td>\n",
       "      <td>0.145060</td>\n",
       "      <td>0.077617</td>\n",
       "      <td>0.047342</td>\n",
       "      <td>68.967679</td>\n",
       "    </tr>\n",
       "    <tr>\n",
       "      <th>std</th>\n",
       "      <td>5.877050</td>\n",
       "      <td>0.813604</td>\n",
       "      <td>0.503339</td>\n",
       "      <td>0.308853</td>\n",
       "      <td>0.186731</td>\n",
       "      <td>13.938165</td>\n",
       "    </tr>\n",
       "    <tr>\n",
       "      <th>min</th>\n",
       "      <td>1980.000000</td>\n",
       "      <td>0.000000</td>\n",
       "      <td>0.000000</td>\n",
       "      <td>0.000000</td>\n",
       "      <td>0.000000</td>\n",
       "      <td>13.000000</td>\n",
       "    </tr>\n",
       "    <tr>\n",
       "      <th>25%</th>\n",
       "      <td>2003.000000</td>\n",
       "      <td>0.000000</td>\n",
       "      <td>0.000000</td>\n",
       "      <td>0.000000</td>\n",
       "      <td>0.000000</td>\n",
       "      <td>60.000000</td>\n",
       "    </tr>\n",
       "    <tr>\n",
       "      <th>50%</th>\n",
       "      <td>2007.000000</td>\n",
       "      <td>0.080000</td>\n",
       "      <td>0.020000</td>\n",
       "      <td>0.000000</td>\n",
       "      <td>0.010000</td>\n",
       "      <td>71.000000</td>\n",
       "    </tr>\n",
       "    <tr>\n",
       "      <th>75%</th>\n",
       "      <td>2010.000000</td>\n",
       "      <td>0.240000</td>\n",
       "      <td>0.110000</td>\n",
       "      <td>0.040000</td>\n",
       "      <td>0.030000</td>\n",
       "      <td>79.000000</td>\n",
       "    </tr>\n",
       "    <tr>\n",
       "      <th>max</th>\n",
       "      <td>2016.000000</td>\n",
       "      <td>41.360000</td>\n",
       "      <td>28.960000</td>\n",
       "      <td>10.220000</td>\n",
       "      <td>10.570000</td>\n",
       "      <td>98.000000</td>\n",
       "    </tr>\n",
       "  </tbody>\n",
       "</table>\n",
       "</div>"
      ],
      "text/plain": [
       "       Year_of_Release      NA_sales      EU_sales      JP_sales  \\\n",
       "count     16446.000000  16715.000000  16715.000000  16715.000000   \n",
       "mean       2006.484616      0.263377      0.145060      0.077617   \n",
       "std           5.877050      0.813604      0.503339      0.308853   \n",
       "min        1980.000000      0.000000      0.000000      0.000000   \n",
       "25%        2003.000000      0.000000      0.000000      0.000000   \n",
       "50%        2007.000000      0.080000      0.020000      0.000000   \n",
       "75%        2010.000000      0.240000      0.110000      0.040000   \n",
       "max        2016.000000     41.360000     28.960000     10.220000   \n",
       "\n",
       "        Other_sales  Critic_Score  \n",
       "count  16715.000000   8137.000000  \n",
       "mean       0.047342     68.967679  \n",
       "std        0.186731     13.938165  \n",
       "min        0.000000     13.000000  \n",
       "25%        0.000000     60.000000  \n",
       "50%        0.010000     71.000000  \n",
       "75%        0.030000     79.000000  \n",
       "max       10.570000     98.000000  "
      ]
     },
     "execution_count": 6,
     "metadata": {},
     "output_type": "execute_result"
    }
   ],
   "source": [
    "games.describe()"
   ]
  },
  {
   "cell_type": "code",
   "execution_count": 7,
   "metadata": {
    "colab": {
     "base_uri": "https://localhost:8080/"
    },
    "id": "opalV5nbDEjL",
    "outputId": "73050447-ba81-4a16-af47-18453aeaf2f4"
   },
   "outputs": [
    {
     "data": {
      "text/plain": [
       "0"
      ]
     },
     "execution_count": 7,
     "metadata": {},
     "output_type": "execute_result"
    }
   ],
   "source": [
    "games.duplicated().sum()"
   ]
  },
  {
   "cell_type": "code",
   "execution_count": 8,
   "metadata": {
    "colab": {
     "base_uri": "https://localhost:8080/"
    },
    "id": "ihihM09MPwPq",
    "outputId": "0a4dfb44-e83d-49a0-d441-4e1cc45effbb"
   },
   "outputs": [
    {
     "data": {
      "text/plain": [
       "Name                  2\n",
       "Platform              0\n",
       "Year_of_Release     269\n",
       "Genre                 2\n",
       "NA_sales              0\n",
       "EU_sales              0\n",
       "JP_sales              0\n",
       "Other_sales           0\n",
       "Critic_Score       8578\n",
       "User_Score         6701\n",
       "Rating             6766\n",
       "dtype: int64"
      ]
     },
     "execution_count": 8,
     "metadata": {},
     "output_type": "execute_result"
    }
   ],
   "source": [
    "# пропуски\n",
    "games.isna().sum()"
   ]
  },
  {
   "cell_type": "code",
   "execution_count": 9,
   "metadata": {
    "colab": {
     "base_uri": "https://localhost:8080/"
    },
    "id": "fDCbF4apP9g1",
    "outputId": "74de2fa8-7c37-4935-d2e6-8f6da6bded21"
   },
   "outputs": [
    {
     "data": {
      "text/plain": [
       "Name               0.000120\n",
       "Platform           0.000000\n",
       "Year_of_Release    0.016093\n",
       "Genre              0.000120\n",
       "NA_sales           0.000000\n",
       "EU_sales           0.000000\n",
       "JP_sales           0.000000\n",
       "Other_sales        0.000000\n",
       "Critic_Score       0.513192\n",
       "User_Score         0.400897\n",
       "Rating             0.404786\n",
       "dtype: float64"
      ]
     },
     "execution_count": 9,
     "metadata": {},
     "output_type": "execute_result"
    }
   ],
   "source": [
    "# доля пропусков \n",
    "games.isna().mean()"
   ]
  },
  {
   "cell_type": "markdown",
   "metadata": {
    "id": "FKebeGs_LglX"
   },
   "source": [
    "В таблице 11 столбцов, 16715 строк. Данные предоставленые для анализа неидеальные. \n",
    "\n",
    "В ходе изучения данных выявлены: \n",
    "* пропуски в данных;\n",
    "* некорректные типы данных `Year_of_Release`, `User_Score`;\n",
    "* регистр в названии столбцов;\n",
    "* доля пропусков достаточно большая в столбце \"оценка критиков\", \"оценка пользователей\" и \"рейтинг\"\n"
   ]
  },
  {
   "cell_type": "markdown",
   "metadata": {},
   "source": [
    "<div class=\"alert alert-success\">\n",
    "<h2> Комментарий ревьюера <a class=\"tocSkip\"> </h2>\n",
    "\n",
    "<b>Все отлично!👍:</b> \n",
    " \n",
    "Тут все сделано хорошо и начало положено)\n",
    "    \n",
    "Единственное, что скажешь о дублях по паре имя-консоль? Что с ними делать?"
   ]
  },
  {
   "cell_type": "markdown",
   "metadata": {
    "id": "UcOdKO1EeMIg"
   },
   "source": [
    "## Предобработка данных "
   ]
  },
  {
   "cell_type": "code",
   "execution_count": 10,
   "metadata": {
    "id": "rTB3dWNvePzR"
   },
   "outputs": [],
   "source": [
    "# меняем регистр в названии столбцов \n",
    "games.columns = games.columns.str.lower()"
   ]
  },
  {
   "cell_type": "code",
   "execution_count": 11,
   "metadata": {
    "id": "GEr8t1PijIZE"
   },
   "outputs": [],
   "source": [
    "# доля пропусков в столбце \"год релиза\" около одного процента, ей можно принебречь, заодно уберем строки где пропущено имя, так как жанр в этих строках тоже не указан, таких записей 2.\n",
    "games.drop(games[games['year_of_release'].isnull()].index, inplace=True)\n",
    "games.drop(games[games['name'].isnull()].index, inplace=True)"
   ]
  },
  {
   "cell_type": "code",
   "execution_count": 12,
   "metadata": {
    "colab": {
     "base_uri": "https://localhost:8080/"
    },
    "id": "7bS3SAUNkuDl",
    "outputId": "94f33a9b-1099-46dd-c440-2fc36facbcb0"
   },
   "outputs": [
    {
     "data": {
      "text/plain": [
       "tbd    2376\n",
       "7.8     322\n",
       "8       285\n",
       "8.2     276\n",
       "8.3     252\n",
       "7.5     249\n",
       "8.5     247\n",
       "7.9     246\n",
       "8.1     237\n",
       "7.7     236\n",
       "Name: user_score, dtype: int64"
      ]
     },
     "execution_count": 12,
     "metadata": {},
     "output_type": "execute_result"
    }
   ],
   "source": [
    "# посмотрим значения в столбце \"оценка пользователя\" \n",
    "games['user_score'].value_counts().head(10)"
   ]
  },
  {
   "cell_type": "code",
   "execution_count": 13,
   "metadata": {
    "colab": {
     "base_uri": "https://localhost:8080/"
    },
    "id": "CSVy-IpQw4_o",
    "outputId": "a679a794-8b72-489d-a93b-23fb481554ce"
   },
   "outputs": [
    {
     "data": {
      "text/plain": [
       "E       3921\n",
       "T       2905\n",
       "M       1536\n",
       "E10+    1393\n",
       "EC         8\n",
       "K-A        3\n",
       "RP         1\n",
       "AO         1\n",
       "Name: rating, dtype: int64"
      ]
     },
     "execution_count": 13,
     "metadata": {},
     "output_type": "execute_result"
    }
   ],
   "source": [
    "# посмотрим значения в столбце \"рейтинг от организации ESRB\". \n",
    "# Согласно этому рейтингу RP - ожидание оценки, K-A - можно добавить к группе E\n",
    "games['rating'].value_counts()"
   ]
  },
  {
   "cell_type": "markdown",
   "metadata": {},
   "source": [
    "TBD — сокращение от To Be Determined. Дословный перевод - \"быть определенным\". Скорее всего пользователи забыли проставить рейтинг. Таких значений больше всего в столбце.\n",
    "- укажем у этой категории в столбце рейтинг пользователя Nan\n",
    "- в столбце рейтинга заменим RP на пропуск, значение K-A на Е\n",
    "- и пропуски в столбце рейтинга приведем в одну категорию - без рейтинга"
   ]
  },
  {
   "cell_type": "code",
   "execution_count": 14,
   "metadata": {
    "colab": {
     "base_uri": "https://localhost:8080/",
     "height": 206
    },
    "id": "BGdPyxGdmN8G",
    "outputId": "af90e262-07aa-408b-9601-d519f0a82022"
   },
   "outputs": [
    {
     "data": {
      "text/html": [
       "<div>\n",
       "<style scoped>\n",
       "    .dataframe tbody tr th:only-of-type {\n",
       "        vertical-align: middle;\n",
       "    }\n",
       "\n",
       "    .dataframe tbody tr th {\n",
       "        vertical-align: top;\n",
       "    }\n",
       "\n",
       "    .dataframe thead th {\n",
       "        text-align: right;\n",
       "    }\n",
       "</style>\n",
       "<table border=\"1\" class=\"dataframe\">\n",
       "  <thead>\n",
       "    <tr style=\"text-align: right;\">\n",
       "      <th></th>\n",
       "      <th>name</th>\n",
       "      <th>platform</th>\n",
       "      <th>year_of_release</th>\n",
       "      <th>genre</th>\n",
       "      <th>na_sales</th>\n",
       "      <th>eu_sales</th>\n",
       "      <th>jp_sales</th>\n",
       "      <th>other_sales</th>\n",
       "      <th>critic_score</th>\n",
       "      <th>user_score</th>\n",
       "      <th>rating</th>\n",
       "    </tr>\n",
       "  </thead>\n",
       "  <tbody>\n",
       "    <tr>\n",
       "      <th>0</th>\n",
       "      <td>Wii Sports</td>\n",
       "      <td>Wii</td>\n",
       "      <td>2006.0</td>\n",
       "      <td>Sports</td>\n",
       "      <td>41.36</td>\n",
       "      <td>28.96</td>\n",
       "      <td>3.77</td>\n",
       "      <td>8.45</td>\n",
       "      <td>76.0</td>\n",
       "      <td>8</td>\n",
       "      <td>E</td>\n",
       "    </tr>\n",
       "    <tr>\n",
       "      <th>1</th>\n",
       "      <td>Super Mario Bros.</td>\n",
       "      <td>NES</td>\n",
       "      <td>1985.0</td>\n",
       "      <td>Platform</td>\n",
       "      <td>29.08</td>\n",
       "      <td>3.58</td>\n",
       "      <td>6.81</td>\n",
       "      <td>0.77</td>\n",
       "      <td>NaN</td>\n",
       "      <td>NaN</td>\n",
       "      <td>no rating</td>\n",
       "    </tr>\n",
       "    <tr>\n",
       "      <th>2</th>\n",
       "      <td>Mario Kart Wii</td>\n",
       "      <td>Wii</td>\n",
       "      <td>2008.0</td>\n",
       "      <td>Racing</td>\n",
       "      <td>15.68</td>\n",
       "      <td>12.76</td>\n",
       "      <td>3.79</td>\n",
       "      <td>3.29</td>\n",
       "      <td>82.0</td>\n",
       "      <td>8.3</td>\n",
       "      <td>E</td>\n",
       "    </tr>\n",
       "    <tr>\n",
       "      <th>3</th>\n",
       "      <td>Wii Sports Resort</td>\n",
       "      <td>Wii</td>\n",
       "      <td>2009.0</td>\n",
       "      <td>Sports</td>\n",
       "      <td>15.61</td>\n",
       "      <td>10.93</td>\n",
       "      <td>3.28</td>\n",
       "      <td>2.95</td>\n",
       "      <td>80.0</td>\n",
       "      <td>8</td>\n",
       "      <td>E</td>\n",
       "    </tr>\n",
       "    <tr>\n",
       "      <th>4</th>\n",
       "      <td>Pokemon Red/Pokemon Blue</td>\n",
       "      <td>GB</td>\n",
       "      <td>1996.0</td>\n",
       "      <td>Role-Playing</td>\n",
       "      <td>11.27</td>\n",
       "      <td>8.89</td>\n",
       "      <td>10.22</td>\n",
       "      <td>1.00</td>\n",
       "      <td>NaN</td>\n",
       "      <td>NaN</td>\n",
       "      <td>no rating</td>\n",
       "    </tr>\n",
       "  </tbody>\n",
       "</table>\n",
       "</div>"
      ],
      "text/plain": [
       "                       name platform  year_of_release         genre  na_sales  \\\n",
       "0                Wii Sports      Wii           2006.0        Sports     41.36   \n",
       "1         Super Mario Bros.      NES           1985.0      Platform     29.08   \n",
       "2            Mario Kart Wii      Wii           2008.0        Racing     15.68   \n",
       "3         Wii Sports Resort      Wii           2009.0        Sports     15.61   \n",
       "4  Pokemon Red/Pokemon Blue       GB           1996.0  Role-Playing     11.27   \n",
       "\n",
       "   eu_sales  jp_sales  other_sales  critic_score user_score     rating  \n",
       "0     28.96      3.77         8.45          76.0          8          E  \n",
       "1      3.58      6.81         0.77           NaN        NaN  no rating  \n",
       "2     12.76      3.79         3.29          82.0        8.3          E  \n",
       "3     10.93      3.28         2.95          80.0          8          E  \n",
       "4      8.89     10.22         1.00           NaN        NaN  no rating  "
      ]
     },
     "execution_count": 14,
     "metadata": {},
     "output_type": "execute_result"
    }
   ],
   "source": [
    "games.loc[games['user_score'] == 'tbd','user_score'] = np.nan\n",
    "\n",
    "games.loc[games['rating']=='RP','rating'] = np.nan\n",
    "games.loc[games['rating']=='K-A','rating'] = 'E'\n",
    "games['rating'] = games['rating'].fillna('no rating')\n",
    "\n",
    "games.head()"
   ]
  },
  {
   "cell_type": "markdown",
   "metadata": {},
   "source": [
    "<div class=\"alert alert-warning\">\n",
    "    <h2> Комментарий ревьюера <a class=\"tocSkip\"> </h2>\n",
    "    \n",
    "<b>Некоторые замечания и рекомендации💡:</b> \n",
    "   \n",
    "С заглушкой на rating вопросов нет - молодец. Но почему ты решаешь заменить данным образом рейтинги RP и K-A? \n",
    "\n",
    "      \n",
    "</div>"
   ]
  },
  {
   "cell_type": "markdown",
   "metadata": {},
   "source": [
    "<div style=\"border-radius: 3px; border: 2px solid black; padding: 0px;\"> \n",
    "<div class=\"alert alert-block alert-info\">\n",
    "<h2>Комментарий студента желтый</h2>\n",
    "По сути RP это ожидание рейтинга, то есть оценка еще не стоит\n",
    "А К-А тоже самое что и рейтинг Е который для всех.\n",
    "</div> \n",
    "</div>"
   ]
  },
  {
   "cell_type": "markdown",
   "metadata": {},
   "source": [
    "<div class=\"alert alert-warning\">\n",
    "    <h2> Комментарий ревьюера 2<a class=\"tocSkip\"> </h2>\n",
    "    \n",
    "<b>Некоторые замечания и рекомендации💡:</b> \n",
    "    \n",
    "Ну я бы не согласился, что ожидане рейтинка = рейтинг E. Потому что рейтинг E это уже поставленный рейтинг, влияющий на продажи, целевую аудиторию и другое. Любая игра, которую ты заменила таким образом, может в итоге стать 18+, к примеру:)"
   ]
  },
  {
   "cell_type": "code",
   "execution_count": 15,
   "metadata": {
    "id": "SxWtSojD1PVL"
   },
   "outputs": [],
   "source": [
    "# меняем типы данных в столбце \"год выпуска игры\" и \"оценке пользователя\"\n",
    "games['year_of_release'] = pd.to_datetime(games['year_of_release'], format='%Y').dt.year\n",
    "games['user_score'] = games['user_score'].astype('float')"
   ]
  },
  {
   "cell_type": "markdown",
   "metadata": {},
   "source": [
    "<div class=\"alert alert-warning\">\n",
    "    <h2> Комментарий ревьюера <a class=\"tocSkip\"> </h2>\n",
    "    \n",
    "<b>Некоторые замечания и рекомендации💡:</b> \n",
    "   \n",
    "   Все сделанно правильно, вопросов нет!) Единственное, для user_score есть более \"изящный\" вариант в 1 строчке и заменить tbd  на NaN, и поменять тип данных:\n",
    "        \n",
    "        games['user_score'] = pd.to_numeric(games['user_score'], errors='coerce')\n",
    "\n",
    "   Тут так же идет перевод столбца в тип float, с дополнительным параметром, который заполняет NaN'оми все те строчки, которые не смог преобразовать в to_numeric.\n",
    "        \n",
    "   Исправлять не нужно, ты молодец, и твое решение тоже верное!\n",
    "      \n",
    "</div>"
   ]
  },
  {
   "cell_type": "code",
   "execution_count": 16,
   "metadata": {
    "colab": {
     "base_uri": "https://localhost:8080/",
     "height": 143
    },
    "id": "6LnVx850u7Vo",
    "outputId": "bbfad386-f2a6-40eb-f8c7-c3e1b5cd4f02"
   },
   "outputs": [
    {
     "data": {
      "text/html": [
       "<div>\n",
       "<style scoped>\n",
       "    .dataframe tbody tr th:only-of-type {\n",
       "        vertical-align: middle;\n",
       "    }\n",
       "\n",
       "    .dataframe tbody tr th {\n",
       "        vertical-align: top;\n",
       "    }\n",
       "\n",
       "    .dataframe thead th {\n",
       "        text-align: right;\n",
       "    }\n",
       "</style>\n",
       "<table border=\"1\" class=\"dataframe\">\n",
       "  <thead>\n",
       "    <tr style=\"text-align: right;\">\n",
       "      <th></th>\n",
       "      <th>name</th>\n",
       "      <th>platform</th>\n",
       "      <th>year_of_release</th>\n",
       "      <th>genre</th>\n",
       "      <th>na_sales</th>\n",
       "      <th>eu_sales</th>\n",
       "      <th>jp_sales</th>\n",
       "      <th>other_sales</th>\n",
       "      <th>critic_score</th>\n",
       "      <th>user_score</th>\n",
       "      <th>rating</th>\n",
       "      <th>total_sales</th>\n",
       "    </tr>\n",
       "  </thead>\n",
       "  <tbody>\n",
       "    <tr>\n",
       "      <th>12762</th>\n",
       "      <td>Blade Dancer: Lineage of Light</td>\n",
       "      <td>PSP</td>\n",
       "      <td>2006</td>\n",
       "      <td>Role-Playing</td>\n",
       "      <td>0.05</td>\n",
       "      <td>0.0</td>\n",
       "      <td>0.00</td>\n",
       "      <td>0.0</td>\n",
       "      <td>60.0</td>\n",
       "      <td>6.9</td>\n",
       "      <td>E10+</td>\n",
       "      <td>0.05</td>\n",
       "    </tr>\n",
       "    <tr>\n",
       "      <th>15773</th>\n",
       "      <td>Antiphona no Seikahime: Tenshi no Gakufu Op.A</td>\n",
       "      <td>PSP</td>\n",
       "      <td>2009</td>\n",
       "      <td>Role-Playing</td>\n",
       "      <td>0.00</td>\n",
       "      <td>0.0</td>\n",
       "      <td>0.02</td>\n",
       "      <td>0.0</td>\n",
       "      <td>NaN</td>\n",
       "      <td>NaN</td>\n",
       "      <td>no rating</td>\n",
       "      <td>0.02</td>\n",
       "    </tr>\n",
       "    <tr>\n",
       "      <th>14688</th>\n",
       "      <td>Higurashi no Naku Koro ni Kizuna: Dai-Yon-Kan ...</td>\n",
       "      <td>DS</td>\n",
       "      <td>2010</td>\n",
       "      <td>Adventure</td>\n",
       "      <td>0.00</td>\n",
       "      <td>0.0</td>\n",
       "      <td>0.03</td>\n",
       "      <td>0.0</td>\n",
       "      <td>NaN</td>\n",
       "      <td>NaN</td>\n",
       "      <td>no rating</td>\n",
       "      <td>0.03</td>\n",
       "    </tr>\n",
       "  </tbody>\n",
       "</table>\n",
       "</div>"
      ],
      "text/plain": [
       "                                                    name platform  \\\n",
       "12762                     Blade Dancer: Lineage of Light      PSP   \n",
       "15773      Antiphona no Seikahime: Tenshi no Gakufu Op.A      PSP   \n",
       "14688  Higurashi no Naku Koro ni Kizuna: Dai-Yon-Kan ...       DS   \n",
       "\n",
       "       year_of_release         genre  na_sales  eu_sales  jp_sales  \\\n",
       "12762             2006  Role-Playing      0.05       0.0      0.00   \n",
       "15773             2009  Role-Playing      0.00       0.0      0.02   \n",
       "14688             2010     Adventure      0.00       0.0      0.03   \n",
       "\n",
       "       other_sales  critic_score  user_score     rating  total_sales  \n",
       "12762          0.0          60.0         6.9       E10+         0.05  \n",
       "15773          0.0           NaN         NaN  no rating         0.02  \n",
       "14688          0.0           NaN         NaN  no rating         0.03  "
      ]
     },
     "execution_count": 16,
     "metadata": {},
     "output_type": "execute_result"
    }
   ],
   "source": [
    "# Считаем  суммарные продажи во всех регионах и запишите их в отдельный столбец\n",
    "games['total_sales'] = games['na_sales'] + games['eu_sales'] + games['jp_sales'] + games['other_sales']\n",
    "games.sample(3)"
   ]
  },
  {
   "cell_type": "code",
   "execution_count": 17,
   "metadata": {},
   "outputs": [],
   "source": [
    "games['total_sales'] = games[['na_sales','eu_sales','jp_sales', 'other_sales']].sum(axis = 1)"
   ]
  },
  {
   "cell_type": "markdown",
   "metadata": {},
   "source": [
    "<div class=\"alert alert-success\">\n",
    "<h2> Комментарий ревьюера <a class=\"tocSkip\"> </h2>\n",
    "\n",
    "<b>Все отлично!👍:</b> \n",
    " \n",
    "Есть много сбособов посчитать сумму столбцов, для примера вот еще один:\n",
    "    \n",
    "    games['total_sales'] = games[['na_sales','eu_sales','jp_sales', 'other_sales']].sum(axis = 1)\n",
    "    \n",
    "Но твой вариант отличный и даже будет работать быстрее на большом количестве данных, молодец!)"
   ]
  },
  {
   "cell_type": "code",
   "execution_count": 18,
   "metadata": {
    "colab": {
     "base_uri": "https://localhost:8080/"
    },
    "id": "299iAeYt3eNu",
    "outputId": "1ae17baf-4769-4c10-8724-4622603277a5"
   },
   "outputs": [
    {
     "data": {
      "text/plain": [
       "name               0.000000\n",
       "platform           0.000000\n",
       "year_of_release    0.000000\n",
       "genre              0.000000\n",
       "na_sales           0.000000\n",
       "eu_sales           0.000000\n",
       "jp_sales           0.000000\n",
       "other_sales        0.000000\n",
       "critic_score       0.514534\n",
       "user_score         0.546157\n",
       "rating             0.000000\n",
       "total_sales        0.000000\n",
       "dtype: float64"
      ]
     },
     "execution_count": 18,
     "metadata": {},
     "output_type": "execute_result"
    }
   ],
   "source": [
    "# доля пропусков \n",
    "games.isna().mean()"
   ]
  },
  {
   "cell_type": "markdown",
   "metadata": {
    "id": "nK35hUZh3hmM"
   },
   "source": [
    "Большое количество пропусков в столбцах Critic_Score — оценка критиков и User_Score — оценка пользователей обусловлены тем, что пользователи или не определились с оценкой, или выгрузка данных была некорректной. \n",
    "\n",
    "Заполнение этих столбцов медианой или средним будет неправильным, так как пропусков больше чем половина данных, удаление тоже не подойдет. Оставим эти столбцы незаполненными. Анализ данных где рейтинг влияет на результаты будем проводить по заполненным данным. "
   ]
  },
  {
   "cell_type": "markdown",
   "metadata": {
    "id": "JUPzcpnO4lHt"
   },
   "source": [
    "По предобработке данных была проделана следующая работа: \n",
    "* Заменены названия столбцов (изменен регистр);\n",
    "* Преобразованы типы данных;\n",
    "* Обработаны пропуски в столбцах `name`, `year_of_release`, `genre`, `rating`\n",
    "* Посчитаны суммарные продажи во всех регионах."
   ]
  },
  {
   "cell_type": "markdown",
   "metadata": {},
   "source": [
    "<div class=\"alert alert-success\">\n",
    "<h2> Комментарий ревьюера <a class=\"tocSkip\"> </h2>\n",
    "\n",
    "<b>Все отлично!👍:</b> \n",
    " \n",
    "Отличный вывод и хорошая предобработка)"
   ]
  },
  {
   "cell_type": "markdown",
   "metadata": {
    "id": "YJ22n0kn8DTp"
   },
   "source": [
    "## Исследовательский анализ данных\n"
   ]
  },
  {
   "cell_type": "markdown",
   "metadata": {
    "id": "SdLAU7flvon6"
   },
   "source": [
    "Задание для исследовательского анализа данных: \n",
    "\n",
    "* [x] Сколько игр выпускалось в разные года, важны ли данные за все периоды?\n",
    "* [x] Изучение изменений продаж по платформам. Выбрать платформы с наибольшими суммарными продажами и построить распределение по годам\n",
    "* [x] Указать за какой характерный срок появляются новые и исчезают старые платформы\n",
    "* [x] Выбрать актуальный период для анализа\n",
    "* [x] Выяснить какие платформы лидеры и оутсайдеры по продажам. Выбрать несколько потенциально прибыльных платформ\n",
    "* [x] Построить график «ящик с усами» по глобальным продажам игр в разбивке по платформам, описать результат\n",
    "* [x] Изучить влияние отзывов пользователей и критиков на продажи внутри одной популярной платформы. Построить диаграмму рассеяния и посчитать корреляцию между отзывами и продажами.\n",
    "* [x] Соотнести выводы с продажами игр на других платформах\n",
    "* [x] Изучить распределение игр по жанрам. Какой самый прибыльный жанр? Выделяются ли жанры с высокими и низкими продажами?"
   ]
  },
  {
   "cell_type": "markdown",
   "metadata": {},
   "source": [
    "### Сколько игр выпускалось в разные года, важны ли данные за все периоды?"
   ]
  },
  {
   "cell_type": "code",
   "execution_count": 19,
   "metadata": {
    "colab": {
     "base_uri": "https://localhost:8080/",
     "height": 281
    },
    "id": "v8f9Up5_YhGy",
    "outputId": "e1096fcd-ec99-4f82-c3e8-bd8dfd149c4d"
   },
   "outputs": [
    {
     "data": {
      "image/png": "[encoded data removed]",
      "text/plain": [
       "<Figure size 432x288 with 1 Axes>"
      ]
     },
     "metadata": {
      "needs_background": "light"
     },
     "output_type": "display_data"
    }
   ],
   "source": [
    "games.plot(y='year_of_release',grid=True,kind='hist',label='year_of_release', bins=37).legend()\n",
    "plt.title('Количество игр по годам')\n",
    "plt.show()"
   ]
  },
  {
   "cell_type": "markdown",
   "metadata": {},
   "source": [
    "<div class=\"alert alert-success\">\n",
    "<h2> Комментарий ревьюера <a class=\"tocSkip\"> </h2>\n",
    "\n",
    "<b>Все отлично!👍:</b> \n",
    " \n",
    "Отлично, что ты построила график с указанием bins=37 для наглядности)) Ловко ты это придумала)\n"
   ]
  },
  {
   "cell_type": "markdown",
   "metadata": {},
   "source": [
    "<div class=\"alert alert-warning\">\n",
    "<h2> Комментарий ревьюера <a class=\"tocSkip\"></h2>\n",
    "    \n",
    "    \n",
    "<b>Некоторые замечания и рекомендации💡:</b> \n",
    "    \n",
    "Единственное, что хочу заметить для данного графика, что гистограмма или .count по годам посчитают число выпущенных игр на всех консолях. Т.е. если игра вышла на 1 консоли - 1 игра, а если вышла на 5 консолях - 5 игр. Это к вопросу о дубликатов игра-платформа)) \n",
    "    \n",
    "Получается, все зависит от того, что мы будем считать выпуском игры)    \n",
    "    \n",
    "</div>"
   ]
  },
  {
   "cell_type": "code",
   "execution_count": 20,
   "metadata": {
    "colab": {
     "base_uri": "https://localhost:8080/",
     "height": 1000
    },
    "id": "V5Ylsa4lc6bM",
    "outputId": "b24c4c88-4f54-404f-cd6a-32ab9ccf07ee"
   },
   "outputs": [
    {
     "data": {
      "text/html": [
       "<div>\n",
       "<style scoped>\n",
       "    .dataframe tbody tr th:only-of-type {\n",
       "        vertical-align: middle;\n",
       "    }\n",
       "\n",
       "    .dataframe tbody tr th {\n",
       "        vertical-align: top;\n",
       "    }\n",
       "\n",
       "    .dataframe thead th {\n",
       "        text-align: right;\n",
       "    }\n",
       "</style>\n",
       "<table border=\"1\" class=\"dataframe\">\n",
       "  <thead>\n",
       "    <tr style=\"text-align: right;\">\n",
       "      <th></th>\n",
       "      <th>year_of_release</th>\n",
       "      <th>platform</th>\n",
       "    </tr>\n",
       "  </thead>\n",
       "  <tbody>\n",
       "    <tr>\n",
       "      <th>0</th>\n",
       "      <td>1980</td>\n",
       "      <td>9</td>\n",
       "    </tr>\n",
       "    <tr>\n",
       "      <th>1</th>\n",
       "      <td>1981</td>\n",
       "      <td>46</td>\n",
       "    </tr>\n",
       "    <tr>\n",
       "      <th>2</th>\n",
       "      <td>1982</td>\n",
       "      <td>36</td>\n",
       "    </tr>\n",
       "    <tr>\n",
       "      <th>3</th>\n",
       "      <td>1983</td>\n",
       "      <td>17</td>\n",
       "    </tr>\n",
       "    <tr>\n",
       "      <th>4</th>\n",
       "      <td>1984</td>\n",
       "      <td>14</td>\n",
       "    </tr>\n",
       "    <tr>\n",
       "      <th>5</th>\n",
       "      <td>1985</td>\n",
       "      <td>14</td>\n",
       "    </tr>\n",
       "    <tr>\n",
       "      <th>6</th>\n",
       "      <td>1986</td>\n",
       "      <td>21</td>\n",
       "    </tr>\n",
       "    <tr>\n",
       "      <th>7</th>\n",
       "      <td>1987</td>\n",
       "      <td>16</td>\n",
       "    </tr>\n",
       "    <tr>\n",
       "      <th>8</th>\n",
       "      <td>1988</td>\n",
       "      <td>15</td>\n",
       "    </tr>\n",
       "    <tr>\n",
       "      <th>9</th>\n",
       "      <td>1989</td>\n",
       "      <td>17</td>\n",
       "    </tr>\n",
       "    <tr>\n",
       "      <th>10</th>\n",
       "      <td>1990</td>\n",
       "      <td>16</td>\n",
       "    </tr>\n",
       "    <tr>\n",
       "      <th>11</th>\n",
       "      <td>1991</td>\n",
       "      <td>41</td>\n",
       "    </tr>\n",
       "    <tr>\n",
       "      <th>12</th>\n",
       "      <td>1992</td>\n",
       "      <td>43</td>\n",
       "    </tr>\n",
       "    <tr>\n",
       "      <th>13</th>\n",
       "      <td>1993</td>\n",
       "      <td>60</td>\n",
       "    </tr>\n",
       "    <tr>\n",
       "      <th>14</th>\n",
       "      <td>1994</td>\n",
       "      <td>121</td>\n",
       "    </tr>\n",
       "    <tr>\n",
       "      <th>15</th>\n",
       "      <td>1995</td>\n",
       "      <td>219</td>\n",
       "    </tr>\n",
       "    <tr>\n",
       "      <th>16</th>\n",
       "      <td>1996</td>\n",
       "      <td>263</td>\n",
       "    </tr>\n",
       "    <tr>\n",
       "      <th>17</th>\n",
       "      <td>1997</td>\n",
       "      <td>289</td>\n",
       "    </tr>\n",
       "    <tr>\n",
       "      <th>18</th>\n",
       "      <td>1998</td>\n",
       "      <td>379</td>\n",
       "    </tr>\n",
       "    <tr>\n",
       "      <th>19</th>\n",
       "      <td>1999</td>\n",
       "      <td>338</td>\n",
       "    </tr>\n",
       "    <tr>\n",
       "      <th>20</th>\n",
       "      <td>2000</td>\n",
       "      <td>350</td>\n",
       "    </tr>\n",
       "    <tr>\n",
       "      <th>21</th>\n",
       "      <td>2001</td>\n",
       "      <td>482</td>\n",
       "    </tr>\n",
       "    <tr>\n",
       "      <th>22</th>\n",
       "      <td>2002</td>\n",
       "      <td>829</td>\n",
       "    </tr>\n",
       "    <tr>\n",
       "      <th>23</th>\n",
       "      <td>2003</td>\n",
       "      <td>775</td>\n",
       "    </tr>\n",
       "    <tr>\n",
       "      <th>24</th>\n",
       "      <td>2004</td>\n",
       "      <td>762</td>\n",
       "    </tr>\n",
       "    <tr>\n",
       "      <th>25</th>\n",
       "      <td>2005</td>\n",
       "      <td>939</td>\n",
       "    </tr>\n",
       "    <tr>\n",
       "      <th>26</th>\n",
       "      <td>2006</td>\n",
       "      <td>1006</td>\n",
       "    </tr>\n",
       "    <tr>\n",
       "      <th>27</th>\n",
       "      <td>2007</td>\n",
       "      <td>1197</td>\n",
       "    </tr>\n",
       "    <tr>\n",
       "      <th>28</th>\n",
       "      <td>2008</td>\n",
       "      <td>1427</td>\n",
       "    </tr>\n",
       "    <tr>\n",
       "      <th>29</th>\n",
       "      <td>2009</td>\n",
       "      <td>1426</td>\n",
       "    </tr>\n",
       "    <tr>\n",
       "      <th>30</th>\n",
       "      <td>2010</td>\n",
       "      <td>1255</td>\n",
       "    </tr>\n",
       "    <tr>\n",
       "      <th>31</th>\n",
       "      <td>2011</td>\n",
       "      <td>1136</td>\n",
       "    </tr>\n",
       "    <tr>\n",
       "      <th>32</th>\n",
       "      <td>2012</td>\n",
       "      <td>653</td>\n",
       "    </tr>\n",
       "    <tr>\n",
       "      <th>33</th>\n",
       "      <td>2013</td>\n",
       "      <td>544</td>\n",
       "    </tr>\n",
       "    <tr>\n",
       "      <th>34</th>\n",
       "      <td>2014</td>\n",
       "      <td>581</td>\n",
       "    </tr>\n",
       "    <tr>\n",
       "      <th>35</th>\n",
       "      <td>2015</td>\n",
       "      <td>606</td>\n",
       "    </tr>\n",
       "    <tr>\n",
       "      <th>36</th>\n",
       "      <td>2016</td>\n",
       "      <td>502</td>\n",
       "    </tr>\n",
       "  </tbody>\n",
       "</table>\n",
       "</div>"
      ],
      "text/plain": [
       "    year_of_release  platform\n",
       "0              1980         9\n",
       "1              1981        46\n",
       "2              1982        36\n",
       "3              1983        17\n",
       "4              1984        14\n",
       "5              1985        14\n",
       "6              1986        21\n",
       "7              1987        16\n",
       "8              1988        15\n",
       "9              1989        17\n",
       "10             1990        16\n",
       "11             1991        41\n",
       "12             1992        43\n",
       "13             1993        60\n",
       "14             1994       121\n",
       "15             1995       219\n",
       "16             1996       263\n",
       "17             1997       289\n",
       "18             1998       379\n",
       "19             1999       338\n",
       "20             2000       350\n",
       "21             2001       482\n",
       "22             2002       829\n",
       "23             2003       775\n",
       "24             2004       762\n",
       "25             2005       939\n",
       "26             2006      1006\n",
       "27             2007      1197\n",
       "28             2008      1427\n",
       "29             2009      1426\n",
       "30             2010      1255\n",
       "31             2011      1136\n",
       "32             2012       653\n",
       "33             2013       544\n",
       "34             2014       581\n",
       "35             2015       606\n",
       "36             2016       502"
      ]
     },
     "execution_count": 20,
     "metadata": {},
     "output_type": "execute_result"
    }
   ],
   "source": [
    "games.groupby('year_of_release').agg({'platform':'count'}).reset_index().sort_values(by='year_of_release', ascending=True)"
   ]
  },
  {
   "cell_type": "markdown",
   "metadata": {
    "id": "I6UKNcmrhmpx"
   },
   "source": [
    "По графику и таблице можно выявить закономерность, что до 94 года был медленный рост, связано это с медленным развитием ИТ технологиями и виеопроцессоров. После 94 года видим резкий рост в 2 раза и последующий тренд на увеличение выпуска игр, из за высокого развития сферы ИТ, заканчивается период спадом в 2010 году и стагнацией на примерно одном уровне в 12-16 годах на отметке 600 игр в год. Вероятно, спад обусловлен развитием мобильных технологий, и смещением фокуса на эту сферу.\n",
    "\n",
    "Для анализа индустрии выпуска игр нужно брать период с 12 года"
   ]
  },
  {
   "cell_type": "markdown",
   "metadata": {},
   "source": [
    "### Изучение изменений продаж по платформам. Выбрать платформы с наибольшими суммарными продажами и построить распределение по годам"
   ]
  },
  {
   "cell_type": "code",
   "execution_count": 21,
   "metadata": {
    "colab": {
     "base_uri": "https://localhost:8080/",
     "height": 532
    },
    "id": "QVYQ016pn0ob",
    "outputId": "2686b571-e42e-4df5-c85a-955626613c1e"
   },
   "outputs": [
    {
     "data": {
      "image/png": "[encoded data removed]",
      "text/plain": [
       "<Figure size 432x288 with 1 Axes>"
      ]
     },
     "metadata": {
      "needs_background": "light"
     },
     "output_type": "display_data"
    },
    {
     "data": {
      "text/html": [
       "<div>\n",
       "<style scoped>\n",
       "    .dataframe tbody tr th:only-of-type {\n",
       "        vertical-align: middle;\n",
       "    }\n",
       "\n",
       "    .dataframe tbody tr th {\n",
       "        vertical-align: top;\n",
       "    }\n",
       "\n",
       "    .dataframe thead th {\n",
       "        text-align: right;\n",
       "    }\n",
       "</style>\n",
       "<table border=\"1\" class=\"dataframe\">\n",
       "  <thead>\n",
       "    <tr style=\"text-align: right;\">\n",
       "      <th></th>\n",
       "      <th>total_sales</th>\n",
       "    </tr>\n",
       "    <tr>\n",
       "      <th>platform</th>\n",
       "      <th></th>\n",
       "    </tr>\n",
       "  </thead>\n",
       "  <tbody>\n",
       "    <tr>\n",
       "      <th>PS2</th>\n",
       "      <td>1233.56</td>\n",
       "    </tr>\n",
       "    <tr>\n",
       "      <th>X360</th>\n",
       "      <td>961.24</td>\n",
       "    </tr>\n",
       "    <tr>\n",
       "      <th>PS3</th>\n",
       "      <td>931.34</td>\n",
       "    </tr>\n",
       "    <tr>\n",
       "      <th>Wii</th>\n",
       "      <td>891.18</td>\n",
       "    </tr>\n",
       "    <tr>\n",
       "      <th>DS</th>\n",
       "      <td>802.78</td>\n",
       "    </tr>\n",
       "  </tbody>\n",
       "</table>\n",
       "</div>"
      ],
      "text/plain": [
       "          total_sales\n",
       "platform             \n",
       "PS2           1233.56\n",
       "X360           961.24\n",
       "PS3            931.34\n",
       "Wii            891.18\n",
       "DS             802.78"
      ]
     },
     "execution_count": 21,
     "metadata": {},
     "output_type": "execute_result"
    }
   ],
   "source": [
    "games.groupby('platform').agg({'total_sales':'sum'}).sort_values(by='total_sales', ascending=False).plot(kind='bar', \n",
    "                                    y='total_sales', \n",
    "                                    grid=True,\n",
    "                                    title='Продажи по платформам, млн $')\n",
    "\n",
    "plt.show()\n",
    "\n",
    "games.groupby('platform').agg({'total_sales':'sum'}).sort_values(by='total_sales', ascending=False).head()"
   ]
  },
  {
   "cell_type": "code",
   "execution_count": 22,
   "metadata": {},
   "outputs": [
    {
     "data": {
      "text/html": [
       "<div>\n",
       "<style scoped>\n",
       "    .dataframe tbody tr th:only-of-type {\n",
       "        vertical-align: middle;\n",
       "    }\n",
       "\n",
       "    .dataframe tbody tr th {\n",
       "        vertical-align: top;\n",
       "    }\n",
       "\n",
       "    .dataframe thead th {\n",
       "        text-align: right;\n",
       "    }\n",
       "</style>\n",
       "<table border=\"1\" class=\"dataframe\">\n",
       "  <thead>\n",
       "    <tr style=\"text-align: right;\">\n",
       "      <th>year_of_release</th>\n",
       "      <th>2000</th>\n",
       "      <th>2001</th>\n",
       "      <th>2002</th>\n",
       "      <th>2003</th>\n",
       "      <th>2004</th>\n",
       "      <th>2005</th>\n",
       "      <th>2006</th>\n",
       "      <th>2007</th>\n",
       "      <th>2008</th>\n",
       "      <th>2009</th>\n",
       "      <th>2010</th>\n",
       "      <th>2011</th>\n",
       "      <th>2012</th>\n",
       "      <th>2013</th>\n",
       "      <th>2014</th>\n",
       "      <th>2015</th>\n",
       "      <th>2016</th>\n",
       "    </tr>\n",
       "    <tr>\n",
       "      <th>platform</th>\n",
       "      <th></th>\n",
       "      <th></th>\n",
       "      <th></th>\n",
       "      <th></th>\n",
       "      <th></th>\n",
       "      <th></th>\n",
       "      <th></th>\n",
       "      <th></th>\n",
       "      <th></th>\n",
       "      <th></th>\n",
       "      <th></th>\n",
       "      <th></th>\n",
       "      <th></th>\n",
       "      <th></th>\n",
       "      <th></th>\n",
       "      <th></th>\n",
       "      <th></th>\n",
       "    </tr>\n",
       "  </thead>\n",
       "  <tbody>\n",
       "    <tr>\n",
       "      <th>PS2</th>\n",
       "      <td>39.17</td>\n",
       "      <td>166.43</td>\n",
       "      <td>205.38</td>\n",
       "      <td>184.31</td>\n",
       "      <td>211.81</td>\n",
       "      <td>160.66</td>\n",
       "      <td>103.42</td>\n",
       "      <td>75.99</td>\n",
       "      <td>53.90</td>\n",
       "      <td>26.40</td>\n",
       "      <td>5.64</td>\n",
       "      <td>0.45</td>\n",
       "      <td>NaN</td>\n",
       "      <td>NaN</td>\n",
       "      <td>NaN</td>\n",
       "      <td>NaN</td>\n",
       "      <td>NaN</td>\n",
       "    </tr>\n",
       "    <tr>\n",
       "      <th>X360</th>\n",
       "      <td>NaN</td>\n",
       "      <td>NaN</td>\n",
       "      <td>NaN</td>\n",
       "      <td>NaN</td>\n",
       "      <td>NaN</td>\n",
       "      <td>8.25</td>\n",
       "      <td>51.62</td>\n",
       "      <td>95.41</td>\n",
       "      <td>135.26</td>\n",
       "      <td>120.29</td>\n",
       "      <td>170.03</td>\n",
       "      <td>143.84</td>\n",
       "      <td>99.74</td>\n",
       "      <td>88.58</td>\n",
       "      <td>34.74</td>\n",
       "      <td>11.96</td>\n",
       "      <td>1.52</td>\n",
       "    </tr>\n",
       "    <tr>\n",
       "      <th>PS3</th>\n",
       "      <td>NaN</td>\n",
       "      <td>NaN</td>\n",
       "      <td>NaN</td>\n",
       "      <td>NaN</td>\n",
       "      <td>NaN</td>\n",
       "      <td>NaN</td>\n",
       "      <td>20.96</td>\n",
       "      <td>73.19</td>\n",
       "      <td>118.52</td>\n",
       "      <td>130.93</td>\n",
       "      <td>142.17</td>\n",
       "      <td>156.78</td>\n",
       "      <td>107.36</td>\n",
       "      <td>113.25</td>\n",
       "      <td>47.76</td>\n",
       "      <td>16.82</td>\n",
       "      <td>3.60</td>\n",
       "    </tr>\n",
       "    <tr>\n",
       "      <th>Wii</th>\n",
       "      <td>NaN</td>\n",
       "      <td>NaN</td>\n",
       "      <td>NaN</td>\n",
       "      <td>NaN</td>\n",
       "      <td>NaN</td>\n",
       "      <td>NaN</td>\n",
       "      <td>137.15</td>\n",
       "      <td>152.77</td>\n",
       "      <td>171.32</td>\n",
       "      <td>206.97</td>\n",
       "      <td>127.95</td>\n",
       "      <td>59.65</td>\n",
       "      <td>21.71</td>\n",
       "      <td>8.59</td>\n",
       "      <td>3.75</td>\n",
       "      <td>1.14</td>\n",
       "      <td>0.18</td>\n",
       "    </tr>\n",
       "    <tr>\n",
       "      <th>DS</th>\n",
       "      <td>NaN</td>\n",
       "      <td>NaN</td>\n",
       "      <td>NaN</td>\n",
       "      <td>NaN</td>\n",
       "      <td>17.27</td>\n",
       "      <td>130.14</td>\n",
       "      <td>119.81</td>\n",
       "      <td>146.94</td>\n",
       "      <td>145.31</td>\n",
       "      <td>119.54</td>\n",
       "      <td>85.02</td>\n",
       "      <td>26.18</td>\n",
       "      <td>11.01</td>\n",
       "      <td>1.54</td>\n",
       "      <td>NaN</td>\n",
       "      <td>NaN</td>\n",
       "      <td>NaN</td>\n",
       "    </tr>\n",
       "  </tbody>\n",
       "</table>\n",
       "</div>"
      ],
      "text/plain": [
       "year_of_release   2000    2001    2002    2003    2004    2005    2006  \\\n",
       "platform                                                                 \n",
       "PS2              39.17  166.43  205.38  184.31  211.81  160.66  103.42   \n",
       "X360               NaN     NaN     NaN     NaN     NaN    8.25   51.62   \n",
       "PS3                NaN     NaN     NaN     NaN     NaN     NaN   20.96   \n",
       "Wii                NaN     NaN     NaN     NaN     NaN     NaN  137.15   \n",
       "DS                 NaN     NaN     NaN     NaN   17.27  130.14  119.81   \n",
       "\n",
       "year_of_release    2007    2008    2009    2010    2011    2012    2013  \\\n",
       "platform                                                                  \n",
       "PS2               75.99   53.90   26.40    5.64    0.45     NaN     NaN   \n",
       "X360              95.41  135.26  120.29  170.03  143.84   99.74   88.58   \n",
       "PS3               73.19  118.52  130.93  142.17  156.78  107.36  113.25   \n",
       "Wii              152.77  171.32  206.97  127.95   59.65   21.71    8.59   \n",
       "DS               146.94  145.31  119.54   85.02   26.18   11.01    1.54   \n",
       "\n",
       "year_of_release   2014   2015  2016  \n",
       "platform                             \n",
       "PS2                NaN    NaN   NaN  \n",
       "X360             34.74  11.96  1.52  \n",
       "PS3              47.76  16.82  3.60  \n",
       "Wii               3.75   1.14  0.18  \n",
       "DS                 NaN    NaN   NaN  "
      ]
     },
     "execution_count": 22,
     "metadata": {},
     "output_type": "execute_result"
    }
   ],
   "source": [
    "# ограничим год 2000 - в этом году появилась PS2\n",
    "games_2000 = games.query('year_of_release >= 2000')\n",
    "games_po_godam = pd.pivot_table(data=games_2000,\n",
    "               index=['platform'],\n",
    "               columns=['year_of_release'],\n",
    "               values = ('total_sales'), \n",
    "               aggfunc = ('sum'),\n",
    "               margins=True).sort_values(by='All', ascending=False).head(6)\n",
    "games_po_godam = games_po_godam.query('platform != \"All\"').drop(columns = ['All'],axis = 1)\n",
    "games_po_godam"
   ]
  },
  {
   "cell_type": "code",
   "execution_count": 23,
   "metadata": {},
   "outputs": [
    {
     "data": {
      "image/png": "[encoded data removed]",
      "text/plain": [
       "<Figure size 1440x720 with 1 Axes>"
      ]
     },
     "metadata": {
      "needs_background": "light"
     },
     "output_type": "display_data"
    }
   ],
   "source": [
    "year = games_2000['year_of_release'].unique()\n",
    "\n",
    "\n",
    "fig, ax = plt.subplots(figsize=(20,10))\n",
    "games_po_godam.T.plot(kind='line', ax=ax, grid=True, xticks=year)\n",
    "plt.ylabel('total_sales')\n",
    "plt.xlabel('year_of_release')\n",
    "plt.title('Распределение продаж игр по годам')\n",
    "plt.show()\n"
   ]
  },
  {
   "cell_type": "markdown",
   "metadata": {
    "id": "j-gsxah_tLn8"
   },
   "source": [
    "Судя по графику и таблице победитель по суммарным продажам это PS2, X360, PS3, Wii, DS. Мы делали график и таблицу по всем годам, но следует взять в расчет актуальный период для анализа, тк в топе есть консоли которые неплохо так устарели. Актуальным будем считать анализ с 2012 года. "
   ]
  },
  {
   "cell_type": "markdown",
   "metadata": {},
   "source": [
    "<div class=\"alert alert-block alert-danger\">\n",
    "<h2> Комментарий ревьюера <a class=\"tocSkip\"></h2>\n",
    "\n",
    "    \n",
    "<b>На доработку🤔:</b>\n",
    "\n",
    "Все в правильном направлении, но немного не доделала: В задании еще сказанно построить распределение суммарных продаж по годам для выбранных тобой платформ.\n",
    "    \n",
    "</div>"
   ]
  },
  {
   "cell_type": "markdown",
   "metadata": {},
   "source": [
    "<div style=\"border-radius: 3px; border: 2px solid black; padding: 0px;\"> \n",
    "<div class=\"alert alert-block alert-info\">\n",
    "<h2>Комментарий студента</h2>\n",
    "   Готово\n",
    "</div> \n",
    "</div>"
   ]
  },
  {
   "cell_type": "markdown",
   "metadata": {},
   "source": [
    "### Указать за какой характерный срок появляются новые и исчезают старые платформы"
   ]
  },
  {
   "cell_type": "code",
   "execution_count": 24,
   "metadata": {
    "colab": {
     "base_uri": "https://localhost:8080/"
    },
    "id": "XYKl-PIbBmst",
    "outputId": "5890f0f7-82bc-432f-a309-bf89c9a60af5"
   },
   "outputs": [
    {
     "data": {
      "text/plain": [
       "7.0"
      ]
     },
     "execution_count": 24,
     "metadata": {},
     "output_type": "execute_result"
    }
   ],
   "source": [
    "games_years = pd.pivot_table(data=games,\n",
    "               index= ['year_of_release'],\n",
    "               columns= ['platform'],\n",
    "               values = ('total_sales'), \n",
    "               aggfunc = ('sum'))\n",
    "\n",
    "games_years.count().median()"
   ]
  },
  {
   "cell_type": "markdown",
   "metadata": {
    "id": "I0RDZpZXLn-K"
   },
   "source": [
    "Срок жизни платформ в среднем 7 лет.  Именно столько служит приставка, и в такой срок получает обновления. "
   ]
  },
  {
   "cell_type": "markdown",
   "metadata": {},
   "source": [
    "<div class=\"alert alert-warning\">\n",
    "<h2> Комментарий ревьюера <a class=\"tocSkip\"></h2>\n",
    "    \n",
    "<b>Некоторые замечания и рекомендации💡:</b> \n",
    "    \n",
    "Хорошее наблюдение, только насколько ты можешь быть увернна, что суммарный срок подходит дял анализа? Например PC служит значительно дольше остальных платформ. Попробуй лучше построить анализ для отдельно выбранных платформ) \n",
    "    \n",
    "(или попроуьй взять медиану)\n",
    "    \n",
    "</div>"
   ]
  },
  {
   "cell_type": "markdown",
   "metadata": {},
   "source": [
    "<div style=\"border-radius: 3px; border: 2px solid black; padding: 0px;\"> \n",
    "<div class=\"alert alert-block alert-info\">\n",
    "<h2>Комментарий студента желтый исправить</h2>\n",
    "   переделала на медиану\n",
    "</div> \n",
    "</div>"
   ]
  },
  {
   "cell_type": "markdown",
   "metadata": {},
   "source": [
    "### Выяснить какие платформы лидеры и оутсайдеры по продажам. Выбрать несколько потенциально прибыльных платформ"
   ]
  },
  {
   "cell_type": "code",
   "execution_count": 25,
   "metadata": {
    "colab": {
     "base_uri": "https://localhost:8080/",
     "height": 457
    },
    "id": "JP82SampuVY5",
    "outputId": "cf0ea183-5937-4c14-9cf2-74410ad1498d"
   },
   "outputs": [
    {
     "data": {
      "text/html": [
       "<div>\n",
       "<style scoped>\n",
       "    .dataframe tbody tr th:only-of-type {\n",
       "        vertical-align: middle;\n",
       "    }\n",
       "\n",
       "    .dataframe tbody tr th {\n",
       "        vertical-align: top;\n",
       "    }\n",
       "\n",
       "    .dataframe thead th {\n",
       "        text-align: right;\n",
       "    }\n",
       "</style>\n",
       "<table border=\"1\" class=\"dataframe\">\n",
       "  <thead>\n",
       "    <tr style=\"text-align: right;\">\n",
       "      <th>year_of_release</th>\n",
       "      <th>2012</th>\n",
       "      <th>2013</th>\n",
       "      <th>2014</th>\n",
       "      <th>2015</th>\n",
       "      <th>2016</th>\n",
       "      <th>All</th>\n",
       "    </tr>\n",
       "    <tr>\n",
       "      <th>platform</th>\n",
       "      <th></th>\n",
       "      <th></th>\n",
       "      <th></th>\n",
       "      <th></th>\n",
       "      <th></th>\n",
       "      <th></th>\n",
       "    </tr>\n",
       "  </thead>\n",
       "  <tbody>\n",
       "    <tr>\n",
       "      <th>All</th>\n",
       "      <td>355.84</td>\n",
       "      <td>361.24</td>\n",
       "      <td>331.53</td>\n",
       "      <td>267.98</td>\n",
       "      <td>129.94</td>\n",
       "      <td>1446.53</td>\n",
       "    </tr>\n",
       "    <tr>\n",
       "      <th>PS4</th>\n",
       "      <td>NaN</td>\n",
       "      <td>25.99</td>\n",
       "      <td>100.00</td>\n",
       "      <td>118.90</td>\n",
       "      <td>69.25</td>\n",
       "      <td>314.14</td>\n",
       "    </tr>\n",
       "    <tr>\n",
       "      <th>PS3</th>\n",
       "      <td>107.36</td>\n",
       "      <td>113.25</td>\n",
       "      <td>47.76</td>\n",
       "      <td>16.82</td>\n",
       "      <td>3.60</td>\n",
       "      <td>288.79</td>\n",
       "    </tr>\n",
       "    <tr>\n",
       "      <th>X360</th>\n",
       "      <td>99.74</td>\n",
       "      <td>88.58</td>\n",
       "      <td>34.74</td>\n",
       "      <td>11.96</td>\n",
       "      <td>1.52</td>\n",
       "      <td>236.54</td>\n",
       "    </tr>\n",
       "    <tr>\n",
       "      <th>3DS</th>\n",
       "      <td>51.36</td>\n",
       "      <td>56.57</td>\n",
       "      <td>43.76</td>\n",
       "      <td>27.78</td>\n",
       "      <td>15.14</td>\n",
       "      <td>194.61</td>\n",
       "    </tr>\n",
       "    <tr>\n",
       "      <th>XOne</th>\n",
       "      <td>NaN</td>\n",
       "      <td>18.96</td>\n",
       "      <td>54.07</td>\n",
       "      <td>60.14</td>\n",
       "      <td>26.15</td>\n",
       "      <td>159.32</td>\n",
       "    </tr>\n",
       "    <tr>\n",
       "      <th>WiiU</th>\n",
       "      <td>17.56</td>\n",
       "      <td>21.65</td>\n",
       "      <td>22.03</td>\n",
       "      <td>16.35</td>\n",
       "      <td>4.60</td>\n",
       "      <td>82.19</td>\n",
       "    </tr>\n",
       "    <tr>\n",
       "      <th>PC</th>\n",
       "      <td>23.22</td>\n",
       "      <td>12.38</td>\n",
       "      <td>13.28</td>\n",
       "      <td>8.52</td>\n",
       "      <td>5.25</td>\n",
       "      <td>62.65</td>\n",
       "    </tr>\n",
       "    <tr>\n",
       "      <th>PSV</th>\n",
       "      <td>16.19</td>\n",
       "      <td>10.59</td>\n",
       "      <td>11.90</td>\n",
       "      <td>6.25</td>\n",
       "      <td>4.25</td>\n",
       "      <td>49.18</td>\n",
       "    </tr>\n",
       "    <tr>\n",
       "      <th>Wii</th>\n",
       "      <td>21.71</td>\n",
       "      <td>8.59</td>\n",
       "      <td>3.75</td>\n",
       "      <td>1.14</td>\n",
       "      <td>0.18</td>\n",
       "      <td>35.37</td>\n",
       "    </tr>\n",
       "    <tr>\n",
       "      <th>DS</th>\n",
       "      <td>11.01</td>\n",
       "      <td>1.54</td>\n",
       "      <td>NaN</td>\n",
       "      <td>NaN</td>\n",
       "      <td>NaN</td>\n",
       "      <td>12.55</td>\n",
       "    </tr>\n",
       "    <tr>\n",
       "      <th>PSP</th>\n",
       "      <td>7.69</td>\n",
       "      <td>3.14</td>\n",
       "      <td>0.24</td>\n",
       "      <td>0.12</td>\n",
       "      <td>NaN</td>\n",
       "      <td>11.19</td>\n",
       "    </tr>\n",
       "  </tbody>\n",
       "</table>\n",
       "</div>"
      ],
      "text/plain": [
       "year_of_release    2012    2013    2014    2015    2016      All\n",
       "platform                                                        \n",
       "All              355.84  361.24  331.53  267.98  129.94  1446.53\n",
       "PS4                 NaN   25.99  100.00  118.90   69.25   314.14\n",
       "PS3              107.36  113.25   47.76   16.82    3.60   288.79\n",
       "X360              99.74   88.58   34.74   11.96    1.52   236.54\n",
       "3DS               51.36   56.57   43.76   27.78   15.14   194.61\n",
       "XOne                NaN   18.96   54.07   60.14   26.15   159.32\n",
       "WiiU              17.56   21.65   22.03   16.35    4.60    82.19\n",
       "PC                23.22   12.38   13.28    8.52    5.25    62.65\n",
       "PSV               16.19   10.59   11.90    6.25    4.25    49.18\n",
       "Wii               21.71    8.59    3.75    1.14    0.18    35.37\n",
       "DS                11.01    1.54     NaN     NaN     NaN    12.55\n",
       "PSP                7.69    3.14    0.24    0.12     NaN    11.19"
      ]
     },
     "execution_count": 25,
     "metadata": {},
     "output_type": "execute_result"
    }
   ],
   "source": [
    "games_2012 = games.query('year_of_release >= 2012')\n",
    "pd.pivot_table(data=games_2012,\n",
    "               index=['platform'],\n",
    "               columns=['year_of_release'],\n",
    "               values = ('total_sales'), \n",
    "               aggfunc = ('sum'),\n",
    "               margins=True).sort_values(by='All', ascending=False)"
   ]
  },
  {
   "cell_type": "markdown",
   "metadata": {
    "id": "HtobyYe-Cdqv"
   },
   "source": [
    "После отбора актуального периода для анализа список лидеров поменялся:\n",
    "\n",
    "* PS4 - выпущена в 2013 году, является актуальной консолью и стала лидером по сумме продаж;\n",
    "* PS3 - хоть и вышла в 2006 году, после нового покаления приставки сдает позиции;\n",
    "* X360 - вышла в 2005 году, пока остается в топе, но продажи падают из года в год;\n",
    "* 3DS - портативная консоль 2011 года, сдает позиции не так быстро как другие платформы;\n",
    "* XOne - вышла в 2013 на замену X360, продажи растут.\n",
    "\n",
    "Прибыльные платформы: PS4, XOne, 3DS. \n",
    "Первые 2 платформы новые и на них вероятно выпускают больше всего игр. PC живет гораздо дольше приставок, его тоже рассмотрим в дальнейшем анализе."
   ]
  },
  {
   "cell_type": "markdown",
   "metadata": {},
   "source": [
    "<div class=\"alert alert-warning\">\n",
    "<h2> Комментарий ревьюера <a class=\"tocSkip\"></h2>\n",
    "    \n",
    "<b>Некоторые замечания и рекомендации💡:</b> \n",
    "    \n",
    "Для целей прогнозирования продаж на следующий год даже в традиционных бизнесах редко берут данные более чем за 2-3 года. А в такой динамично меняющейся индустрии, как компьютерные игры и вовсе не стоит брать слишком большой временной интервал - иначе обязательно захватишь уже отжившие тренды. Но и слишком короткий период тоже брать не стоит."
   ]
  },
  {
   "cell_type": "code",
   "execution_count": 26,
   "metadata": {
    "colab": {
     "base_uri": "https://localhost:8080/",
     "height": 457
    },
    "id": "deWU-88KE8cq",
    "outputId": "b15411c5-5a6b-4f69-d940-4aa0987e6553"
   },
   "outputs": [
    {
     "data": {
      "text/html": [
       "<div>\n",
       "<style scoped>\n",
       "    .dataframe tbody tr th:only-of-type {\n",
       "        vertical-align: middle;\n",
       "    }\n",
       "\n",
       "    .dataframe tbody tr th {\n",
       "        vertical-align: top;\n",
       "    }\n",
       "\n",
       "    .dataframe thead th {\n",
       "        text-align: right;\n",
       "    }\n",
       "</style>\n",
       "<table border=\"1\" class=\"dataframe\">\n",
       "  <thead>\n",
       "    <tr style=\"text-align: right;\">\n",
       "      <th>year_of_release</th>\n",
       "      <th>2012</th>\n",
       "      <th>2013</th>\n",
       "      <th>2014</th>\n",
       "      <th>2015</th>\n",
       "      <th>2016</th>\n",
       "      <th>All</th>\n",
       "    </tr>\n",
       "    <tr>\n",
       "      <th>platform</th>\n",
       "      <th></th>\n",
       "      <th></th>\n",
       "      <th></th>\n",
       "      <th></th>\n",
       "      <th></th>\n",
       "      <th></th>\n",
       "    </tr>\n",
       "  </thead>\n",
       "  <tbody>\n",
       "    <tr>\n",
       "      <th>All</th>\n",
       "      <td>653.0</td>\n",
       "      <td>544.0</td>\n",
       "      <td>581.0</td>\n",
       "      <td>606.0</td>\n",
       "      <td>502.0</td>\n",
       "      <td>2886</td>\n",
       "    </tr>\n",
       "    <tr>\n",
       "      <th>PS3</th>\n",
       "      <td>148.0</td>\n",
       "      <td>126.0</td>\n",
       "      <td>108.0</td>\n",
       "      <td>73.0</td>\n",
       "      <td>38.0</td>\n",
       "      <td>493</td>\n",
       "    </tr>\n",
       "    <tr>\n",
       "      <th>PSV</th>\n",
       "      <td>53.0</td>\n",
       "      <td>63.0</td>\n",
       "      <td>100.0</td>\n",
       "      <td>110.0</td>\n",
       "      <td>85.0</td>\n",
       "      <td>411</td>\n",
       "    </tr>\n",
       "    <tr>\n",
       "      <th>3DS</th>\n",
       "      <td>93.0</td>\n",
       "      <td>91.0</td>\n",
       "      <td>80.0</td>\n",
       "      <td>86.0</td>\n",
       "      <td>46.0</td>\n",
       "      <td>396</td>\n",
       "    </tr>\n",
       "    <tr>\n",
       "      <th>PS4</th>\n",
       "      <td>NaN</td>\n",
       "      <td>16.0</td>\n",
       "      <td>75.0</td>\n",
       "      <td>137.0</td>\n",
       "      <td>164.0</td>\n",
       "      <td>392</td>\n",
       "    </tr>\n",
       "    <tr>\n",
       "      <th>X360</th>\n",
       "      <td>106.0</td>\n",
       "      <td>75.0</td>\n",
       "      <td>63.0</td>\n",
       "      <td>35.0</td>\n",
       "      <td>13.0</td>\n",
       "      <td>292</td>\n",
       "    </tr>\n",
       "    <tr>\n",
       "      <th>PC</th>\n",
       "      <td>61.0</td>\n",
       "      <td>38.0</td>\n",
       "      <td>47.0</td>\n",
       "      <td>50.0</td>\n",
       "      <td>54.0</td>\n",
       "      <td>250</td>\n",
       "    </tr>\n",
       "    <tr>\n",
       "      <th>XOne</th>\n",
       "      <td>NaN</td>\n",
       "      <td>19.0</td>\n",
       "      <td>61.0</td>\n",
       "      <td>80.0</td>\n",
       "      <td>87.0</td>\n",
       "      <td>247</td>\n",
       "    </tr>\n",
       "    <tr>\n",
       "      <th>PSP</th>\n",
       "      <td>106.0</td>\n",
       "      <td>54.0</td>\n",
       "      <td>10.0</td>\n",
       "      <td>3.0</td>\n",
       "      <td>NaN</td>\n",
       "      <td>173</td>\n",
       "    </tr>\n",
       "    <tr>\n",
       "      <th>WiiU</th>\n",
       "      <td>32.0</td>\n",
       "      <td>42.0</td>\n",
       "      <td>31.0</td>\n",
       "      <td>28.0</td>\n",
       "      <td>14.0</td>\n",
       "      <td>147</td>\n",
       "    </tr>\n",
       "    <tr>\n",
       "      <th>Wii</th>\n",
       "      <td>31.0</td>\n",
       "      <td>12.0</td>\n",
       "      <td>6.0</td>\n",
       "      <td>4.0</td>\n",
       "      <td>1.0</td>\n",
       "      <td>54</td>\n",
       "    </tr>\n",
       "    <tr>\n",
       "      <th>DS</th>\n",
       "      <td>23.0</td>\n",
       "      <td>8.0</td>\n",
       "      <td>NaN</td>\n",
       "      <td>NaN</td>\n",
       "      <td>NaN</td>\n",
       "      <td>31</td>\n",
       "    </tr>\n",
       "  </tbody>\n",
       "</table>\n",
       "</div>"
      ],
      "text/plain": [
       "year_of_release   2012   2013   2014   2015   2016   All\n",
       "platform                                                \n",
       "All              653.0  544.0  581.0  606.0  502.0  2886\n",
       "PS3              148.0  126.0  108.0   73.0   38.0   493\n",
       "PSV               53.0   63.0  100.0  110.0   85.0   411\n",
       "3DS               93.0   91.0   80.0   86.0   46.0   396\n",
       "PS4                NaN   16.0   75.0  137.0  164.0   392\n",
       "X360             106.0   75.0   63.0   35.0   13.0   292\n",
       "PC                61.0   38.0   47.0   50.0   54.0   250\n",
       "XOne               NaN   19.0   61.0   80.0   87.0   247\n",
       "PSP              106.0   54.0   10.0    3.0    NaN   173\n",
       "WiiU              32.0   42.0   31.0   28.0   14.0   147\n",
       "Wii               31.0   12.0    6.0    4.0    1.0    54\n",
       "DS                23.0    8.0    NaN    NaN    NaN    31"
      ]
     },
     "execution_count": 26,
     "metadata": {},
     "output_type": "execute_result"
    }
   ],
   "source": [
    "# посмотрим количество выпушенных игр\n",
    "pd.pivot_table(data=games_2012,\n",
    "               index=['platform'],\n",
    "               columns=['year_of_release'],\n",
    "               values = ('name'), \n",
    "               aggfunc = ('count'),\n",
    "               margins=True).sort_values(by='All', ascending=False)"
   ]
  },
  {
   "cell_type": "markdown",
   "metadata": {
    "id": "CCTBJDe3_A6U"
   },
   "source": [
    "На платформы PS4, XOne игры выпускаются ежегодно с приростом количества. \n",
    "\n",
    "PS3, X360 количество игр с каждым годом падает, тк платформы уже устарели. \n",
    "\n",
    "3DS - продажи падают, и количество тоже, но платформа еще прибыльная, чего не скажешь о консоле PSV на нее делают много игр, но продажи низкие, стоит подумать над смыслом выпуска такого количества. Такая же история с ПК выпуска игр много, а продажи низкие."
   ]
  },
  {
   "cell_type": "code",
   "execution_count": 27,
   "metadata": {
    "colab": {
     "base_uri": "https://localhost:8080/",
     "height": 296
    },
    "id": "SnkBAE6-MIT5",
    "outputId": "ca2ba4fa-4bf3-49e9-cdab-a4b80245231b"
   },
   "outputs": [
    {
     "data": {
      "image/png": "[encoded data removed]",
      "text/plain": [
       "<Figure size 432x288 with 1 Axes>"
      ]
     },
     "metadata": {
      "needs_background": "light"
     },
     "output_type": "display_data"
    }
   ],
   "source": [
    "# построим график выручки по прибыльным платформам\n",
    "platforms = ['PS4','XOne','3DS', 'PC']\n",
    "sns.barplot(y='total_sales', \n",
    "            x='year_of_release', \n",
    "            hue='platform', \n",
    "            data = games_2012,\n",
    "            hue_order=platforms\n",
    "           )\n",
    "plt.title('Продажи игр на прибыльных платформах, млн $ ')\n",
    "plt.show()\n"
   ]
  },
  {
   "cell_type": "markdown",
   "metadata": {
    "id": "revxdlskPOOv"
   },
   "source": [
    "Игровая индустрия переживает не лучшие времена, видно из графиков. Каждый год происходит спад выручки.\n"
   ]
  },
  {
   "cell_type": "markdown",
   "metadata": {},
   "source": [
    "<div class=\"alert alert-warning\">\n",
    "<h2> Комментарий ревьюера <a class=\"tocSkip\"></h2>\n",
    "    \n",
    "<b>Некоторые замечания и рекомендации💡:</b> \n",
    "    \n",
    "По большому счету все хорошо - правильные и полные и последовательные выводы. Но, обычно, для наглядности и точности, выводы строят по графикам. Из 3 пунктов здесь у тебя только для 1 есть графики) Нужно больше графиков богу графиков!))"
   ]
  },
  {
   "cell_type": "markdown",
   "metadata": {},
   "source": [
    "### Построить график «ящик с усами» по глобальным продажам игр в разбивке по платформам, описать результат"
   ]
  },
  {
   "cell_type": "code",
   "execution_count": 28,
   "metadata": {
    "colab": {
     "base_uri": "https://localhost:8080/",
     "height": 296
    },
    "id": "xmHMn8-8ugzM",
    "outputId": "f6131281-b83f-429a-978b-2b23a5e6b660"
   },
   "outputs": [
    {
     "data": {
      "image/png": "[encoded data removed]",
      "text/plain": [
       "<Figure size 432x288 with 1 Axes>"
      ]
     },
     "metadata": {
      "needs_background": "light"
     },
     "output_type": "display_data"
    }
   ],
   "source": [
    "sns.boxplot(y='platform', x='total_sales',\n",
    "            data = games_2012.query('platform in @platforms')\n",
    "            ,order=platforms\n",
    "           )\n",
    "plt.xlim(-0.1, 3)\n",
    "plt.title('Продажи игр на прибыльных платформах, млн $ ')\n",
    "plt.show()"
   ]
  },
  {
   "cell_type": "markdown",
   "metadata": {},
   "source": [
    "<div class=\"alert alert-success\">\n",
    "<h2> Комментарий ревьюера <a class=\"tocSkip\"> </h2>\n",
    "\n",
    "<b>Все отлично!👍:</b> \n",
    " \n",
    "Лайк тебе за xlim ) \n",
    "    \n",
    "Но по хорошему, следует рисовать 2 графика - с ограничением и без)"
   ]
  },
  {
   "cell_type": "markdown",
   "metadata": {
    "id": "NFq_HJvSyrfX"
   },
   "source": [
    "Как видим продажи PS4, XOne примерно одинаковы. Вероятно игры выпускают и на ту, и на другую платформу. Продажи PS4 лидируют в суммарном выражении, связано это с тем, что при старте продаж этой приставки выходили игры в первую очередь на эту платформу. Так как 2 лидирующие платформы новые, то игры делают на эти 2 площадки. Продажи 3DS приносят в 2 раза меньше прибыли, чем PS4, XOne, и ее популярность ниже. Игры на PC выпускают даже меньше, чем на портативную консоль 3DS. Sony к примеру анонсирует эксклюзивы игр сначала на платформы, а потом уже выпускают на ПК."
   ]
  },
  {
   "cell_type": "markdown",
   "metadata": {},
   "source": [
    "<div class=\"alert alert-warning\">\n",
    "<h2> Комментарий ревьюера <a class=\"tocSkip\"></h2>\n",
    "    \n",
    "<b>Некоторые замечания и рекомендации💡:</b> \n",
    "    \n",
    "А что скажешь об остальных платформах? На выбранном промежутке времени платформ больше и некоторые из них все еще тоже подают надежды) Что насчет PC, WiiU? А что скажешь о PS3, X360, Wii, PSP? Твой выбор только 3 платформ имеет место быть, но нужно уверенно объяснить причину) Опять же, возможно было бы больше графиков ранее - вопрос бы отпал сам собой\n",
    "    "
   ]
  },
  {
   "cell_type": "markdown",
   "metadata": {},
   "source": [
    "<div style=\"border-radius: 3px; border: 2px solid black; padding: 0px;\"> \n",
    "<div class=\"alert alert-block alert-info\">\n",
    "<h2>Комментарий студента</h2>\n",
    "    Добавила к прибыльным платформам PC, так как эта платформа более живучая чем приставки. Остальные сильно устаревшие(по количеству игр и продажам), и из всех марок представлены более новые версии, поэтому их и взяли для анализа. \n",
    "</div> \n",
    "</div>"
   ]
  },
  {
   "cell_type": "markdown",
   "metadata": {},
   "source": [
    "### Изучить влияние отзывов пользователей и критиков на продажи внутри одной популярной платформы. Построить диаграмму рассеяния и посчитать корреляцию между отзывами и продажами."
   ]
  },
  {
   "cell_type": "code",
   "execution_count": 29,
   "metadata": {
    "id": "xxn5_Q4V3piA"
   },
   "outputs": [],
   "source": [
    "games_ps4 = games_2012.loc[(games_2012['platform']=='PS4') & (games_2012['critic_score'].notna()) & (games_2012['user_score'].notna())]\n",
    "games_xone = games_2012.loc[(games_2012['platform']=='XOne') & (games_2012['critic_score'].notna()) & (games_2012['user_score'].notna())]\n",
    "games_3ds = games_2012.loc[(games_2012['platform']=='3DS') & (games_2012['critic_score'].notna()) & (games_2012['user_score'].notna())]\n",
    "games_pc = games_2012.loc[(games_2012['platform']=='PC') & (games_2012['critic_score'].notna()) & (games_2012['user_score'].notna())]"
   ]
  },
  {
   "cell_type": "markdown",
   "metadata": {
    "id": "eNKwCwIJQSJZ"
   },
   "source": [
    "Ограничим продажи по платформам: исключим нулевые значения в оценке критиков и пользователей, и сделаем фильтр по платформе."
   ]
  },
  {
   "cell_type": "markdown",
   "metadata": {},
   "source": [
    "<div class=\"alert alert-block alert-danger\">\n",
    "<h2> Комментарий ревьюера <a class=\"tocSkip\"></h2>\n",
    "\n",
    "    \n",
    "<b>На доработку🤔:</b>\n",
    "\n",
    "Разве можно со стопроцентной уверенностью сказать, что многомиллионные продажи gta, call of duty, minecraft и других крутых игр это выбросы (не вбросы🤓) ? Как по мне, это хорошая тенденция иногда выпускать хорошие игры или делать игры-франшизы, которые приносят большую прыбль и имеют своих фанатов.\n",
    "    \n",
    "</div>"
   ]
  },
  {
   "cell_type": "markdown",
   "metadata": {},
   "source": [
    "<div style=\"border-radius: 3px; border: 2px solid black; padding: 0px;\"> \n",
    "<div class=\"alert alert-block alert-info\">\n",
    "<h2>Комментарий студента</h2>\n",
    "Убрала ограничение в 5 млн, и проанализировала кореляцию снова. \n",
    "</div> \n",
    "</div>"
   ]
  },
  {
   "cell_type": "code",
   "execution_count": 30,
   "metadata": {
    "colab": {
     "base_uri": "https://localhost:8080/",
     "height": 607
    },
    "id": "rLX2ZSt6MNfw",
    "outputId": "2d7aa745-5660-405d-8a93-aaa64f58b278"
   },
   "outputs": [
    {
     "data": {
      "image/png": "[encoded data removed]",
      "text/plain": [
       "<Figure size 720x720 with 9 Axes>"
      ]
     },
     "metadata": {
      "needs_background": "light"
     },
     "output_type": "display_data"
    }
   ],
   "source": [
    "pd.plotting.scatter_matrix(games_ps4[['total_sales','critic_score', 'user_score']], figsize=(10, 10)) \n",
    "plt.show()"
   ]
  },
  {
   "cell_type": "code",
   "execution_count": 31,
   "metadata": {
    "colab": {
     "base_uri": "https://localhost:8080/",
     "height": 143
    },
    "id": "mbbWHaNWLD70",
    "outputId": "3464dfe5-bb31-4b22-c5e1-96b34057d715"
   },
   "outputs": [
    {
     "data": {
      "text/html": [
       "<style  type=\"text/css\" >\n",
       "#T_20200_row0_col0,#T_20200_row1_col1,#T_20200_row2_col2{\n",
       "            background-color:  #b40426;\n",
       "            color:  #f1f1f1;\n",
       "        }#T_20200_row0_col1,#T_20200_row0_col2,#T_20200_row2_col0{\n",
       "            background-color:  #3b4cc0;\n",
       "            color:  #f1f1f1;\n",
       "        }#T_20200_row1_col0{\n",
       "            background-color:  #c7d7f0;\n",
       "            color:  #000000;\n",
       "        }#T_20200_row1_col2{\n",
       "            background-color:  #edd1c2;\n",
       "            color:  #000000;\n",
       "        }#T_20200_row2_col1{\n",
       "            background-color:  #8fb1fe;\n",
       "            color:  #000000;\n",
       "        }</style><table id=\"T_20200_\" ><thead>    <tr>        <th class=\"blank level0\" ></th>        <th class=\"col_heading level0 col0\" >total_sales</th>        <th class=\"col_heading level0 col1\" >critic_score</th>        <th class=\"col_heading level0 col2\" >user_score</th>    </tr></thead><tbody>\n",
       "                <tr>\n",
       "                        <th id=\"T_20200_level0_row0\" class=\"row_heading level0 row0\" >total_sales</th>\n",
       "                        <td id=\"T_20200_row0_col0\" class=\"data row0 col0\" >1.000000</td>\n",
       "                        <td id=\"T_20200_row0_col1\" class=\"data row0 col1\" >0.405895</td>\n",
       "                        <td id=\"T_20200_row0_col2\" class=\"data row0 col2\" >-0.033625</td>\n",
       "            </tr>\n",
       "            <tr>\n",
       "                        <th id=\"T_20200_level0_row1\" class=\"row_heading level0 row1\" >critic_score</th>\n",
       "                        <td id=\"T_20200_row1_col0\" class=\"data row1 col0\" >0.405895</td>\n",
       "                        <td id=\"T_20200_row1_col1\" class=\"data row1 col1\" >1.000000</td>\n",
       "                        <td id=\"T_20200_row1_col2\" class=\"data row1 col2\" >0.557654</td>\n",
       "            </tr>\n",
       "            <tr>\n",
       "                        <th id=\"T_20200_level0_row2\" class=\"row_heading level0 row2\" >user_score</th>\n",
       "                        <td id=\"T_20200_row2_col0\" class=\"data row2 col0\" >-0.033625</td>\n",
       "                        <td id=\"T_20200_row2_col1\" class=\"data row2 col1\" >0.557654</td>\n",
       "                        <td id=\"T_20200_row2_col2\" class=\"data row2 col2\" >1.000000</td>\n",
       "            </tr>\n",
       "    </tbody></table>"
      ],
      "text/plain": [
       "<pandas.io.formats.style.Styler at 0x7f88135bc160>"
      ]
     },
     "execution_count": 31,
     "metadata": {},
     "output_type": "execute_result"
    }
   ],
   "source": [
    "corr = games_ps4[['total_sales','critic_score', 'user_score']].corr()\n",
    "corr.style.background_gradient(cmap='coolwarm')"
   ]
  },
  {
   "cell_type": "markdown",
   "metadata": {
    "id": "K2VSm1a8Qqjn"
   },
   "source": [
    "На матрице диаграммы рассеяния по платформе PS4 видно, что зависимость продаж от оценки критиков и оценки пользователей лежит примерно в одной плоскости. То есть если критиками оценена игра хорошо, то и пользователи оценят примерно также. Корреляция между продажами и оценками критиков находится в диапозоне умеренной связи. Примечательно что на продажи слабо влияет оценка пользователей, корреляция отрицательная. Дело в том что пользователи более критичны к играм, и компании заинтересованы в продвижении и хороших отзывах от критиков. "
   ]
  },
  {
   "cell_type": "markdown",
   "metadata": {},
   "source": [
    "<div class=\"alert alert-warning\">\n",
    "<h2> Комментарий ревьюера <a class=\"tocSkip\"></h2>\n",
    "    \n",
    "    \n",
    "<b>Некоторые замечания и рекомендации💡:</b> \n",
    "    \n",
    "Лайк тебе огромный за cmap!\n",
    "\n",
    "Но мне кажется странным твой вывод, что зависимость лежит в одной плоскости. Разве? Корреляция критиков-продаж 0.4, а юзеров-продаж 0.01 - корреляции нет) Разве в одной плоскости? Далее в xbox совсем в минус уйдет корреляция юзеров-продаж\n",
    "\n",
    "</div>"
   ]
  },
  {
   "cell_type": "markdown",
   "metadata": {},
   "source": [
    "<div style=\"border-radius: 3px; border: 2px solid black; padding: 0px;\"> \n",
    "<div class=\"alert alert-block alert-info\">\n",
    "<h2>Комментарий студента</h2>\n",
    "   исправила\n",
    "    \n",
    "</div> \n",
    "</div>"
   ]
  },
  {
   "cell_type": "code",
   "execution_count": 32,
   "metadata": {
    "colab": {
     "base_uri": "https://localhost:8080/",
     "height": 143
    },
    "id": "81O-cfnrLVUF",
    "outputId": "4e7646ee-f30e-4bb5-97f0-eb4e8788bf4f"
   },
   "outputs": [
    {
     "data": {
      "text/html": [
       "<style  type=\"text/css\" >\n",
       "#T_31d45_row0_col0,#T_31d45_row1_col1,#T_31d45_row2_col2{\n",
       "            background-color:  #b40426;\n",
       "            color:  #f1f1f1;\n",
       "        }#T_31d45_row0_col1,#T_31d45_row0_col2,#T_31d45_row2_col0{\n",
       "            background-color:  #3b4cc0;\n",
       "            color:  #f1f1f1;\n",
       "        }#T_31d45_row1_col0{\n",
       "            background-color:  #d3dbe7;\n",
       "            color:  #000000;\n",
       "        }#T_31d45_row1_col2{\n",
       "            background-color:  #e1dad6;\n",
       "            color:  #000000;\n",
       "        }#T_31d45_row2_col1{\n",
       "            background-color:  #5a78e4;\n",
       "            color:  #000000;\n",
       "        }</style><table id=\"T_31d45_\" ><thead>    <tr>        <th class=\"blank level0\" ></th>        <th class=\"col_heading level0 col0\" >total_sales</th>        <th class=\"col_heading level0 col1\" >critic_score</th>        <th class=\"col_heading level0 col2\" >user_score</th>    </tr></thead><tbody>\n",
       "                <tr>\n",
       "                        <th id=\"T_31d45_level0_row0\" class=\"row_heading level0 row0\" >total_sales</th>\n",
       "                        <td id=\"T_31d45_row0_col0\" class=\"data row0 col0\" >1.000000</td>\n",
       "                        <td id=\"T_31d45_row0_col1\" class=\"data row0 col1\" >0.410422</td>\n",
       "                        <td id=\"T_31d45_row0_col2\" class=\"data row0 col2\" >-0.094003</td>\n",
       "            </tr>\n",
       "            <tr>\n",
       "                        <th id=\"T_31d45_level0_row1\" class=\"row_heading level0 row1\" >critic_score</th>\n",
       "                        <td id=\"T_31d45_row1_col0\" class=\"data row1 col0\" >0.410422</td>\n",
       "                        <td id=\"T_31d45_row1_col1\" class=\"data row1 col1\" >1.000000</td>\n",
       "                        <td id=\"T_31d45_row1_col2\" class=\"data row1 col2\" >0.472462</td>\n",
       "            </tr>\n",
       "            <tr>\n",
       "                        <th id=\"T_31d45_level0_row2\" class=\"row_heading level0 row2\" >user_score</th>\n",
       "                        <td id=\"T_31d45_row2_col0\" class=\"data row2 col0\" >-0.094003</td>\n",
       "                        <td id=\"T_31d45_row2_col1\" class=\"data row2 col1\" >0.472462</td>\n",
       "                        <td id=\"T_31d45_row2_col2\" class=\"data row2 col2\" >1.000000</td>\n",
       "            </tr>\n",
       "    </tbody></table>"
      ],
      "text/plain": [
       "<pandas.io.formats.style.Styler at 0x7f88136d29a0>"
      ]
     },
     "execution_count": 32,
     "metadata": {},
     "output_type": "execute_result"
    }
   ],
   "source": [
    "corr = games_xone[['total_sales','critic_score', 'user_score']].corr()\n",
    "corr.style.background_gradient(cmap='coolwarm')"
   ]
  },
  {
   "cell_type": "code",
   "execution_count": 33,
   "metadata": {
    "colab": {
     "base_uri": "https://localhost:8080/",
     "height": 607
    },
    "id": "lPD4c3-NSoAv",
    "outputId": "70767184-4eaf-4294-8101-3d65438098ff"
   },
   "outputs": [
    {
     "data": {
      "image/png": "[encoded data removed]",
      "text/plain": [
       "<Figure size 720x720 with 9 Axes>"
      ]
     },
     "metadata": {
      "needs_background": "light"
     },
     "output_type": "display_data"
    }
   ],
   "source": [
    "pd.plotting.scatter_matrix(games_xone[['total_sales','critic_score', 'user_score']], figsize=(10, 10)) \n",
    "plt.show()"
   ]
  },
  {
   "cell_type": "code",
   "execution_count": 34,
   "metadata": {
    "colab": {
     "base_uri": "https://localhost:8080/",
     "height": 143
    },
    "id": "KLaalwbKLp2D",
    "outputId": "736520a8-e974-427d-b5b3-c3eacab0debf"
   },
   "outputs": [
    {
     "data": {
      "text/html": [
       "<style  type=\"text/css\" >\n",
       "#T_7dc48_row0_col0,#T_7dc48_row1_col1,#T_7dc48_row2_col2{\n",
       "            background-color:  #b40426;\n",
       "            color:  #f1f1f1;\n",
       "        }#T_7dc48_row0_col1,#T_7dc48_row0_col2,#T_7dc48_row2_col0{\n",
       "            background-color:  #3b4cc0;\n",
       "            color:  #f1f1f1;\n",
       "        }#T_7dc48_row1_col0{\n",
       "            background-color:  #6485ec;\n",
       "            color:  #000000;\n",
       "        }#T_7dc48_row1_col2{\n",
       "            background-color:  #f7bca1;\n",
       "            color:  #000000;\n",
       "        }#T_7dc48_row2_col1{\n",
       "            background-color:  #f2cbb7;\n",
       "            color:  #000000;\n",
       "        }</style><table id=\"T_7dc48_\" ><thead>    <tr>        <th class=\"blank level0\" ></th>        <th class=\"col_heading level0 col0\" >total_sales</th>        <th class=\"col_heading level0 col1\" >critic_score</th>        <th class=\"col_heading level0 col2\" >user_score</th>    </tr></thead><tbody>\n",
       "                <tr>\n",
       "                        <th id=\"T_7dc48_level0_row0\" class=\"row_heading level0 row0\" >total_sales</th>\n",
       "                        <td id=\"T_7dc48_row0_col0\" class=\"data row0 col0\" >1.000000</td>\n",
       "                        <td id=\"T_7dc48_row0_col1\" class=\"data row0 col1\" >0.310553</td>\n",
       "                        <td id=\"T_7dc48_row0_col2\" class=\"data row0 col2\" >0.201813</td>\n",
       "            </tr>\n",
       "            <tr>\n",
       "                        <th id=\"T_7dc48_level0_row1\" class=\"row_heading level0 row1\" >critic_score</th>\n",
       "                        <td id=\"T_7dc48_row1_col0\" class=\"data row1 col0\" >0.310553</td>\n",
       "                        <td id=\"T_7dc48_row1_col1\" class=\"data row1 col1\" >1.000000</td>\n",
       "                        <td id=\"T_7dc48_row1_col2\" class=\"data row1 col2\" >0.722762</td>\n",
       "            </tr>\n",
       "            <tr>\n",
       "                        <th id=\"T_7dc48_level0_row2\" class=\"row_heading level0 row2\" >user_score</th>\n",
       "                        <td id=\"T_7dc48_row2_col0\" class=\"data row2 col0\" >0.201813</td>\n",
       "                        <td id=\"T_7dc48_row2_col1\" class=\"data row2 col1\" >0.722762</td>\n",
       "                        <td id=\"T_7dc48_row2_col2\" class=\"data row2 col2\" >1.000000</td>\n",
       "            </tr>\n",
       "    </tbody></table>"
      ],
      "text/plain": [
       "<pandas.io.formats.style.Styler at 0x7f88117963a0>"
      ]
     },
     "execution_count": 34,
     "metadata": {},
     "output_type": "execute_result"
    }
   ],
   "source": [
    "corr = games_3ds[['total_sales','critic_score', 'user_score']].corr()\n",
    "corr.style.background_gradient(cmap='coolwarm')"
   ]
  },
  {
   "cell_type": "code",
   "execution_count": 35,
   "metadata": {
    "colab": {
     "base_uri": "https://localhost:8080/",
     "height": 606
    },
    "id": "AexOVyWMSuxr",
    "outputId": "717008ea-c1d8-41e5-e0e7-7a64c10e9e7c"
   },
   "outputs": [
    {
     "data": {
      "image/png": "[encoded data removed]",
      "text/plain": [
       "<Figure size 720x720 with 9 Axes>"
      ]
     },
     "metadata": {
      "needs_background": "light"
     },
     "output_type": "display_data"
    }
   ],
   "source": [
    "pd.plotting.scatter_matrix(games_3ds[['total_sales','critic_score', 'user_score']], figsize=(10, 10)) \n",
    "plt.show()"
   ]
  },
  {
   "cell_type": "code",
   "execution_count": 36,
   "metadata": {},
   "outputs": [
    {
     "data": {
      "text/html": [
       "<style  type=\"text/css\" >\n",
       "#T_9f597_row0_col0,#T_9f597_row1_col1,#T_9f597_row2_col2{\n",
       "            background-color:  #b40426;\n",
       "            color:  #f1f1f1;\n",
       "        }#T_9f597_row0_col1,#T_9f597_row0_col2,#T_9f597_row2_col0{\n",
       "            background-color:  #3b4cc0;\n",
       "            color:  #f1f1f1;\n",
       "        }#T_9f597_row1_col0{\n",
       "            background-color:  #a7c5fe;\n",
       "            color:  #000000;\n",
       "        }#T_9f597_row1_col2{\n",
       "            background-color:  #dddcdc;\n",
       "            color:  #000000;\n",
       "        }#T_9f597_row2_col1{\n",
       "            background-color:  #8fb1fe;\n",
       "            color:  #000000;\n",
       "        }</style><table id=\"T_9f597_\" ><thead>    <tr>        <th class=\"blank level0\" ></th>        <th class=\"col_heading level0 col0\" >total_sales</th>        <th class=\"col_heading level0 col1\" >critic_score</th>        <th class=\"col_heading level0 col2\" >user_score</th>    </tr></thead><tbody>\n",
       "                <tr>\n",
       "                        <th id=\"T_9f597_level0_row0\" class=\"row_heading level0 row0\" >total_sales</th>\n",
       "                        <td id=\"T_9f597_row0_col0\" class=\"data row0 col0\" >1.000000</td>\n",
       "                        <td id=\"T_9f597_row0_col1\" class=\"data row0 col1\" >0.236008</td>\n",
       "                        <td id=\"T_9f597_row0_col2\" class=\"data row0 col2\" >-0.136934</td>\n",
       "            </tr>\n",
       "            <tr>\n",
       "                        <th id=\"T_9f597_level0_row1\" class=\"row_heading level0 row1\" >critic_score</th>\n",
       "                        <td id=\"T_9f597_row1_col0\" class=\"data row1 col0\" >0.236008</td>\n",
       "                        <td id=\"T_9f597_row1_col1\" class=\"data row1 col1\" >1.000000</td>\n",
       "                        <td id=\"T_9f597_row1_col2\" class=\"data row1 col2\" >0.432587</td>\n",
       "            </tr>\n",
       "            <tr>\n",
       "                        <th id=\"T_9f597_level0_row2\" class=\"row_heading level0 row2\" >user_score</th>\n",
       "                        <td id=\"T_9f597_row2_col0\" class=\"data row2 col0\" >-0.136934</td>\n",
       "                        <td id=\"T_9f597_row2_col1\" class=\"data row2 col1\" >0.432587</td>\n",
       "                        <td id=\"T_9f597_row2_col2\" class=\"data row2 col2\" >1.000000</td>\n",
       "            </tr>\n",
       "    </tbody></table>"
      ],
      "text/plain": [
       "<pandas.io.formats.style.Styler at 0x7f8811787280>"
      ]
     },
     "execution_count": 36,
     "metadata": {},
     "output_type": "execute_result"
    }
   ],
   "source": [
    "corr = games_pc[['total_sales','critic_score', 'user_score']].corr()\n",
    "corr.style.background_gradient(cmap='coolwarm')"
   ]
  },
  {
   "cell_type": "code",
   "execution_count": 37,
   "metadata": {},
   "outputs": [
    {
     "data": {
      "image/png": "[encoded data removed]",
      "text/plain": [
       "<Figure size 720x720 with 9 Axes>"
      ]
     },
     "metadata": {
      "needs_background": "light"
     },
     "output_type": "display_data"
    }
   ],
   "source": [
    "pd.plotting.scatter_matrix(games_pc[['total_sales','critic_score', 'user_score']], figsize=(10, 10)) \n",
    "plt.show()"
   ]
  },
  {
   "cell_type": "markdown",
   "metadata": {
    "id": "HGrdc8cXSga0"
   },
   "source": [
    "* оценки критиков и пользователей примерно одинаковые, такое наблюдается на платформе PS4 и 3DS;\n",
    "* есть небольшая разница между оценками пользователей и критиков у платформы XOne;\n",
    "* интересно, что плохих оценок от критиков нет, чего не скажешь об оценках пользователей. Пользователи более критичны к оценкам, нежели критики, так как часто бывает, что крупные компании вкладывают много денег в продвижение и отзывы,\n",
    "* во всех случаях оценки пользователей практически не влияют на продажи, отрицательная корреляция наблюдается у платформ PC, PS4, XOne, но у японцев есть слабая связь отзывов пользователей и продаж,\n",
    "* примечательно, что у PC зависимость продаж от оценок критиков меньше чем на других платформах."
   ]
  },
  {
   "cell_type": "markdown",
   "metadata": {},
   "source": [
    "<div class=\"alert alert-success\">\n",
    "<h2> Комментарий ревьюера <a class=\"tocSkip\"> </h2>\n",
    "\n",
    "<b>Все отлично!👍:</b> \n",
    " \n",
    "В этом блоке бог графиков доволен! Очень много, все по делу и хорошо оформленно. А так же молодец, что разобрала все выбранные тобой платформы) Но обрати внимание, пожалуйста, на желтый комментарий. \n",
    "    \n",
    "А еще добавь пару итоговых строк о корреляции в выводах конце"
   ]
  },
  {
   "cell_type": "markdown",
   "metadata": {},
   "source": [
    "<div style=\"border-radius: 3px; border: 2px solid black; padding: 0px;\"> \n",
    "<div class=\"alert alert-block alert-info\">\n",
    "<h2>Комментарий студента</h2>\n",
    "    дополнила\n",
    "</div> \n",
    "</div>"
   ]
  },
  {
   "cell_type": "markdown",
   "metadata": {},
   "source": [
    "### изучить распределение игр по жанрам. Какой самый прибыльный жанр? Выделяются ли жанры с высокими и низкими продажами?"
   ]
  },
  {
   "cell_type": "code",
   "execution_count": 38,
   "metadata": {
    "colab": {
     "base_uri": "https://localhost:8080/",
     "height": 488
    },
    "id": "zUS--CH0T-Vu",
    "outputId": "37b2a1f1-94b6-4c12-d556-cb3371f50726",
    "scrolled": false
   },
   "outputs": [
    {
     "data": {
      "text/html": [
       "<div>\n",
       "<style scoped>\n",
       "    .dataframe tbody tr th:only-of-type {\n",
       "        vertical-align: middle;\n",
       "    }\n",
       "\n",
       "    .dataframe tbody tr th {\n",
       "        vertical-align: top;\n",
       "    }\n",
       "\n",
       "    .dataframe thead th {\n",
       "        text-align: right;\n",
       "    }\n",
       "</style>\n",
       "<table border=\"1\" class=\"dataframe\">\n",
       "  <thead>\n",
       "    <tr style=\"text-align: right;\">\n",
       "      <th>year_of_release</th>\n",
       "      <th>2012</th>\n",
       "      <th>2013</th>\n",
       "      <th>2014</th>\n",
       "      <th>2015</th>\n",
       "      <th>2016</th>\n",
       "      <th>all</th>\n",
       "    </tr>\n",
       "    <tr>\n",
       "      <th>genre</th>\n",
       "      <th></th>\n",
       "      <th></th>\n",
       "      <th></th>\n",
       "      <th></th>\n",
       "      <th></th>\n",
       "      <th></th>\n",
       "    </tr>\n",
       "  </thead>\n",
       "  <tbody>\n",
       "    <tr>\n",
       "      <th>all</th>\n",
       "      <td>355.84</td>\n",
       "      <td>361.24</td>\n",
       "      <td>331.53</td>\n",
       "      <td>267.98</td>\n",
       "      <td>129.94</td>\n",
       "      <td>1446.53</td>\n",
       "    </tr>\n",
       "    <tr>\n",
       "      <th>Shooter</th>\n",
       "      <td>71.75</td>\n",
       "      <td>62.04</td>\n",
       "      <td>65.21</td>\n",
       "      <td>67.51</td>\n",
       "      <td>38.22</td>\n",
       "      <td>304.73</td>\n",
       "    </tr>\n",
       "    <tr>\n",
       "      <th>Action</th>\n",
       "      <td>119.25</td>\n",
       "      <td>122.51</td>\n",
       "      <td>97.23</td>\n",
       "      <td>72.02</td>\n",
       "      <td>30.11</td>\n",
       "      <td>441.12</td>\n",
       "    </tr>\n",
       "    <tr>\n",
       "      <th>Sports</th>\n",
       "      <td>30.42</td>\n",
       "      <td>41.17</td>\n",
       "      <td>45.15</td>\n",
       "      <td>40.84</td>\n",
       "      <td>23.49</td>\n",
       "      <td>181.07</td>\n",
       "    </tr>\n",
       "    <tr>\n",
       "      <th>Role-Playing</th>\n",
       "      <td>46.91</td>\n",
       "      <td>44.45</td>\n",
       "      <td>45.62</td>\n",
       "      <td>37.64</td>\n",
       "      <td>18.18</td>\n",
       "      <td>192.80</td>\n",
       "    </tr>\n",
       "    <tr>\n",
       "      <th>Fighting</th>\n",
       "      <td>9.18</td>\n",
       "      <td>7.09</td>\n",
       "      <td>15.85</td>\n",
       "      <td>7.90</td>\n",
       "      <td>4.47</td>\n",
       "      <td>44.49</td>\n",
       "    </tr>\n",
       "    <tr>\n",
       "      <th>Adventure</th>\n",
       "      <td>5.79</td>\n",
       "      <td>6.09</td>\n",
       "      <td>5.57</td>\n",
       "      <td>8.16</td>\n",
       "      <td>3.82</td>\n",
       "      <td>29.43</td>\n",
       "    </tr>\n",
       "    <tr>\n",
       "      <th>Platform</th>\n",
       "      <td>18.37</td>\n",
       "      <td>24.54</td>\n",
       "      <td>8.81</td>\n",
       "      <td>6.05</td>\n",
       "      <td>3.23</td>\n",
       "      <td>61.00</td>\n",
       "    </tr>\n",
       "    <tr>\n",
       "      <th>Racing</th>\n",
       "      <td>13.61</td>\n",
       "      <td>12.37</td>\n",
       "      <td>16.66</td>\n",
       "      <td>8.07</td>\n",
       "      <td>2.79</td>\n",
       "      <td>53.50</td>\n",
       "    </tr>\n",
       "    <tr>\n",
       "      <th>Misc</th>\n",
       "      <td>22.22</td>\n",
       "      <td>25.27</td>\n",
       "      <td>23.38</td>\n",
       "      <td>11.57</td>\n",
       "      <td>2.60</td>\n",
       "      <td>85.04</td>\n",
       "    </tr>\n",
       "    <tr>\n",
       "      <th>Simulation</th>\n",
       "      <td>13.36</td>\n",
       "      <td>8.63</td>\n",
       "      <td>5.58</td>\n",
       "      <td>5.66</td>\n",
       "      <td>1.89</td>\n",
       "      <td>35.12</td>\n",
       "    </tr>\n",
       "    <tr>\n",
       "      <th>Strategy</th>\n",
       "      <td>3.26</td>\n",
       "      <td>6.12</td>\n",
       "      <td>0.98</td>\n",
       "      <td>1.85</td>\n",
       "      <td>1.13</td>\n",
       "      <td>13.34</td>\n",
       "    </tr>\n",
       "    <tr>\n",
       "      <th>Puzzle</th>\n",
       "      <td>1.72</td>\n",
       "      <td>0.96</td>\n",
       "      <td>1.49</td>\n",
       "      <td>0.71</td>\n",
       "      <td>0.01</td>\n",
       "      <td>4.89</td>\n",
       "    </tr>\n",
       "  </tbody>\n",
       "</table>\n",
       "</div>"
      ],
      "text/plain": [
       "year_of_release    2012    2013    2014    2015    2016      all\n",
       "genre                                                           \n",
       "all              355.84  361.24  331.53  267.98  129.94  1446.53\n",
       "Shooter           71.75   62.04   65.21   67.51   38.22   304.73\n",
       "Action           119.25  122.51   97.23   72.02   30.11   441.12\n",
       "Sports            30.42   41.17   45.15   40.84   23.49   181.07\n",
       "Role-Playing      46.91   44.45   45.62   37.64   18.18   192.80\n",
       "Fighting           9.18    7.09   15.85    7.90    4.47    44.49\n",
       "Adventure          5.79    6.09    5.57    8.16    3.82    29.43\n",
       "Platform          18.37   24.54    8.81    6.05    3.23    61.00\n",
       "Racing            13.61   12.37   16.66    8.07    2.79    53.50\n",
       "Misc              22.22   25.27   23.38   11.57    2.60    85.04\n",
       "Simulation        13.36    8.63    5.58    5.66    1.89    35.12\n",
       "Strategy           3.26    6.12    0.98    1.85    1.13    13.34\n",
       "Puzzle             1.72    0.96    1.49    0.71    0.01     4.89"
      ]
     },
     "execution_count": 38,
     "metadata": {},
     "output_type": "execute_result"
    }
   ],
   "source": [
    "#продажи по сумме\n",
    "games_genre = games_2012.pivot_table(index='genre'\n",
    "                      ,columns='year_of_release'\n",
    "                      ,values='total_sales'\n",
    "                      ,aggfunc='sum'\n",
    "                      ,margins=True\n",
    "                      ,margins_name='all').sort_values(by=2016, ascending=False)\n",
    "\n",
    "games_genre"
   ]
  },
  {
   "cell_type": "code",
   "execution_count": 39,
   "metadata": {},
   "outputs": [
    {
     "data": {
      "text/html": [
       "<div>\n",
       "<style scoped>\n",
       "    .dataframe tbody tr th:only-of-type {\n",
       "        vertical-align: middle;\n",
       "    }\n",
       "\n",
       "    .dataframe tbody tr th {\n",
       "        vertical-align: top;\n",
       "    }\n",
       "\n",
       "    .dataframe thead th {\n",
       "        text-align: right;\n",
       "    }\n",
       "</style>\n",
       "<table border=\"1\" class=\"dataframe\">\n",
       "  <thead>\n",
       "    <tr style=\"text-align: right;\">\n",
       "      <th>year_of_release</th>\n",
       "      <th>2012</th>\n",
       "      <th>2013</th>\n",
       "      <th>2014</th>\n",
       "      <th>2015</th>\n",
       "      <th>2016</th>\n",
       "      <th>total</th>\n",
       "    </tr>\n",
       "    <tr>\n",
       "      <th>genre</th>\n",
       "      <th></th>\n",
       "      <th></th>\n",
       "      <th></th>\n",
       "      <th></th>\n",
       "      <th></th>\n",
       "      <th></th>\n",
       "    </tr>\n",
       "  </thead>\n",
       "  <tbody>\n",
       "    <tr>\n",
       "      <th>Shooter</th>\n",
       "      <td>1.494792</td>\n",
       "      <td>1.051525</td>\n",
       "      <td>1.387447</td>\n",
       "      <td>1.985588</td>\n",
       "      <td>0.813191</td>\n",
       "      <td>1.296723</td>\n",
       "    </tr>\n",
       "    <tr>\n",
       "      <th>Sports</th>\n",
       "      <td>0.563333</td>\n",
       "      <td>0.776792</td>\n",
       "      <td>0.836111</td>\n",
       "      <td>0.692203</td>\n",
       "      <td>0.489375</td>\n",
       "      <td>0.675634</td>\n",
       "    </tr>\n",
       "    <tr>\n",
       "      <th>Role-Playing</th>\n",
       "      <td>0.601410</td>\n",
       "      <td>0.626056</td>\n",
       "      <td>0.512584</td>\n",
       "      <td>0.482564</td>\n",
       "      <td>0.336667</td>\n",
       "      <td>0.521081</td>\n",
       "    </tr>\n",
       "    <tr>\n",
       "      <th>Fighting</th>\n",
       "      <td>0.316552</td>\n",
       "      <td>0.354500</td>\n",
       "      <td>0.689130</td>\n",
       "      <td>0.376190</td>\n",
       "      <td>0.279375</td>\n",
       "      <td>0.408165</td>\n",
       "    </tr>\n",
       "    <tr>\n",
       "      <th>total</th>\n",
       "      <td>0.544931</td>\n",
       "      <td>0.664044</td>\n",
       "      <td>0.570620</td>\n",
       "      <td>0.442211</td>\n",
       "      <td>0.258845</td>\n",
       "      <td>0.501223</td>\n",
       "    </tr>\n",
       "    <tr>\n",
       "      <th>Platform</th>\n",
       "      <td>1.670000</td>\n",
       "      <td>0.681667</td>\n",
       "      <td>0.881000</td>\n",
       "      <td>0.465385</td>\n",
       "      <td>0.215333</td>\n",
       "      <td>0.717647</td>\n",
       "    </tr>\n",
       "    <tr>\n",
       "      <th>Action</th>\n",
       "      <td>0.450000</td>\n",
       "      <td>0.833401</td>\n",
       "      <td>0.517181</td>\n",
       "      <td>0.284664</td>\n",
       "      <td>0.169157</td>\n",
       "      <td>0.427856</td>\n",
       "    </tr>\n",
       "    <tr>\n",
       "      <th>Racing</th>\n",
       "      <td>0.453667</td>\n",
       "      <td>0.773125</td>\n",
       "      <td>0.617037</td>\n",
       "      <td>0.448333</td>\n",
       "      <td>0.116250</td>\n",
       "      <td>0.465217</td>\n",
       "    </tr>\n",
       "    <tr>\n",
       "      <th>Simulation</th>\n",
       "      <td>0.742222</td>\n",
       "      <td>0.479444</td>\n",
       "      <td>0.507273</td>\n",
       "      <td>0.377333</td>\n",
       "      <td>0.105000</td>\n",
       "      <td>0.439000</td>\n",
       "    </tr>\n",
       "    <tr>\n",
       "      <th>Strategy</th>\n",
       "      <td>0.217333</td>\n",
       "      <td>0.322105</td>\n",
       "      <td>0.122500</td>\n",
       "      <td>0.115625</td>\n",
       "      <td>0.086923</td>\n",
       "      <td>0.187887</td>\n",
       "    </tr>\n",
       "    <tr>\n",
       "      <th>Misc</th>\n",
       "      <td>0.600541</td>\n",
       "      <td>0.601667</td>\n",
       "      <td>0.556667</td>\n",
       "      <td>0.296667</td>\n",
       "      <td>0.081250</td>\n",
       "      <td>0.442917</td>\n",
       "    </tr>\n",
       "    <tr>\n",
       "      <th>Adventure</th>\n",
       "      <td>0.101579</td>\n",
       "      <td>0.101500</td>\n",
       "      <td>0.074267</td>\n",
       "      <td>0.151111</td>\n",
       "      <td>0.068214</td>\n",
       "      <td>0.097450</td>\n",
       "    </tr>\n",
       "    <tr>\n",
       "      <th>Puzzle</th>\n",
       "      <td>0.156364</td>\n",
       "      <td>0.320000</td>\n",
       "      <td>0.212857</td>\n",
       "      <td>0.118333</td>\n",
       "      <td>0.010000</td>\n",
       "      <td>0.174643</td>\n",
       "    </tr>\n",
       "  </tbody>\n",
       "</table>\n",
       "</div>"
      ],
      "text/plain": [
       "year_of_release      2012      2013      2014      2015      2016     total\n",
       "genre                                                                      \n",
       "Shooter          1.494792  1.051525  1.387447  1.985588  0.813191  1.296723\n",
       "Sports           0.563333  0.776792  0.836111  0.692203  0.489375  0.675634\n",
       "Role-Playing     0.601410  0.626056  0.512584  0.482564  0.336667  0.521081\n",
       "Fighting         0.316552  0.354500  0.689130  0.376190  0.279375  0.408165\n",
       "total            0.544931  0.664044  0.570620  0.442211  0.258845  0.501223\n",
       "Platform         1.670000  0.681667  0.881000  0.465385  0.215333  0.717647\n",
       "Action           0.450000  0.833401  0.517181  0.284664  0.169157  0.427856\n",
       "Racing           0.453667  0.773125  0.617037  0.448333  0.116250  0.465217\n",
       "Simulation       0.742222  0.479444  0.507273  0.377333  0.105000  0.439000\n",
       "Strategy         0.217333  0.322105  0.122500  0.115625  0.086923  0.187887\n",
       "Misc             0.600541  0.601667  0.556667  0.296667  0.081250  0.442917\n",
       "Adventure        0.101579  0.101500  0.074267  0.151111  0.068214  0.097450\n",
       "Puzzle           0.156364  0.320000  0.212857  0.118333  0.010000  0.174643"
      ]
     },
     "execution_count": 39,
     "metadata": {},
     "output_type": "execute_result"
    }
   ],
   "source": [
    "# продажи по среднему\n",
    "pd.crosstab(games_2012.genre, \n",
    "            games_2012.year_of_release,\n",
    "            values=games_2012.total_sales,\n",
    "            aggfunc='mean',\n",
    "            margins=True, margins_name=\"total\"\n",
    "           ).sort_values(by=2016, ascending=False)"
   ]
  },
  {
   "cell_type": "code",
   "execution_count": 40,
   "metadata": {},
   "outputs": [
    {
     "data": {
      "text/html": [
       "<div>\n",
       "<style scoped>\n",
       "    .dataframe tbody tr th:only-of-type {\n",
       "        vertical-align: middle;\n",
       "    }\n",
       "\n",
       "    .dataframe tbody tr th {\n",
       "        vertical-align: top;\n",
       "    }\n",
       "\n",
       "    .dataframe thead th {\n",
       "        text-align: right;\n",
       "    }\n",
       "</style>\n",
       "<table border=\"1\" class=\"dataframe\">\n",
       "  <thead>\n",
       "    <tr style=\"text-align: right;\">\n",
       "      <th>year_of_release</th>\n",
       "      <th>2012</th>\n",
       "      <th>2013</th>\n",
       "      <th>2014</th>\n",
       "      <th>2015</th>\n",
       "      <th>2016</th>\n",
       "      <th>total</th>\n",
       "    </tr>\n",
       "    <tr>\n",
       "      <th>genre</th>\n",
       "      <th></th>\n",
       "      <th></th>\n",
       "      <th></th>\n",
       "      <th></th>\n",
       "      <th></th>\n",
       "      <th></th>\n",
       "    </tr>\n",
       "  </thead>\n",
       "  <tbody>\n",
       "    <tr>\n",
       "      <th>Action</th>\n",
       "      <td>0.405819</td>\n",
       "      <td>0.270221</td>\n",
       "      <td>0.323580</td>\n",
       "      <td>0.417492</td>\n",
       "      <td>0.354582</td>\n",
       "      <td>0.357242</td>\n",
       "    </tr>\n",
       "    <tr>\n",
       "      <th>Adventure</th>\n",
       "      <td>0.087289</td>\n",
       "      <td>0.110294</td>\n",
       "      <td>0.129088</td>\n",
       "      <td>0.089109</td>\n",
       "      <td>0.111554</td>\n",
       "      <td>0.104643</td>\n",
       "    </tr>\n",
       "    <tr>\n",
       "      <th>Role-Playing</th>\n",
       "      <td>0.119449</td>\n",
       "      <td>0.130515</td>\n",
       "      <td>0.153184</td>\n",
       "      <td>0.128713</td>\n",
       "      <td>0.107570</td>\n",
       "      <td>0.128205</td>\n",
       "    </tr>\n",
       "    <tr>\n",
       "      <th>Sports</th>\n",
       "      <td>0.082695</td>\n",
       "      <td>0.097426</td>\n",
       "      <td>0.092943</td>\n",
       "      <td>0.097360</td>\n",
       "      <td>0.095618</td>\n",
       "      <td>0.092862</td>\n",
       "    </tr>\n",
       "    <tr>\n",
       "      <th>Shooter</th>\n",
       "      <td>0.073507</td>\n",
       "      <td>0.108456</td>\n",
       "      <td>0.080895</td>\n",
       "      <td>0.056106</td>\n",
       "      <td>0.093625</td>\n",
       "      <td>0.081428</td>\n",
       "    </tr>\n",
       "    <tr>\n",
       "      <th>Misc</th>\n",
       "      <td>0.056662</td>\n",
       "      <td>0.077206</td>\n",
       "      <td>0.072289</td>\n",
       "      <td>0.064356</td>\n",
       "      <td>0.063745</td>\n",
       "      <td>0.066528</td>\n",
       "    </tr>\n",
       "    <tr>\n",
       "      <th>Racing</th>\n",
       "      <td>0.045942</td>\n",
       "      <td>0.029412</td>\n",
       "      <td>0.046472</td>\n",
       "      <td>0.029703</td>\n",
       "      <td>0.047809</td>\n",
       "      <td>0.039848</td>\n",
       "    </tr>\n",
       "    <tr>\n",
       "      <th>Simulation</th>\n",
       "      <td>0.027565</td>\n",
       "      <td>0.033088</td>\n",
       "      <td>0.018933</td>\n",
       "      <td>0.024752</td>\n",
       "      <td>0.035857</td>\n",
       "      <td>0.027720</td>\n",
       "    </tr>\n",
       "    <tr>\n",
       "      <th>Fighting</th>\n",
       "      <td>0.044410</td>\n",
       "      <td>0.036765</td>\n",
       "      <td>0.039587</td>\n",
       "      <td>0.034653</td>\n",
       "      <td>0.031873</td>\n",
       "      <td>0.037769</td>\n",
       "    </tr>\n",
       "    <tr>\n",
       "      <th>Platform</th>\n",
       "      <td>0.016845</td>\n",
       "      <td>0.066176</td>\n",
       "      <td>0.017212</td>\n",
       "      <td>0.021452</td>\n",
       "      <td>0.029880</td>\n",
       "      <td>0.029453</td>\n",
       "    </tr>\n",
       "    <tr>\n",
       "      <th>Strategy</th>\n",
       "      <td>0.022971</td>\n",
       "      <td>0.034926</td>\n",
       "      <td>0.013769</td>\n",
       "      <td>0.026403</td>\n",
       "      <td>0.025896</td>\n",
       "      <td>0.024602</td>\n",
       "    </tr>\n",
       "    <tr>\n",
       "      <th>Puzzle</th>\n",
       "      <td>0.016845</td>\n",
       "      <td>0.005515</td>\n",
       "      <td>0.012048</td>\n",
       "      <td>0.009901</td>\n",
       "      <td>0.001992</td>\n",
       "      <td>0.009702</td>\n",
       "    </tr>\n",
       "  </tbody>\n",
       "</table>\n",
       "</div>"
      ],
      "text/plain": [
       "year_of_release      2012      2013      2014      2015      2016     total\n",
       "genre                                                                      \n",
       "Action           0.405819  0.270221  0.323580  0.417492  0.354582  0.357242\n",
       "Adventure        0.087289  0.110294  0.129088  0.089109  0.111554  0.104643\n",
       "Role-Playing     0.119449  0.130515  0.153184  0.128713  0.107570  0.128205\n",
       "Sports           0.082695  0.097426  0.092943  0.097360  0.095618  0.092862\n",
       "Shooter          0.073507  0.108456  0.080895  0.056106  0.093625  0.081428\n",
       "Misc             0.056662  0.077206  0.072289  0.064356  0.063745  0.066528\n",
       "Racing           0.045942  0.029412  0.046472  0.029703  0.047809  0.039848\n",
       "Simulation       0.027565  0.033088  0.018933  0.024752  0.035857  0.027720\n",
       "Fighting         0.044410  0.036765  0.039587  0.034653  0.031873  0.037769\n",
       "Platform         0.016845  0.066176  0.017212  0.021452  0.029880  0.029453\n",
       "Strategy         0.022971  0.034926  0.013769  0.026403  0.025896  0.024602\n",
       "Puzzle           0.016845  0.005515  0.012048  0.009901  0.001992  0.009702"
      ]
     },
     "execution_count": 40,
     "metadata": {},
     "output_type": "execute_result"
    }
   ],
   "source": [
    "# normalize распространенный случай суммирования данных, когда мы хотим понять, \n",
    "# сколько процентов от общего числа составляет каждая комбинация\n",
    "# Например, если мы хотим увидеть, как жанры распределяются по годам\n",
    "pd.crosstab(games_2012.genre, \n",
    "            games_2012.year_of_release,\n",
    "            normalize='columns',\n",
    "            margins=True, margins_name=\"total\"\n",
    "           ).sort_values(by=2016, ascending=False)"
   ]
  },
  {
   "cell_type": "code",
   "execution_count": 41,
   "metadata": {
    "colab": {
     "base_uri": "https://localhost:8080/",
     "height": 459
    },
    "id": "FSq9US_AVpIg",
    "outputId": "359edd37-dcb2-4042-b32b-7156accb6014"
   },
   "outputs": [
    {
     "data": {
      "image/png": "[encoded data removed]",
      "text/plain": [
       "<Figure size 1440x504 with 1 Axes>"
      ]
     },
     "metadata": {
      "needs_background": "light"
     },
     "output_type": "display_data"
    }
   ],
   "source": [
    "year = games_2012['year_of_release'].unique()\n",
    "games_genre = games_genre.query('genre != \"all\"').drop(columns = ['all'],axis = 1).head(5)\n",
    "\n",
    "fig, ax = plt.subplots(figsize=(20,7))\n",
    "games_genre.T.plot(kind='line',  ax=ax, grid=True, xticks=year)\n",
    "plt.ylabel('total_sales')\n",
    "plt.xlabel('year_of_release')\n",
    "plt.title('Распределение продаж по жанрам')\n",
    "plt.show()"
   ]
  },
  {
   "cell_type": "markdown",
   "metadata": {
    "id": "AtX01q2L_G2S"
   },
   "source": [
    "* Как видим лидером среди жанров по выручке является экшн, но в 2016 году он уступает 1 место жанру стрелялок;\n",
    "* Самый прибыльный жанр - Shooter, не смотря на небольшую долю среди других жанров показывает хорошую выручку по среднему;\n",
    "* В топе жанры `Action`, `Shooter`, `Role-Playing`, `Sport`. Каждый год видим тенденцию к снижению прибыли по играм. Игровая индустрия не в лучшей форме.\n",
    "* Выбивается из значений жанр `Adventure` в доле жанров игр много, выручки мало. Наоборот в жанре `Platform` доля мало игр, а прибыль в топе 5 жанров. \n",
    "* Стабильно плохо дела в жанре `Puzzle`, и игр мало и продаж тоже."
   ]
  },
  {
   "cell_type": "markdown",
   "metadata": {},
   "source": [
    "<div class=\"alert alert-block alert-danger\">\n",
    "<h2> Комментарий ревьюера <a class=\"tocSkip\"></h2>\n",
    "\n",
    "    \n",
    "<b>На доработку🤔:</b>\n",
    "\n",
    "Попрошу тебя допонить блок\n",
    "    \n",
    "Общие продажи - плохая метрика для поиска наиболее прибыльного жанра. За высокими показателями общих продаж может скрываться множество мелких игр с низкими продажами. Или 2-3 звезды и куча провалов. Лучше найти жанр, где игры стабильно приносят высокий доход - для этого стоит рассмотреть средние или медианные продажи. \n",
    "    \n",
    "Кроме того, в задании не указанно построить выборку по годам. Само построение именно такого графика не ошибка, но уж очень тяжело наглядно различать эти линии)\n",
    "</div>"
   ]
  },
  {
   "cell_type": "markdown",
   "metadata": {},
   "source": [
    "<div style=\"border-radius: 3px; border: 2px solid black; padding: 0px;\"> \n",
    "<div class=\"alert alert-block alert-info\">\n",
    "<h2>Комментарий студента </h2>\n",
    "   Поправила\n",
    "</div> \n",
    "</div>"
   ]
  },
  {
   "cell_type": "markdown",
   "metadata": {
    "id": "mEuOtaLkWHZI"
   },
   "source": [
    "### Выводы по исследовательскому анализу данных: \n",
    "\n",
    "После 94 года видим резкий рост в 2 раза и последующий тренд на увеличение выпуска игр, из за высокого развития сферы ИТ, заканчивается период спадом в 2010 году и стагнацией на примерно одном уровне в 12-16 годах на отметке 600 игр в год. \n",
    "\n",
    "Срок жизни платформ в среднем 7 лет. Именно столько служит приставка, и в такой срок получает обновления. PC живет гораздо дольше.\n",
    "\n",
    "Самые продаваемые консоли за все время это PS2, X360, PS3, Wii, DS. После отбора актуального периода для анализа список лидеров поменялся(с 2012 года по 2016):PS4, PS3, X360, 3DS, XOne. Из них наиболее перспективные в части прибыли - PS4, XOne, 3DS. По длительности жизни PC.\n",
    "\n",
    "Прибыльные платформы: PS4, XOne, 3DS. Первые 2 платформы новые и на них выпускают больше всего игр. На PS4 выпускают игр больше из за политики маркетинга компании на эту платформу выпускают эксклюзивные игры.\n",
    "\n",
    "Игровая индустрия переживает не лучшие времена. Каждый год происходит спад выручки.\n",
    "\n",
    "Оценки критиков и пользователей примерно одинаковые, такое наблюдается на платформе PS4 и 3DS. Есть небольшая разница между оценками пользователей и критиков у платформы XOne. Интересно, что плохих оценок от критиков нет, чего не скажешь об оценках пользователей. Пользователи более критичны к оценкам, нежели критики, так как часто бывает, что крупные компании вкладывают много денег в продвижение и отзывы. Оценки пользователей практически не влияют на продажи, отрицательная корреляция наблюдается у платформ PC, PS4, XOne, но у японцев 3DS есть слабая связь отзывов пользователей и продаж. У PC зависимость продаж от оценок критиков меньше чем на других платформах.\n",
    "\n",
    "Самый прибыльный жанр с 2012 года - Action, за ним Shooter, Role-Playing, Sport. Наиболее перспективный жанр на текущее время Shooter, при небольшой доле игр приносит хорошую выручку. Каждый год видим тенденцию к снижению прибыли по играм. Выбивается из значений жанр Adventure в доле жанров игр много, выручки мало. Наоборот в жанре Platform доля мало игр, а прибыль в топе 5 жанров.Стабильно плохо дела в жанре Puzzle, и игр мало и продаж тоже. "
   ]
  },
  {
   "cell_type": "markdown",
   "metadata": {},
   "source": [
    "<div class=\"alert alert-warning\">\n",
    "<h2> Комментарий ревьюера <a class=\"tocSkip\"></h2>\n",
    "    \n",
    "    \n",
    "<b>Некоторые замечания и рекомендации💡:</b> \n",
    "    \n",
    "Вывод объемный и хороший, но давай посмотрим, как он изменится после нескольких исправлений выше) </div>"
   ]
  },
  {
   "cell_type": "markdown",
   "metadata": {},
   "source": [
    "<div style=\"border-radius: 3px; border: 2px solid black; padding: 0px;\"> \n",
    "<div class=\"alert alert-block alert-info\">\n",
    "<h2>Комментарий студента</h2>\n",
    "Дополнила\n",
    "</div> \n",
    "</div>"
   ]
  },
  {
   "cell_type": "markdown",
   "metadata": {
    "id": "PSx8QhJG_HYo"
   },
   "source": [
    "## Портрет пользователя каждого региона"
   ]
  },
  {
   "cell_type": "markdown",
   "metadata": {
    "id": "bez06wDe_J4O"
   },
   "source": [
    "Определите для пользователя каждого региона (NA, EU, JP):\n",
    "* [x] Самые популярные платформы (топ-5). Опишите различия в долях продаж.\n",
    "* [x] Самые популярные жанры (топ-5). Поясните разницу.\n",
    "* [x] Влияет ли рейтинг ESRB на продажи в отдельном регионе?\n"
   ]
  },
  {
   "cell_type": "code",
   "execution_count": 42,
   "metadata": {
    "colab": {
     "base_uri": "https://localhost:8080/",
     "height": 206
    },
    "id": "4yZWOpxEAZEO",
    "outputId": "c14502e7-fa1b-4e2d-fcac-7ef3fa358b21"
   },
   "outputs": [
    {
     "data": {
      "text/html": [
       "<div>\n",
       "<style scoped>\n",
       "    .dataframe tbody tr th:only-of-type {\n",
       "        vertical-align: middle;\n",
       "    }\n",
       "\n",
       "    .dataframe tbody tr th {\n",
       "        vertical-align: top;\n",
       "    }\n",
       "\n",
       "    .dataframe thead th {\n",
       "        text-align: right;\n",
       "    }\n",
       "</style>\n",
       "<table border=\"1\" class=\"dataframe\">\n",
       "  <thead>\n",
       "    <tr style=\"text-align: right;\">\n",
       "      <th></th>\n",
       "      <th>name</th>\n",
       "      <th>platform</th>\n",
       "      <th>year_of_release</th>\n",
       "      <th>genre</th>\n",
       "      <th>na_sales</th>\n",
       "      <th>eu_sales</th>\n",
       "      <th>jp_sales</th>\n",
       "      <th>other_sales</th>\n",
       "      <th>critic_score</th>\n",
       "      <th>user_score</th>\n",
       "      <th>rating</th>\n",
       "      <th>total_sales</th>\n",
       "    </tr>\n",
       "  </thead>\n",
       "  <tbody>\n",
       "    <tr>\n",
       "      <th>16</th>\n",
       "      <td>Grand Theft Auto V</td>\n",
       "      <td>PS3</td>\n",
       "      <td>2013</td>\n",
       "      <td>Action</td>\n",
       "      <td>7.02</td>\n",
       "      <td>9.09</td>\n",
       "      <td>0.98</td>\n",
       "      <td>3.96</td>\n",
       "      <td>97.0</td>\n",
       "      <td>8.2</td>\n",
       "      <td>M</td>\n",
       "      <td>21.05</td>\n",
       "    </tr>\n",
       "    <tr>\n",
       "      <th>23</th>\n",
       "      <td>Grand Theft Auto V</td>\n",
       "      <td>X360</td>\n",
       "      <td>2013</td>\n",
       "      <td>Action</td>\n",
       "      <td>9.66</td>\n",
       "      <td>5.14</td>\n",
       "      <td>0.06</td>\n",
       "      <td>1.41</td>\n",
       "      <td>97.0</td>\n",
       "      <td>8.1</td>\n",
       "      <td>M</td>\n",
       "      <td>16.27</td>\n",
       "    </tr>\n",
       "    <tr>\n",
       "      <th>31</th>\n",
       "      <td>Call of Duty: Black Ops 3</td>\n",
       "      <td>PS4</td>\n",
       "      <td>2015</td>\n",
       "      <td>Shooter</td>\n",
       "      <td>6.03</td>\n",
       "      <td>5.86</td>\n",
       "      <td>0.36</td>\n",
       "      <td>2.38</td>\n",
       "      <td>NaN</td>\n",
       "      <td>NaN</td>\n",
       "      <td>no rating</td>\n",
       "      <td>14.63</td>\n",
       "    </tr>\n",
       "    <tr>\n",
       "      <th>33</th>\n",
       "      <td>Pokemon X/Pokemon Y</td>\n",
       "      <td>3DS</td>\n",
       "      <td>2013</td>\n",
       "      <td>Role-Playing</td>\n",
       "      <td>5.28</td>\n",
       "      <td>4.19</td>\n",
       "      <td>4.35</td>\n",
       "      <td>0.78</td>\n",
       "      <td>NaN</td>\n",
       "      <td>NaN</td>\n",
       "      <td>no rating</td>\n",
       "      <td>14.60</td>\n",
       "    </tr>\n",
       "    <tr>\n",
       "      <th>34</th>\n",
       "      <td>Call of Duty: Black Ops II</td>\n",
       "      <td>PS3</td>\n",
       "      <td>2012</td>\n",
       "      <td>Shooter</td>\n",
       "      <td>4.99</td>\n",
       "      <td>5.73</td>\n",
       "      <td>0.65</td>\n",
       "      <td>2.42</td>\n",
       "      <td>83.0</td>\n",
       "      <td>5.3</td>\n",
       "      <td>M</td>\n",
       "      <td>13.79</td>\n",
       "    </tr>\n",
       "  </tbody>\n",
       "</table>\n",
       "</div>"
      ],
      "text/plain": [
       "                          name platform  year_of_release         genre  \\\n",
       "16          Grand Theft Auto V      PS3             2013        Action   \n",
       "23          Grand Theft Auto V     X360             2013        Action   \n",
       "31   Call of Duty: Black Ops 3      PS4             2015       Shooter   \n",
       "33         Pokemon X/Pokemon Y      3DS             2013  Role-Playing   \n",
       "34  Call of Duty: Black Ops II      PS3             2012       Shooter   \n",
       "\n",
       "    na_sales  eu_sales  jp_sales  other_sales  critic_score  user_score  \\\n",
       "16      7.02      9.09      0.98         3.96          97.0         8.2   \n",
       "23      9.66      5.14      0.06         1.41          97.0         8.1   \n",
       "31      6.03      5.86      0.36         2.38           NaN         NaN   \n",
       "33      5.28      4.19      4.35         0.78           NaN         NaN   \n",
       "34      4.99      5.73      0.65         2.42          83.0         5.3   \n",
       "\n",
       "       rating  total_sales  \n",
       "16          M        21.05  \n",
       "23          M        16.27  \n",
       "31  no rating        14.63  \n",
       "33  no rating        14.60  \n",
       "34          M        13.79  "
      ]
     },
     "execution_count": 42,
     "metadata": {},
     "output_type": "execute_result"
    }
   ],
   "source": [
    "games_2012.head()"
   ]
  },
  {
   "cell_type": "markdown",
   "metadata": {},
   "source": [
    "### Самые популярные платформы ТОП-5. Опишите различия в долях продаж  "
   ]
  },
  {
   "cell_type": "code",
   "execution_count": 43,
   "metadata": {
    "id": "7UNiIlHgSkrl"
   },
   "outputs": [],
   "source": [
    "games_2012_na = games_2012.groupby(by='platform').agg({'na_sales':'sum'}).sort_values(by='na_sales', ascending=False)\n",
    "games_2012_eu = games_2012.groupby(by='platform').agg({'eu_sales':'sum'}).sort_values(by='eu_sales', ascending=False)\n",
    "games_2012_jp = games_2012.groupby(by='platform').agg({'jp_sales':'sum'}).sort_values(by='jp_sales', ascending=False)"
   ]
  },
  {
   "cell_type": "code",
   "execution_count": 44,
   "metadata": {
    "colab": {
     "base_uri": "https://localhost:8080/",
     "height": 532
    },
    "id": "eQDSEUTsUBJx",
    "outputId": "687afd49-ed79-4fb7-9b9c-8c5f5cd2407c"
   },
   "outputs": [
    {
     "data": {
      "image/png": "[encoded data removed]",
      "text/plain": [
       "<Figure size 432x288 with 1 Axes>"
      ]
     },
     "metadata": {
      "needs_background": "light"
     },
     "output_type": "display_data"
    },
    {
     "data": {
      "text/html": [
       "<div>\n",
       "<style scoped>\n",
       "    .dataframe tbody tr th:only-of-type {\n",
       "        vertical-align: middle;\n",
       "    }\n",
       "\n",
       "    .dataframe tbody tr th {\n",
       "        vertical-align: top;\n",
       "    }\n",
       "\n",
       "    .dataframe thead th {\n",
       "        text-align: right;\n",
       "    }\n",
       "</style>\n",
       "<table border=\"1\" class=\"dataframe\">\n",
       "  <thead>\n",
       "    <tr style=\"text-align: right;\">\n",
       "      <th></th>\n",
       "      <th>na_sales</th>\n",
       "      <th>share</th>\n",
       "    </tr>\n",
       "    <tr>\n",
       "      <th>platform</th>\n",
       "      <th></th>\n",
       "      <th></th>\n",
       "    </tr>\n",
       "  </thead>\n",
       "  <tbody>\n",
       "    <tr>\n",
       "      <th>X360</th>\n",
       "      <td>140.05</td>\n",
       "      <td>23.698326</td>\n",
       "    </tr>\n",
       "    <tr>\n",
       "      <th>PS4</th>\n",
       "      <td>108.74</td>\n",
       "      <td>18.400257</td>\n",
       "    </tr>\n",
       "    <tr>\n",
       "      <th>PS3</th>\n",
       "      <td>103.38</td>\n",
       "      <td>17.493274</td>\n",
       "    </tr>\n",
       "    <tr>\n",
       "      <th>XOne</th>\n",
       "      <td>93.12</td>\n",
       "      <td>15.757145</td>\n",
       "    </tr>\n",
       "    <tr>\n",
       "      <th>3DS</th>\n",
       "      <td>55.31</td>\n",
       "      <td>9.359189</td>\n",
       "    </tr>\n",
       "  </tbody>\n",
       "</table>\n",
       "</div>"
      ],
      "text/plain": [
       "          na_sales      share\n",
       "platform                     \n",
       "X360        140.05  23.698326\n",
       "PS4         108.74  18.400257\n",
       "PS3         103.38  17.493274\n",
       "XOne         93.12  15.757145\n",
       "3DS          55.31   9.359189"
      ]
     },
     "execution_count": 44,
     "metadata": {},
     "output_type": "execute_result"
    }
   ],
   "source": [
    "games_2012_na.head(5).plot(kind='bar')\n",
    "plt.title('Топ 5 популярных платформ в Северной Америке')\n",
    "plt.show()\n",
    "games_2012_na['share'] = (games_2012_na['na_sales']/games_2012_na['na_sales'].sum())*100\n",
    "games_2012_na.head(5)"
   ]
  },
  {
   "cell_type": "code",
   "execution_count": 45,
   "metadata": {
    "colab": {
     "base_uri": "https://localhost:8080/",
     "height": 457
    },
    "id": "q06oxXQCbEh9",
    "outputId": "4b059163-2d78-4036-99ea-ec111f5b4e4c"
   },
   "outputs": [
    {
     "data": {
      "text/html": [
       "<div>\n",
       "<style scoped>\n",
       "    .dataframe tbody tr th:only-of-type {\n",
       "        vertical-align: middle;\n",
       "    }\n",
       "\n",
       "    .dataframe tbody tr th {\n",
       "        vertical-align: top;\n",
       "    }\n",
       "\n",
       "    .dataframe thead th {\n",
       "        text-align: right;\n",
       "    }\n",
       "</style>\n",
       "<table border=\"1\" class=\"dataframe\">\n",
       "  <thead>\n",
       "    <tr style=\"text-align: right;\">\n",
       "      <th>year_of_release</th>\n",
       "      <th>2012</th>\n",
       "      <th>2013</th>\n",
       "      <th>2014</th>\n",
       "      <th>2015</th>\n",
       "      <th>2016</th>\n",
       "      <th>All</th>\n",
       "    </tr>\n",
       "    <tr>\n",
       "      <th>platform</th>\n",
       "      <th></th>\n",
       "      <th></th>\n",
       "      <th></th>\n",
       "      <th></th>\n",
       "      <th></th>\n",
       "      <th></th>\n",
       "    </tr>\n",
       "  </thead>\n",
       "  <tbody>\n",
       "    <tr>\n",
       "      <th>All</th>\n",
       "      <td>153.26</td>\n",
       "      <td>153.65</td>\n",
       "      <td>132.27</td>\n",
       "      <td>106.86</td>\n",
       "      <td>44.93</td>\n",
       "      <td>590.97</td>\n",
       "    </tr>\n",
       "    <tr>\n",
       "      <th>X360</th>\n",
       "      <td>58.39</td>\n",
       "      <td>53.36</td>\n",
       "      <td>20.25</td>\n",
       "      <td>7.36</td>\n",
       "      <td>0.69</td>\n",
       "      <td>140.05</td>\n",
       "    </tr>\n",
       "    <tr>\n",
       "      <th>PS4</th>\n",
       "      <td>NaN</td>\n",
       "      <td>10.13</td>\n",
       "      <td>34.75</td>\n",
       "      <td>42.37</td>\n",
       "      <td>21.49</td>\n",
       "      <td>108.74</td>\n",
       "    </tr>\n",
       "    <tr>\n",
       "      <th>PS3</th>\n",
       "      <td>39.88</td>\n",
       "      <td>41.45</td>\n",
       "      <td>16.39</td>\n",
       "      <td>4.99</td>\n",
       "      <td>0.67</td>\n",
       "      <td>103.38</td>\n",
       "    </tr>\n",
       "    <tr>\n",
       "      <th>XOne</th>\n",
       "      <td>NaN</td>\n",
       "      <td>11.85</td>\n",
       "      <td>30.97</td>\n",
       "      <td>36.03</td>\n",
       "      <td>14.27</td>\n",
       "      <td>93.12</td>\n",
       "    </tr>\n",
       "    <tr>\n",
       "      <th>3DS</th>\n",
       "      <td>17.11</td>\n",
       "      <td>15.56</td>\n",
       "      <td>12.33</td>\n",
       "      <td>6.17</td>\n",
       "      <td>4.14</td>\n",
       "      <td>55.31</td>\n",
       "    </tr>\n",
       "    <tr>\n",
       "      <th>WiiU</th>\n",
       "      <td>8.89</td>\n",
       "      <td>9.85</td>\n",
       "      <td>10.50</td>\n",
       "      <td>6.76</td>\n",
       "      <td>2.10</td>\n",
       "      <td>38.10</td>\n",
       "    </tr>\n",
       "    <tr>\n",
       "      <th>PC</th>\n",
       "      <td>8.01</td>\n",
       "      <td>3.88</td>\n",
       "      <td>3.51</td>\n",
       "      <td>2.36</td>\n",
       "      <td>1.36</td>\n",
       "      <td>19.12</td>\n",
       "    </tr>\n",
       "    <tr>\n",
       "      <th>Wii</th>\n",
       "      <td>10.89</td>\n",
       "      <td>4.48</td>\n",
       "      <td>1.59</td>\n",
       "      <td>0.43</td>\n",
       "      <td>0.06</td>\n",
       "      <td>17.45</td>\n",
       "    </tr>\n",
       "    <tr>\n",
       "      <th>PSV</th>\n",
       "      <td>5.94</td>\n",
       "      <td>2.52</td>\n",
       "      <td>1.98</td>\n",
       "      <td>0.39</td>\n",
       "      <td>0.15</td>\n",
       "      <td>10.98</td>\n",
       "    </tr>\n",
       "    <tr>\n",
       "      <th>DS</th>\n",
       "      <td>4.02</td>\n",
       "      <td>0.57</td>\n",
       "      <td>NaN</td>\n",
       "      <td>NaN</td>\n",
       "      <td>NaN</td>\n",
       "      <td>4.59</td>\n",
       "    </tr>\n",
       "    <tr>\n",
       "      <th>PSP</th>\n",
       "      <td>0.13</td>\n",
       "      <td>0.00</td>\n",
       "      <td>0.00</td>\n",
       "      <td>0.00</td>\n",
       "      <td>NaN</td>\n",
       "      <td>0.13</td>\n",
       "    </tr>\n",
       "  </tbody>\n",
       "</table>\n",
       "</div>"
      ],
      "text/plain": [
       "year_of_release    2012    2013    2014    2015   2016     All\n",
       "platform                                                      \n",
       "All              153.26  153.65  132.27  106.86  44.93  590.97\n",
       "X360              58.39   53.36   20.25    7.36   0.69  140.05\n",
       "PS4                 NaN   10.13   34.75   42.37  21.49  108.74\n",
       "PS3               39.88   41.45   16.39    4.99   0.67  103.38\n",
       "XOne                NaN   11.85   30.97   36.03  14.27   93.12\n",
       "3DS               17.11   15.56   12.33    6.17   4.14   55.31\n",
       "WiiU               8.89    9.85   10.50    6.76   2.10   38.10\n",
       "PC                 8.01    3.88    3.51    2.36   1.36   19.12\n",
       "Wii               10.89    4.48    1.59    0.43   0.06   17.45\n",
       "PSV                5.94    2.52    1.98    0.39   0.15   10.98\n",
       "DS                 4.02    0.57     NaN     NaN    NaN    4.59\n",
       "PSP                0.13    0.00    0.00    0.00    NaN    0.13"
      ]
     },
     "execution_count": 45,
     "metadata": {},
     "output_type": "execute_result"
    }
   ],
   "source": [
    "pd.pivot_table(data=games_2012,\n",
    "               index=['platform'],\n",
    "               columns=['year_of_release'],\n",
    "               values = ('na_sales'), \n",
    "               aggfunc = ('sum'),\n",
    "               margins=True).sort_values(by='All', ascending=False)"
   ]
  },
  {
   "cell_type": "markdown",
   "metadata": {
    "id": "d1khqWf9aKgs"
   },
   "source": [
    "В Северной Америке лидируют по продажам приставка от компании Microsoft, на втором месте приставка от Sony, PS4 это новая версия консоли от компании, ее старая версия находится на 3 месте. Примичательно, что на первом месте по продажам приставка старого поколения, но с 2014 года происходит падение продаж, тогда как новая консоль XOne наоборот наращивает выручку. Жители Северной Америки поддерживают своего производителя и продвигают его в топ. "
   ]
  },
  {
   "cell_type": "code",
   "execution_count": 46,
   "metadata": {
    "colab": {
     "base_uri": "https://localhost:8080/",
     "height": 532
    },
    "id": "hxtNWBVOWj08",
    "outputId": "0c56169b-545d-4d31-ac3a-9915e6dd6cd4"
   },
   "outputs": [
    {
     "data": {
      "image/png": "[encoded data removed]",
      "text/plain": [
       "<Figure size 432x288 with 1 Axes>"
      ]
     },
     "metadata": {
      "needs_background": "light"
     },
     "output_type": "display_data"
    },
    {
     "data": {
      "text/html": [
       "<div>\n",
       "<style scoped>\n",
       "    .dataframe tbody tr th:only-of-type {\n",
       "        vertical-align: middle;\n",
       "    }\n",
       "\n",
       "    .dataframe tbody tr th {\n",
       "        vertical-align: top;\n",
       "    }\n",
       "\n",
       "    .dataframe thead th {\n",
       "        text-align: right;\n",
       "    }\n",
       "</style>\n",
       "<table border=\"1\" class=\"dataframe\">\n",
       "  <thead>\n",
       "    <tr style=\"text-align: right;\">\n",
       "      <th></th>\n",
       "      <th>eu_sales</th>\n",
       "      <th>share</th>\n",
       "    </tr>\n",
       "    <tr>\n",
       "      <th>platform</th>\n",
       "      <th></th>\n",
       "      <th></th>\n",
       "    </tr>\n",
       "  </thead>\n",
       "  <tbody>\n",
       "    <tr>\n",
       "      <th>PS4</th>\n",
       "      <td>141.09</td>\n",
       "      <td>27.838286</td>\n",
       "    </tr>\n",
       "    <tr>\n",
       "      <th>PS3</th>\n",
       "      <td>106.86</td>\n",
       "      <td>21.084409</td>\n",
       "    </tr>\n",
       "    <tr>\n",
       "      <th>X360</th>\n",
       "      <td>74.52</td>\n",
       "      <td>14.703445</td>\n",
       "    </tr>\n",
       "    <tr>\n",
       "      <th>XOne</th>\n",
       "      <td>51.59</td>\n",
       "      <td>10.179156</td>\n",
       "    </tr>\n",
       "    <tr>\n",
       "      <th>3DS</th>\n",
       "      <td>42.64</td>\n",
       "      <td>8.413243</td>\n",
       "    </tr>\n",
       "  </tbody>\n",
       "</table>\n",
       "</div>"
      ],
      "text/plain": [
       "          eu_sales      share\n",
       "platform                     \n",
       "PS4         141.09  27.838286\n",
       "PS3         106.86  21.084409\n",
       "X360         74.52  14.703445\n",
       "XOne         51.59  10.179156\n",
       "3DS          42.64   8.413243"
      ]
     },
     "execution_count": 46,
     "metadata": {},
     "output_type": "execute_result"
    }
   ],
   "source": [
    "games_2012_eu.head(5).plot(kind='bar')\n",
    "plt.title('Топ 5 популярных платформ в Европе')\n",
    "plt.show()\n",
    "games_2012_eu['share'] = (games_2012_eu['eu_sales']/games_2012_eu['eu_sales'].sum())*100\n",
    "games_2012_eu.head(5)"
   ]
  },
  {
   "cell_type": "code",
   "execution_count": 47,
   "metadata": {
    "colab": {
     "base_uri": "https://localhost:8080/",
     "height": 457
    },
    "id": "KL9xaxKTdCCr",
    "outputId": "fa7cf049-fbff-45ba-c3f9-7e9bbedb9a46"
   },
   "outputs": [
    {
     "data": {
      "text/html": [
       "<div>\n",
       "<style scoped>\n",
       "    .dataframe tbody tr th:only-of-type {\n",
       "        vertical-align: middle;\n",
       "    }\n",
       "\n",
       "    .dataframe tbody tr th {\n",
       "        vertical-align: top;\n",
       "    }\n",
       "\n",
       "    .dataframe thead th {\n",
       "        text-align: right;\n",
       "    }\n",
       "</style>\n",
       "<table border=\"1\" class=\"dataframe\">\n",
       "  <thead>\n",
       "    <tr style=\"text-align: right;\">\n",
       "      <th>year_of_release</th>\n",
       "      <th>2012</th>\n",
       "      <th>2013</th>\n",
       "      <th>2014</th>\n",
       "      <th>2015</th>\n",
       "      <th>2016</th>\n",
       "      <th>All</th>\n",
       "    </tr>\n",
       "    <tr>\n",
       "      <th>platform</th>\n",
       "      <th></th>\n",
       "      <th></th>\n",
       "      <th></th>\n",
       "      <th></th>\n",
       "      <th></th>\n",
       "      <th></th>\n",
       "    </tr>\n",
       "  </thead>\n",
       "  <tbody>\n",
       "    <tr>\n",
       "      <th>All</th>\n",
       "      <td>114.59</td>\n",
       "      <td>121.55</td>\n",
       "      <td>122.74</td>\n",
       "      <td>96.72</td>\n",
       "      <td>51.22</td>\n",
       "      <td>506.82</td>\n",
       "    </tr>\n",
       "    <tr>\n",
       "      <th>PS4</th>\n",
       "      <td>NaN</td>\n",
       "      <td>11.05</td>\n",
       "      <td>46.50</td>\n",
       "      <td>51.76</td>\n",
       "      <td>31.78</td>\n",
       "      <td>141.09</td>\n",
       "    </tr>\n",
       "    <tr>\n",
       "      <th>PS3</th>\n",
       "      <td>39.05</td>\n",
       "      <td>42.27</td>\n",
       "      <td>18.24</td>\n",
       "      <td>6.04</td>\n",
       "      <td>1.26</td>\n",
       "      <td>106.86</td>\n",
       "    </tr>\n",
       "    <tr>\n",
       "      <th>X360</th>\n",
       "      <td>32.00</td>\n",
       "      <td>27.03</td>\n",
       "      <td>11.28</td>\n",
       "      <td>3.50</td>\n",
       "      <td>0.71</td>\n",
       "      <td>74.52</td>\n",
       "    </tr>\n",
       "    <tr>\n",
       "      <th>XOne</th>\n",
       "      <td>NaN</td>\n",
       "      <td>5.34</td>\n",
       "      <td>18.15</td>\n",
       "      <td>18.47</td>\n",
       "      <td>9.63</td>\n",
       "      <td>51.59</td>\n",
       "    </tr>\n",
       "    <tr>\n",
       "      <th>3DS</th>\n",
       "      <td>11.68</td>\n",
       "      <td>14.84</td>\n",
       "      <td>8.73</td>\n",
       "      <td>5.06</td>\n",
       "      <td>2.33</td>\n",
       "      <td>42.64</td>\n",
       "    </tr>\n",
       "    <tr>\n",
       "      <th>PC</th>\n",
       "      <td>12.40</td>\n",
       "      <td>7.39</td>\n",
       "      <td>8.87</td>\n",
       "      <td>5.57</td>\n",
       "      <td>3.53</td>\n",
       "      <td>37.76</td>\n",
       "    </tr>\n",
       "    <tr>\n",
       "      <th>WiiU</th>\n",
       "      <td>5.28</td>\n",
       "      <td>6.70</td>\n",
       "      <td>6.66</td>\n",
       "      <td>5.01</td>\n",
       "      <td>1.48</td>\n",
       "      <td>25.13</td>\n",
       "    </tr>\n",
       "    <tr>\n",
       "      <th>Wii</th>\n",
       "      <td>5.99</td>\n",
       "      <td>3.34</td>\n",
       "      <td>1.86</td>\n",
       "      <td>0.62</td>\n",
       "      <td>0.11</td>\n",
       "      <td>11.92</td>\n",
       "    </tr>\n",
       "    <tr>\n",
       "      <th>PSV</th>\n",
       "      <td>5.26</td>\n",
       "      <td>2.57</td>\n",
       "      <td>2.45</td>\n",
       "      <td>0.69</td>\n",
       "      <td>0.39</td>\n",
       "      <td>11.36</td>\n",
       "    </tr>\n",
       "    <tr>\n",
       "      <th>DS</th>\n",
       "      <td>2.68</td>\n",
       "      <td>0.85</td>\n",
       "      <td>NaN</td>\n",
       "      <td>NaN</td>\n",
       "      <td>NaN</td>\n",
       "      <td>3.53</td>\n",
       "    </tr>\n",
       "    <tr>\n",
       "      <th>PSP</th>\n",
       "      <td>0.25</td>\n",
       "      <td>0.17</td>\n",
       "      <td>0.00</td>\n",
       "      <td>0.00</td>\n",
       "      <td>NaN</td>\n",
       "      <td>0.42</td>\n",
       "    </tr>\n",
       "  </tbody>\n",
       "</table>\n",
       "</div>"
      ],
      "text/plain": [
       "year_of_release    2012    2013    2014   2015   2016     All\n",
       "platform                                                     \n",
       "All              114.59  121.55  122.74  96.72  51.22  506.82\n",
       "PS4                 NaN   11.05   46.50  51.76  31.78  141.09\n",
       "PS3               39.05   42.27   18.24   6.04   1.26  106.86\n",
       "X360              32.00   27.03   11.28   3.50   0.71   74.52\n",
       "XOne                NaN    5.34   18.15  18.47   9.63   51.59\n",
       "3DS               11.68   14.84    8.73   5.06   2.33   42.64\n",
       "PC                12.40    7.39    8.87   5.57   3.53   37.76\n",
       "WiiU               5.28    6.70    6.66   5.01   1.48   25.13\n",
       "Wii                5.99    3.34    1.86   0.62   0.11   11.92\n",
       "PSV                5.26    2.57    2.45   0.69   0.39   11.36\n",
       "DS                 2.68    0.85     NaN    NaN    NaN    3.53\n",
       "PSP                0.25    0.17    0.00   0.00    NaN    0.42"
      ]
     },
     "execution_count": 47,
     "metadata": {},
     "output_type": "execute_result"
    }
   ],
   "source": [
    "pd.pivot_table(data=games_2012,\n",
    "               index=['platform'],\n",
    "               columns=['year_of_release'],\n",
    "               values = ('eu_sales'), \n",
    "               aggfunc = ('sum'),\n",
    "               margins=True).sort_values(by='All', ascending=False)"
   ]
  },
  {
   "cell_type": "markdown",
   "metadata": {
    "id": "ydoVwa0rdd3c"
   },
   "source": [
    "В Европе поддерживают марку Sony, от них 2 консоли в лидерах, они покрывают 48% рынка, выручка старой консоли PS3 с годами падает, тогда как ее предшевственница только набирает обороты в рынке. Следующими идут представители от Microsoft, на 3 месте находится консоль старого образца, доля выручки снижается, и новая версия выйдет на 3 место. Интересно, что на 5 месте и в Северной Америке и в Европе расположилась портативная консоль 3DS. "
   ]
  },
  {
   "cell_type": "code",
   "execution_count": 48,
   "metadata": {
    "colab": {
     "base_uri": "https://localhost:8080/",
     "height": 528
    },
    "id": "OagoVrS9W40-",
    "outputId": "45b81164-dfaa-4aa5-c1e1-d5df95b650a4"
   },
   "outputs": [
    {
     "data": {
      "image/png": "[encoded data removed]",
      "text/plain": [
       "<Figure size 432x288 with 1 Axes>"
      ]
     },
     "metadata": {
      "needs_background": "light"
     },
     "output_type": "display_data"
    },
    {
     "data": {
      "text/html": [
       "<div>\n",
       "<style scoped>\n",
       "    .dataframe tbody tr th:only-of-type {\n",
       "        vertical-align: middle;\n",
       "    }\n",
       "\n",
       "    .dataframe tbody tr th {\n",
       "        vertical-align: top;\n",
       "    }\n",
       "\n",
       "    .dataframe thead th {\n",
       "        text-align: right;\n",
       "    }\n",
       "</style>\n",
       "<table border=\"1\" class=\"dataframe\">\n",
       "  <thead>\n",
       "    <tr style=\"text-align: right;\">\n",
       "      <th></th>\n",
       "      <th>jp_sales</th>\n",
       "      <th>share</th>\n",
       "    </tr>\n",
       "    <tr>\n",
       "      <th>platform</th>\n",
       "      <th></th>\n",
       "      <th></th>\n",
       "    </tr>\n",
       "  </thead>\n",
       "  <tbody>\n",
       "    <tr>\n",
       "      <th>3DS</th>\n",
       "      <td>87.79</td>\n",
       "      <td>45.586250</td>\n",
       "    </tr>\n",
       "    <tr>\n",
       "      <th>PS3</th>\n",
       "      <td>35.29</td>\n",
       "      <td>18.324852</td>\n",
       "    </tr>\n",
       "    <tr>\n",
       "      <th>PSV</th>\n",
       "      <td>21.04</td>\n",
       "      <td>10.925330</td>\n",
       "    </tr>\n",
       "    <tr>\n",
       "      <th>PS4</th>\n",
       "      <td>15.96</td>\n",
       "      <td>8.287465</td>\n",
       "    </tr>\n",
       "    <tr>\n",
       "      <th>WiiU</th>\n",
       "      <td>13.01</td>\n",
       "      <td>6.755634</td>\n",
       "    </tr>\n",
       "  </tbody>\n",
       "</table>\n",
       "</div>"
      ],
      "text/plain": [
       "          jp_sales      share\n",
       "platform                     \n",
       "3DS          87.79  45.586250\n",
       "PS3          35.29  18.324852\n",
       "PSV          21.04  10.925330\n",
       "PS4          15.96   8.287465\n",
       "WiiU         13.01   6.755634"
      ]
     },
     "execution_count": 48,
     "metadata": {},
     "output_type": "execute_result"
    }
   ],
   "source": [
    "games_2012_jp.head(5).plot(kind='bar')\n",
    "plt.title('Топ 5 популярных платформ в Японии')\n",
    "plt.show()\n",
    "games_2012_jp['share'] = (games_2012_jp['jp_sales']/games_2012_jp['jp_sales'].sum())*100\n",
    "games_2012_jp.head(5)"
   ]
  },
  {
   "cell_type": "code",
   "execution_count": 49,
   "metadata": {
    "colab": {
     "base_uri": "https://localhost:8080/",
     "height": 457
    },
    "id": "OnnacF0jdNqD",
    "outputId": "5574d916-8b63-4cc7-da9b-904156c94f38"
   },
   "outputs": [
    {
     "data": {
      "text/html": [
       "<div>\n",
       "<style scoped>\n",
       "    .dataframe tbody tr th:only-of-type {\n",
       "        vertical-align: middle;\n",
       "    }\n",
       "\n",
       "    .dataframe tbody tr th {\n",
       "        vertical-align: top;\n",
       "    }\n",
       "\n",
       "    .dataframe thead th {\n",
       "        text-align: right;\n",
       "    }\n",
       "</style>\n",
       "<table border=\"1\" class=\"dataframe\">\n",
       "  <thead>\n",
       "    <tr style=\"text-align: right;\">\n",
       "      <th>year_of_release</th>\n",
       "      <th>2012</th>\n",
       "      <th>2013</th>\n",
       "      <th>2014</th>\n",
       "      <th>2015</th>\n",
       "      <th>2016</th>\n",
       "      <th>All</th>\n",
       "    </tr>\n",
       "    <tr>\n",
       "      <th>platform</th>\n",
       "      <th></th>\n",
       "      <th></th>\n",
       "      <th></th>\n",
       "      <th></th>\n",
       "      <th></th>\n",
       "      <th></th>\n",
       "    </tr>\n",
       "  </thead>\n",
       "  <tbody>\n",
       "    <tr>\n",
       "      <th>All</th>\n",
       "      <td>51.80</td>\n",
       "      <td>47.69</td>\n",
       "      <td>39.69</td>\n",
       "      <td>34.09</td>\n",
       "      <td>19.31</td>\n",
       "      <td>192.58</td>\n",
       "    </tr>\n",
       "    <tr>\n",
       "      <th>3DS</th>\n",
       "      <td>19.98</td>\n",
       "      <td>23.57</td>\n",
       "      <td>20.69</td>\n",
       "      <td>15.52</td>\n",
       "      <td>8.03</td>\n",
       "      <td>87.79</td>\n",
       "    </tr>\n",
       "    <tr>\n",
       "      <th>PS3</th>\n",
       "      <td>11.94</td>\n",
       "      <td>12.13</td>\n",
       "      <td>6.25</td>\n",
       "      <td>3.67</td>\n",
       "      <td>1.30</td>\n",
       "      <td>35.29</td>\n",
       "    </tr>\n",
       "    <tr>\n",
       "      <th>PSV</th>\n",
       "      <td>2.45</td>\n",
       "      <td>4.05</td>\n",
       "      <td>6.13</td>\n",
       "      <td>4.85</td>\n",
       "      <td>3.56</td>\n",
       "      <td>21.04</td>\n",
       "    </tr>\n",
       "    <tr>\n",
       "      <th>PS4</th>\n",
       "      <td>NaN</td>\n",
       "      <td>0.94</td>\n",
       "      <td>2.97</td>\n",
       "      <td>6.31</td>\n",
       "      <td>5.74</td>\n",
       "      <td>15.96</td>\n",
       "    </tr>\n",
       "    <tr>\n",
       "      <th>WiiU</th>\n",
       "      <td>2.13</td>\n",
       "      <td>3.57</td>\n",
       "      <td>3.19</td>\n",
       "      <td>3.45</td>\n",
       "      <td>0.67</td>\n",
       "      <td>13.01</td>\n",
       "    </tr>\n",
       "    <tr>\n",
       "      <th>PSP</th>\n",
       "      <td>7.18</td>\n",
       "      <td>2.93</td>\n",
       "      <td>0.24</td>\n",
       "      <td>0.12</td>\n",
       "      <td>NaN</td>\n",
       "      <td>10.47</td>\n",
       "    </tr>\n",
       "    <tr>\n",
       "      <th>DS</th>\n",
       "      <td>3.72</td>\n",
       "      <td>0.00</td>\n",
       "      <td>NaN</td>\n",
       "      <td>NaN</td>\n",
       "      <td>NaN</td>\n",
       "      <td>3.72</td>\n",
       "    </tr>\n",
       "    <tr>\n",
       "      <th>Wii</th>\n",
       "      <td>3.34</td>\n",
       "      <td>0.05</td>\n",
       "      <td>0.00</td>\n",
       "      <td>0.00</td>\n",
       "      <td>0.00</td>\n",
       "      <td>3.39</td>\n",
       "    </tr>\n",
       "    <tr>\n",
       "      <th>X360</th>\n",
       "      <td>1.06</td>\n",
       "      <td>0.43</td>\n",
       "      <td>0.08</td>\n",
       "      <td>0.00</td>\n",
       "      <td>0.00</td>\n",
       "      <td>1.57</td>\n",
       "    </tr>\n",
       "    <tr>\n",
       "      <th>XOne</th>\n",
       "      <td>NaN</td>\n",
       "      <td>0.02</td>\n",
       "      <td>0.14</td>\n",
       "      <td>0.17</td>\n",
       "      <td>0.01</td>\n",
       "      <td>0.34</td>\n",
       "    </tr>\n",
       "    <tr>\n",
       "      <th>PC</th>\n",
       "      <td>0.00</td>\n",
       "      <td>0.00</td>\n",
       "      <td>0.00</td>\n",
       "      <td>0.00</td>\n",
       "      <td>0.00</td>\n",
       "      <td>0.00</td>\n",
       "    </tr>\n",
       "  </tbody>\n",
       "</table>\n",
       "</div>"
      ],
      "text/plain": [
       "year_of_release   2012   2013   2014   2015   2016     All\n",
       "platform                                                  \n",
       "All              51.80  47.69  39.69  34.09  19.31  192.58\n",
       "3DS              19.98  23.57  20.69  15.52   8.03   87.79\n",
       "PS3              11.94  12.13   6.25   3.67   1.30   35.29\n",
       "PSV               2.45   4.05   6.13   4.85   3.56   21.04\n",
       "PS4                NaN   0.94   2.97   6.31   5.74   15.96\n",
       "WiiU              2.13   3.57   3.19   3.45   0.67   13.01\n",
       "PSP               7.18   2.93   0.24   0.12    NaN   10.47\n",
       "DS                3.72   0.00    NaN    NaN    NaN    3.72\n",
       "Wii               3.34   0.05   0.00   0.00   0.00    3.39\n",
       "X360              1.06   0.43   0.08   0.00   0.00    1.57\n",
       "XOne               NaN   0.02   0.14   0.17   0.01    0.34\n",
       "PC                0.00   0.00   0.00   0.00   0.00    0.00"
      ]
     },
     "execution_count": 49,
     "metadata": {},
     "output_type": "execute_result"
    }
   ],
   "source": [
    "pd.pivot_table(data=games_2012,\n",
    "               index=['platform'],\n",
    "               columns=['year_of_release'],\n",
    "               values = ('jp_sales'), \n",
    "               aggfunc = ('sum'),\n",
    "               margins=True).sort_values(by='All', ascending=False)"
   ]
  },
  {
   "cell_type": "markdown",
   "metadata": {
    "id": "C3CWAZocebb6"
   },
   "source": [
    "В Японии 45% рынка занимает продажи портативной консоли 3DS, видимо японцам важна мобильность. Это самая большая доля продаж на одного производителя на одну консоль. Следующими японцы поддерживают своего производителя Sony, целых 3 версии консоли занимают 2, 3, 4 места. На 5 строчке консоль от Nintendo. "
   ]
  },
  {
   "cell_type": "markdown",
   "metadata": {},
   "source": [
    "<div class=\"alert alert-success\">\n",
    "<h2> Комментарий ревьюера <a class=\"tocSkip\"> </h2>\n",
    "\n",
    "<b>Все отлично!👍:</b> \n",
    " \n",
    "Отличный блок, молодец)"
   ]
  },
  {
   "cell_type": "markdown",
   "metadata": {},
   "source": [
    "### Самые популярные жанры ТОП-5  "
   ]
  },
  {
   "cell_type": "code",
   "execution_count": 50,
   "metadata": {
    "colab": {
     "base_uri": "https://localhost:8080/",
     "height": 1000
    },
    "id": "IQ9zTD5xAkG4",
    "outputId": "99231ecd-3685-4a88-e72a-afe8c070b368"
   },
   "outputs": [
    {
     "data": {
      "image/png": "[encoded data removed]",
      "text/plain": [
       "<Figure size 432x288 with 1 Axes>"
      ]
     },
     "metadata": {
      "needs_background": "light"
     },
     "output_type": "display_data"
    },
    {
     "data": {
      "image/png": "[encoded data removed]",
      "text/plain": [
       "<Figure size 432x288 with 1 Axes>"
      ]
     },
     "metadata": {
      "needs_background": "light"
     },
     "output_type": "display_data"
    },
    {
     "data": {
      "image/png": "[encoded data removed]",
      "text/plain": [
       "<Figure size 432x288 with 1 Axes>"
      ]
     },
     "metadata": {
      "needs_background": "light"
     },
     "output_type": "display_data"
    }
   ],
   "source": [
    "games_2012.groupby(by='genre').agg({'na_sales':'sum'}).sort_values(by='na_sales', ascending=False).head(5).plot(kind='bar')\n",
    "plt.title('Топ 5 жанров в Северной Америке')\n",
    "games_2012.groupby(by='genre').agg({'eu_sales':'sum'}).sort_values(by='eu_sales', ascending=False).head(5).plot(kind='bar')\n",
    "plt.title('Топ 5 жанров в Европе')\n",
    "games_2012.groupby(by='genre').agg({'jp_sales':'sum'}).sort_values(by='jp_sales', ascending=False).head(5).plot(kind='bar')\n",
    "plt.title('Топ 5 жанров в Японии')\n",
    "plt.show()"
   ]
  },
  {
   "cell_type": "markdown",
   "metadata": {
    "id": "_WOvTOu9f4Ze"
   },
   "source": [
    "В Северной Америке и в Европе похожие предпочтения в жанрах игр, различия только в 5 жанре. В Европе предпочитают играть в гонки, в Америке в жанр Misc. Тем временем Японцы Играют в ролевые игры, симуляции и файтинги. "
   ]
  },
  {
   "cell_type": "markdown",
   "metadata": {},
   "source": [
    "<div class=\"alert alert-success\">\n",
    "<h2> Комментарий ревьюера <a class=\"tocSkip\"> </h2>\n",
    "\n",
    "<b>Все отлично!👍:</b> \n",
    " \n",
    "И тут все круто!)"
   ]
  },
  {
   "cell_type": "markdown",
   "metadata": {},
   "source": [
    "###  Влияет ли рейтинг ESRB на продажи в отдельном регионе?"
   ]
  },
  {
   "cell_type": "code",
   "execution_count": 51,
   "metadata": {
    "colab": {
     "base_uri": "https://localhost:8080/",
     "height": 905
    },
    "id": "Sw4h3OJWXqjF",
    "outputId": "08f4ca3a-08b0-4fb6-d3b0-c2dee7b0baf8"
   },
   "outputs": [
    {
     "data": {
      "image/png": "[encoded data removed]",
      "text/plain": [
       "<Figure size 432x288 with 1 Axes>"
      ]
     },
     "metadata": {
      "needs_background": "light"
     },
     "output_type": "display_data"
    },
    {
     "data": {
      "image/png": "[encoded data removed]",
      "text/plain": [
       "<Figure size 432x288 with 1 Axes>"
      ]
     },
     "metadata": {
      "needs_background": "light"
     },
     "output_type": "display_data"
    },
    {
     "data": {
      "image/png": "[encoded data removed]",
      "text/plain": [
       "<Figure size 432x288 with 1 Axes>"
      ]
     },
     "metadata": {
      "needs_background": "light"
     },
     "output_type": "display_data"
    }
   ],
   "source": [
    "games_2012.groupby(by='rating').agg({'na_sales':'sum'}).sort_values(by='na_sales', ascending=False).plot(kind='bar')\n",
    "plt.title('Распределение рейтинга ESRB в Северной Америке')\n",
    "games_2012.groupby(by='rating').agg({'eu_sales':'sum'}).sort_values(by='eu_sales', ascending=False).head(5).plot(kind='bar')\n",
    "plt.title('Распределение рейтинга ESRB в Европе')\n",
    "games_2012.groupby(by='rating').agg({'jp_sales':'sum'}).sort_values(by='jp_sales', ascending=False).head(5).plot(kind='bar')\n",
    "plt.title('Распределение рейтинга ESRB в Японии')\n",
    "plt.show()"
   ]
  },
  {
   "cell_type": "markdown",
   "metadata": {
    "id": "6i0q2Gcwn4pO"
   },
   "source": [
    "Опять же предпочтения в играх в Европе и Америке очень похожи, на первом месте игры для взрослых. В Японии лидерами по продажам являются игры с рейтингом для всех, на втором месте для подростков, и только на 3м месте игры для взрослых. \n",
    "\n",
    "В Америке и Европе примерно равное количество игр где рейтинга нет. В Японии же без рейтинга большое количество игр. Возможно связано с неполноценностью данных переданных на анализ."
   ]
  },
  {
   "cell_type": "markdown",
   "metadata": {},
   "source": [
    "<div class=\"alert alert-success\">\n",
    "<h2> Комментарий ревьюера <a class=\"tocSkip\"> </h2>\n",
    "\n",
    "<b>Все отлично!👍:</b> \n",
    " \n",
    "Хет трик! Классно)"
   ]
  },
  {
   "cell_type": "markdown",
   "metadata": {},
   "source": [
    "<div class=\"alert alert-warning\">\n",
    "<h2> Комментарий ревьюера <a class=\"tocSkip\"></h2>\n",
    "    \n",
    "    \n",
    "<b>Некоторые замечания и рекомендации💡:</b> \n",
    "    \n",
    "Но, наверное, следует обратить внимание на игры с пропущенными рейтингами. Попробуй добавить их на график и прокомменитровать разницу.\n",
    "</div>"
   ]
  },
  {
   "cell_type": "markdown",
   "metadata": {},
   "source": [
    "<div style=\"border-radius: 3px; border: 2px solid black; padding: 0px;\"> \n",
    "<div class=\"alert alert-block alert-info\">\n",
    "<h2>Комментарий студента</h2>\n",
    "Дополнила\n",
    "</div> \n",
    "</div>"
   ]
  },
  {
   "cell_type": "markdown",
   "metadata": {
    "id": "TMowOYxgb2pk"
   },
   "source": [
    "### Вывод\n",
    "\n",
    "В Северной Америке лидируют по продажам приставка от компании Microsoft. Жители Северной Америки поддерживают своего производителя и продвигают его в топ.\n",
    "\n",
    "В Европе поддерживают марку Sony, от них 2 консоли в лидерах, они покрывают 48% рынка. Интересно, что на 5 месте и в Северной Америке и в Европе расположилась портативная консоль 3DS.\n",
    "\n",
    "В Японии 45% рынка занимает продажи портативной консоли 3DS, видимо японцам важна мобильность. Япония не выводит в топ зарубежного производителя.\n",
    "\n",
    "В Северной Америке и в Европе похожие предпочтения в жанрах игр, различия только в 5 жанре. В Европе предпочитают играть в гонки, в Америке в жанр Misc. Тем временем Японцы Играют в ролевые игры, симуляции и файтинги.\n",
    "\n",
    "Опять же предпочтения в играх в Европе и Америке очень похожи, на первом месте игры для взрослых. В Японии лидерами по продажам являются игры с рейтингом длля всех, на втором месте для подростков, и только на 3м месте игры для взрослых.\n",
    "В Америке и Европе примерно равное количество игр где рейтинга нет. В Японии же без рейтинга большое количество игр. Возможно связано с неполноценностью данных переданных на анализ.\n",
    "\n",
    "Исторически сложилось противостояние Sony и Microsoft. Sony выигрывает за счет эксклюзивных игр, тогда как Microsoft может похвастаться не только приставкой, но и медиацентром, с доп функциями, которые распрастранены на территории Америки. Региональные особенности нужно брать в расчет при запуске новой игры, и выборе платформы для нее. "
   ]
  },
  {
   "cell_type": "markdown",
   "metadata": {
    "id": "qUy686lvo6TH"
   },
   "source": [
    "##  Проверка гипотиз"
   ]
  },
  {
   "cell_type": "markdown",
   "metadata": {
    "id": "tL8GFs2ApAIb"
   },
   "source": [
    "Проверить гипотезы: \n",
    "*  Средние пользовательские рейтинги платформ Xbox One и PC одинаковые;\n",
    "*  Средние пользовательские рейтинги жанров Action (англ. «действие»,\n",
    "экшен-игры) и Sports (англ. «спортивные соревнования») разные.\n",
    "\n",
    "Задать самостоятельно пороговое значение alpha.\n",
    "\n",
    "Пояснить:\n",
    "* Как сформулирована нулевая и альтернативная гипотезы;\n",
    "* Какой критерий применен для проверки гипотез и почему.\n"
   ]
  },
  {
   "cell_type": "markdown",
   "metadata": {
    "id": "O0rt7-m8IVa8"
   },
   "source": [
    "### Средние пользовательские рейтинги платформ Xbox One и PC одинаковые\n",
    "\n",
    "* H0 - Средние пользовательские рейтинги платформ Xbox One и PC равны\n",
    "* H1 - Средние пользовательские рейтинги платформ Xbox One и PC не равны\n",
    "\n",
    "Мы помним, что выборки у нас не равные по размеру, и дисперсии не равны, поэтому указываем в тесте дополнительный параметр equal_var = False для проверки гипотезы о равенстве среднего двух генеральных совокупностей по взятым из них выборкам. Уровень значимости укажем 5%."
   ]
  },
  {
   "cell_type": "markdown",
   "metadata": {},
   "source": [
    "<div class=\"alert alert-success\">\n",
    "<h2> Комментарий ревьюера <a class=\"tocSkip\"> </h2>\n",
    "\n",
    "<b>Все отлично!👍:</b> \n",
    " \n",
    "Лайк за параметр параметр equal_var"
   ]
  },
  {
   "cell_type": "code",
   "execution_count": 52,
   "metadata": {
    "id": "lxE94rsOL9Mz"
   },
   "outputs": [],
   "source": [
    "# выбираем нужные данные\n",
    "xbox = games_2012.loc[(games_2012['platform'] == 'XOne') & (games_2012['user_score'].notna())]\n",
    "pc = games_2012.loc[(games_2012['platform'] == 'PC') & (games_2012['user_score'].notna())]"
   ]
  },
  {
   "cell_type": "code",
   "execution_count": 53,
   "metadata": {
    "colab": {
     "base_uri": "https://localhost:8080/"
    },
    "id": "tVqSrwx1Mbiz",
    "outputId": "1a8fe4dc-1a27-4597-d46a-4ad0fdf056fb"
   },
   "outputs": [
    {
     "data": {
      "text/plain": [
       "6.521428571428572"
      ]
     },
     "metadata": {},
     "output_type": "display_data"
    },
    {
     "data": {
      "text/plain": [
       "6.4286407766990274"
      ]
     },
     "execution_count": 53,
     "metadata": {},
     "output_type": "execute_result"
    }
   ],
   "source": [
    "# посмотрим среднее двух выборок, очень близкие значения\n",
    "display(xbox['user_score'].mean())\n",
    "pc['user_score'].mean()"
   ]
  },
  {
   "cell_type": "code",
   "execution_count": 54,
   "metadata": {
    "colab": {
     "base_uri": "https://localhost:8080/"
    },
    "id": "HL2w4iktNGeY",
    "outputId": "56d7cbbe-46c5-4381-9fd3-192f50ae934d"
   },
   "outputs": [
    {
     "data": {
      "text/plain": [
       "'p-значение:'"
      ]
     },
     "metadata": {},
     "output_type": "display_data"
    },
    {
     "data": {
      "text/plain": [
       "0.5489537965134912"
      ]
     },
     "metadata": {},
     "output_type": "display_data"
    },
    {
     "data": {
      "text/plain": [
       "'Не получилось отвергнуть нулевую гипотезу'"
      ]
     },
     "metadata": {},
     "output_type": "display_data"
    }
   ],
   "source": [
    "# проверяем гипотизу\n",
    "alpha = .05\n",
    "\n",
    "results = st.ttest_ind(xbox['user_score'], pc['user_score'], equal_var = False)\n",
    "\n",
    "\n",
    "display('p-значение:', results.pvalue)\n",
    "\n",
    "if (results.pvalue < alpha):\n",
    "    display(\"Отвергаем нулевую гипотезу\")\n",
    "else:\n",
    "    display(\"Не получилось отвергнуть нулевую гипотезу\")"
   ]
  },
  {
   "cell_type": "markdown",
   "metadata": {
    "id": "AdigQ6HUOikw"
   },
   "source": [
    "Значение p-value больше уровня значимости. Мы не можем отвергнуть нулевую гипотизу. Следовательно, средний пользовательский рейтинг платформ Xbox One и PC равны.\n",
    "\n",
    "Значение p-value показывает: вероятность случайно получить такое равенство равно почти 55%, хотя у нас нет оснований утверждать, что рейтинги значимо различаются. Это явно слишком большая вероятность, чтобы делать вывод о неравенстве между рейтингами."
   ]
  },
  {
   "cell_type": "markdown",
   "metadata": {},
   "source": [
    "<div class=\"alert alert-block alert-danger\">\n",
    "<h2> Комментарий ревьюера <a class=\"tocSkip\"></h2>\n",
    "\n",
    "    \n",
    "<b>На доработку🤔:</b>\n",
    "\n",
    "Если мы не смогли опровергнуть нулевую гипотезу, как у тебя представленно в примере, то это лишь говорит о том, что\n",
    "    \n",
    "    у нас нет оснований утверждать, что средние пользовательские рейтинги платформ Xbox One и PC значимо различаются.\n",
    "    \n",
    "Сказать однозначно, что средние рейтинги равны мы точно не можем)\n",
    "    \n",
    "</div>"
   ]
  },
  {
   "cell_type": "markdown",
   "metadata": {},
   "source": [
    "<div style=\"border-radius: 3px; border: 2px solid black; padding: 0px;\"> \n",
    "<div class=\"alert alert-block alert-info\">\n",
    "<h2>Комментарий студента</h2>\n",
    "Нулевая гипотиза звучит так `H0 - Средние пользовательские рейтинги платформ Xbox One и PC равны`, и как ты говоришь выше нет оснований утверждать, что рейтинги различаются. Следовательно, предполагаем, что они равны. Что выше я и писала. \n",
    "    \n",
    "</div> \n",
    "</div>"
   ]
  },
  {
   "cell_type": "markdown",
   "metadata": {},
   "source": [
    "<div class=\"alert alert-block alert-danger\">\n",
    "<h2> Комментарий ревьюера 2<a class=\"tocSkip\"></h2>\n",
    "\n",
    "    \n",
    "<b>На доработку🤔:</b>\n",
    "\n",
    "Тут очень важно понять, что то, что мы принимаем 0 гипотезу, не говорит о том, что рейтинги равны. Если ты посчитаешь эти рейтинги вручную, то увидишь, что они различаются. Просто различие достаточно маленькое, что бы наш аналитический инструментарий не смог с достаточной точностью сказать, что рейтинги разные. \n",
    "    \n",
    "Другими словами, после проведения теста мы не можем сказать, что рейтинги равны, т.к. это просто не будет правдой)\n",
    "А тест наш показал, что у нас нет достаточной уверенности, что рейтинги **значимо** различаются\n",
    "    \n",
    "Очень хороший курс (и не долгий) по аналитике и в том числе по проверке гипотез есть на степике \n",
    "    https://stepik.org/course/76/syllabus"
   ]
  },
  {
   "cell_type": "markdown",
   "metadata": {},
   "source": [
    "<div style=\"border-radius: 3px; border: 2px solid black; padding: 0px;\"> \n",
    "<div class=\"alert alert-block alert-info\">\n",
    "<h2>Комментарий студента 2</h2>\n",
    "Я поняла, ура, спасибо за рекомендацию курса:)\n",
    "    У нет оснований утверждать, что рейтинги различаются. Следовательно, предполагаем, что они равны. Что выше я и писала. \n",
    "    \n",
    "</div> \n",
    "</div>"
   ]
  },
  {
   "cell_type": "markdown",
   "metadata": {
    "id": "kA_s_ftpO7CM"
   },
   "source": [
    "### Средние пользовательские рейтинги жанров Action и Sports разные\n",
    "\n",
    "* H0 - Средние пользовательские рейтинги жанров Action и Sports равны\n",
    "* H1 - Средние пользовательские рейтинги жанров Action и Sports не равны\n",
    "\n",
    "Мы помним, что выборки у нас не равные по размеру, и дисперсии не равны, поэтому указываем в тесте дополнительный параметр equal_var = False для проверки гипотезы о равенстве среднего двух генеральных совокупностей по взятым из них выборкам. Уровень значимости укажем 5%."
   ]
  },
  {
   "cell_type": "code",
   "execution_count": 55,
   "metadata": {
    "id": "V3Ui0uKEPe4B"
   },
   "outputs": [],
   "source": [
    "# выбираем нужные данные\n",
    "action = games_2012.loc[(games_2012['genre'] == 'Action') & (games_2012['user_score'].notna())]\n",
    "sports = games_2012.loc[(games_2012['genre'] == 'Sports') & (games_2012['user_score'].notna())]"
   ]
  },
  {
   "cell_type": "code",
   "execution_count": 56,
   "metadata": {
    "colab": {
     "base_uri": "https://localhost:8080/",
     "height": 53
    },
    "id": "TggFHHqiPpjI",
    "outputId": "c720df33-6b69-4def-b816-aec3bc78cf1f"
   },
   "outputs": [
    {
     "data": {
      "text/plain": [
       "6.825047801147227"
      ]
     },
     "metadata": {},
     "output_type": "display_data"
    },
    {
     "data": {
      "text/plain": [
       "5.455897435897437"
      ]
     },
     "execution_count": 56,
     "metadata": {},
     "output_type": "execute_result"
    }
   ],
   "source": [
    "# посмотрим среднее двух выборок\n",
    "display(action['user_score'].mean())\n",
    "sports['user_score'].mean()"
   ]
  },
  {
   "cell_type": "code",
   "execution_count": 57,
   "metadata": {
    "colab": {
     "base_uri": "https://localhost:8080/",
     "height": 73
    },
    "id": "IS2OT69hP4Y-",
    "outputId": "af1dacca-0521-4f39-8ed2-36b3371d7905"
   },
   "outputs": [
    {
     "data": {
      "text/plain": [
       "'p-значение:'"
      ]
     },
     "metadata": {},
     "output_type": "display_data"
    },
    {
     "data": {
      "text/plain": [
       "4.24307776572644e-20"
      ]
     },
     "metadata": {},
     "output_type": "display_data"
    },
    {
     "data": {
      "text/plain": [
       "'Отвергаем нулевую гипотезу'"
      ]
     },
     "metadata": {},
     "output_type": "display_data"
    }
   ],
   "source": [
    "# проверяем гипотизу\n",
    "alpha = .05\n",
    "\n",
    "results = st.ttest_ind(action['user_score'], sports['user_score'], equal_var = False)\n",
    "\n",
    "\n",
    "display('p-значение:', results.pvalue)\n",
    "\n",
    "if (results.pvalue < alpha):\n",
    "    display(\"Отвергаем нулевую гипотезу\")\n",
    "else:\n",
    "    display(\"Не получилось отвергнуть нулевую гипотезу\")"
   ]
  },
  {
   "cell_type": "markdown",
   "metadata": {
    "id": "HXhJbyfBRPiu"
   },
   "source": [
    "pvalue стремится к нулю, отклоняем нулевую гипотезу. Средние пользовательские рейтинги жанров Action и Sports отличаются.\n"
   ]
  },
  {
   "cell_type": "markdown",
   "metadata": {},
   "source": [
    "<div class=\"alert alert-success\">\n",
    "<h2> Комментарий ревьюера <a class=\"tocSkip\"> </h2>\n",
    "\n",
    "<b>Все отлично!👍:</b> \n",
    " \n",
    "Ну а тут уже все правильно)) отличная реализация)\n",
    "    \n"
   ]
  },
  {
   "cell_type": "markdown",
   "metadata": {
    "id": "3bQg3N3tRt-O"
   },
   "source": [
    "**Проверены следующие гипотизы:**\n",
    "\n",
    "* Средние пользовательские рейтинги платформ Xbox One и PC равны;\n",
    "* Средние пользовательские рейтинги жанров Action (англ. «действие», экшен-игры) и Sports (англ. «спортивные соревнования») разные."
   ]
  },
  {
   "cell_type": "markdown",
   "metadata": {
    "id": "w3bSPxodR-hL"
   },
   "source": [
    "## Общие выводы по проекту"
   ]
  },
  {
   "cell_type": "markdown",
   "metadata": {
    "id": "ktj5igcLZhjB"
   },
   "source": [
    "Был проведен анализ продаж компьютерных игр магазина \"Стримчик\" за период с 1980 года по 2016, для выявления факторов успешной игры. \n",
    "\n",
    "В ходе исследования проделана следующая работа: \n",
    "1. Обработаны пропуски, изменен регистр в названии колонок, изменены типы данных;\n",
    "2. Посчитаны суммарные объемы продаж каждой  игры;\n",
    "3. После 94 года видим резкий рост в 2 раза и последующий тренд на увеличение выпуска игр, из за высокого развития сферы ИТ, заканчивается период спадом в 2010 году и стагнацией на примерно одном уровне в 12-16 годах на отметке 600 игр в год. \n",
    "4. Определен срок жизни платформ в среднем это 7 лет. Именно столько служит приставка, и в такой срок получает обновления.\n",
    "5. Выявлены самые продаваемые консоли за все время это PS2, X360, PS3, Wii, DS. После отбора актуального периода для анализа список лидеров поменялся(с 2012 года по 2016):PS4, PS3, X360, 3DS, XOne. \n",
    "6. Наиболее перспективные в части прибыли платформы - PS4, XOne и 3DS.Первые 2 платформы новые и на них выпускают больше всего игр. Дополнительно добавлена платформа PC из за ее долговечности. На PS4 выпускают игр больше из за политики маркетинга компании на эту платформу выпускают эксклюзивные игры.\n",
    "7. Игровая индустрия переживает не лучшие времена. Каждый год происходит спад выгучки.\n",
    "8. Оценки критиков и пользователей примерно одинаковые, такое наблюдается на платформе PS4 и 3DS. Есть небольшая разница между оценками пользователей и критиков у платформы XOne. Интересно, что плохих оценок от критиков нет, чего не скажешь об оценках пользователей. Пользователи более критичны к оценкам, нежели критики, так как часто бывает, что крупные компании вкладывают много денег в продвижение и отзывы. Оценки пользователей практически не влияют на продажи, отрицательная корреляция наблюдается у платформ PC, PS4, XOne, но у японцев 3DS есть слабая связь отзывов пользователей и продаж. У PC зависимость продаж от оценок критиков меньше чем на других платформах.\n",
    "9. Самый прибыльный жанр с 2012 года - Action, за ним Shooter, Role-Playing, Sport. Наиболее перспективный жанр на текущее время Shooter, при небольшой доле игр приносит хорошую выручку. Каждый год видим тенденцию к снижению прибыли по играм. Выбивается из значений жанр Adventure в доле жанров игр много, выручки мало. Наоборот в жанре Platform доля мало игр, а прибыль в топе 5 жанров.Стабильно плохо дела в жанре Puzzle, и игр мало и продаж тоже.\n",
    "10. Проверены две гипотезы, установлено, что средние пользовательские рейтинги XBox One и PC не отличаются и средние пользовательские рейтинги жанров ACtion и Sports разные\n",
    "\n",
    "\n",
    "Факторы влияющие на успех игры: \n",
    "\n",
    "1. Изучение предпочтений разных регионов. Так жители Японии и Америки выбирают разные игры, жанры и разные платформы, это должно быть учтено при формировании стратегии игровой компании. У этих стран принято поддержтивать местного производителя. \n",
    "2. Выбор актуальных платформ  XOne, PS4 и 3DS. \n",
    "3. Выбор актуальных жанров. Топ-5 популярных жанров в мире - Action, Shooter, Sports, Role-Playing. \n",
    "4. Предпочтение следует отдавать играм для взрослых.\n",
    "5. Качественная рекламная компания и хорошие отзывы критиков приведут к успеху игру.\n"
   ]
  },
  {
   "cell_type": "markdown",
   "metadata": {},
   "source": [
    "<div class=\"alert alert-warning\">\n",
    "<h2> Комментарий ревьюера <a class=\"tocSkip\"></h2>\n",
    "    \n",
    "    \n",
    "<b>Некоторые замечания и рекомендации💡:</b> \n",
    "    \n",
    "После исправлений, при необходимости, нужно будет обновить и вывод)\n",
    "</div>"
   ]
  },
  {
   "cell_type": "markdown",
   "metadata": {},
   "source": [
    "<div style=\"border:solid Chocolate 2px; padding: 40px\">\n",
    "\n",
    "**Общий вывод по проекту**\n",
    "\n",
    "Молодец, Кристина! Ты приложила много усилий, тобой уже проделана большая работа!\n",
    "    \n",
    "Однако есть несколько важных моментов, которые я отметил и которые можно и нужно улучшить или доделать, подсказки ты найдешь в моих комментариях. \n",
    "\n",
    "**Отмечу отдельные положительные моменты проекта🙂**:\n",
    " \n",
    "* Ты очень хорошо строишь графики, но местами можно и добавить их)\n",
    "* Хорошо разбираешься в основных методах pandas и у тебя все получается\n",
    "* Очень даже неплохо анализируешь данные\n",
    "* Пишешь отличные развернутые выводы по каждому пункту\n",
    "* Хорошо разбираешься в проверке гепотиз (только обязательно запомнить 1 пункт нужно)\n",
    "\n",
    "\n",
    "**Остальные рекомендации, на которые необходимо обратить внимание, ты найдешь в моих комментариях! 🤓**\n",
    "\n",
    "\n",
    "**Желаю удачи и жду твой проект на повторное ревью! Осталось немного**😉 \n",
    "    \n",
    "![gif](https://media3.giphy.com/media/jB57cmKYDKuNw68W1G/giphy.gif)"
   ]
  },
  {
   "cell_type": "markdown",
   "metadata": {},
   "source": [
    "<div style=\"border-radius: 3px; border: 2px solid black; padding: 0px;\"> \n",
    "<div class=\"alert alert-block alert-info\">\n",
    "<h2>Комментарий студента</h2>\n",
    "Я сильно затянула со сдачей проекта, и волнуюсь, что не справлюсь с нагрузкой.\n",
    "Я была на сессии, и совсем не успевала организовывать все обучения. Буду стараться!\n",
    "Некоторые вещи уже успела подзабыть. Спасибо, за комментарии и проверку моей работы. \n",
    "    \n",
    "</div> \n",
    "</div>"
   ]
  },
  {
   "cell_type": "markdown",
   "metadata": {},
   "source": [
    "<div style=\"border:solid Chocolate 2px; padding: 40px\">\n",
    "\n",
    "**Общий вывод по проекту 2**\n",
    "\n",
    "Все исправления сделанны верно) У тебя отлично получается и я надеюсь, что ты все успеешь и сдашь вовремя:) А сессия тоже дело важное и понимаемое)\n",
    "    \n",
    "Я пометил то, что нужно доделать (ознакомитсья) дополнительными коментариями **Комментарий ревьюера 2**, что бы было лучше видно)\n",
    "    \n",
    "По-сути, ознакомься и отправляй на завершение)\n",
    "    \n",
    "![gif](https://media.giphy.com/media/d31w24psGYeekCZy/giphy.gif)"
   ]
  },
  {
   "cell_type": "code",
   "execution_count": null,
   "metadata": {},
   "outputs": [],
   "source": []
  }
 ],
 "metadata": {
  "ExecuteTimeLog": [
   {
    "duration": 1721,
    "start_time": "2022-04-26T10:26:56.051Z"
   },
   {
    "duration": 3,
    "start_time": "2022-04-26T10:26:57.774Z"
   },
   {
    "duration": 210,
    "start_time": "2022-04-26T10:26:57.779Z"
   },
   {
    "duration": 34,
    "start_time": "2022-04-26T10:26:57.994Z"
   },
   {
    "duration": 24,
    "start_time": "2022-04-26T10:26:58.031Z"
   },
   {
    "duration": 75,
    "start_time": "2022-04-26T10:26:58.057Z"
   },
   {
    "duration": 29,
    "start_time": "2022-04-26T10:26:58.134Z"
   },
   {
    "duration": 40,
    "start_time": "2022-04-26T10:26:58.165Z"
   },
   {
    "duration": 12,
    "start_time": "2022-04-26T10:26:58.206Z"
   },
   {
    "duration": 7,
    "start_time": "2022-04-26T10:26:58.220Z"
   },
   {
    "duration": 45,
    "start_time": "2022-04-26T10:26:58.229Z"
   },
   {
    "duration": 27,
    "start_time": "2022-04-26T10:26:58.277Z"
   },
   {
    "duration": 11,
    "start_time": "2022-04-26T10:26:58.306Z"
   },
   {
    "duration": 61,
    "start_time": "2022-04-26T10:26:58.321Z"
   },
   {
    "duration": 24,
    "start_time": "2022-04-26T10:26:58.386Z"
   },
   {
    "duration": 19,
    "start_time": "2022-04-26T10:26:58.412Z"
   },
   {
    "duration": 39,
    "start_time": "2022-04-26T10:26:58.432Z"
   },
   {
    "duration": 334,
    "start_time": "2022-04-26T10:26:58.474Z"
   },
   {
    "duration": 14,
    "start_time": "2022-04-26T10:26:58.810Z"
   },
   {
    "duration": 424,
    "start_time": "2022-04-26T10:26:58.838Z"
   },
   {
    "duration": 26,
    "start_time": "2022-04-26T10:26:59.264Z"
   },
   {
    "duration": 90,
    "start_time": "2022-04-26T10:26:59.291Z"
   },
   {
    "duration": 78,
    "start_time": "2022-04-26T10:26:59.386Z"
   },
   {
    "duration": 585,
    "start_time": "2022-04-26T10:26:59.466Z"
   },
   {
    "duration": 235,
    "start_time": "2022-04-26T10:27:00.054Z"
   },
   {
    "duration": 42,
    "start_time": "2022-04-26T10:27:00.292Z"
   },
   {
    "duration": 2256,
    "start_time": "2022-04-26T10:27:00.337Z"
   },
   {
    "duration": 108,
    "start_time": "2022-04-26T10:27:02.595Z"
   },
   {
    "duration": 55,
    "start_time": "2022-04-26T10:27:02.705Z"
   },
   {
    "duration": 993,
    "start_time": "2022-04-26T10:27:02.763Z"
   },
   {
    "duration": 19,
    "start_time": "2022-04-26T10:27:03.758Z"
   },
   {
    "duration": 851,
    "start_time": "2022-04-26T10:27:03.779Z"
   },
   {
    "duration": 67,
    "start_time": "2022-04-26T10:27:04.632Z"
   },
   {
    "duration": 479,
    "start_time": "2022-04-26T10:27:04.701Z"
   },
   {
    "duration": 19,
    "start_time": "2022-04-26T10:27:05.182Z"
   },
   {
    "duration": 23,
    "start_time": "2022-04-26T10:27:05.203Z"
   },
   {
    "duration": 401,
    "start_time": "2022-04-26T10:27:05.228Z"
   },
   {
    "duration": 71,
    "start_time": "2022-04-26T10:27:05.631Z"
   },
   {
    "duration": 211,
    "start_time": "2022-04-26T10:27:05.703Z"
   },
   {
    "duration": 59,
    "start_time": "2022-04-26T10:27:05.916Z"
   },
   {
    "duration": 234,
    "start_time": "2022-04-26T10:27:05.980Z"
   },
   {
    "duration": 74,
    "start_time": "2022-04-26T10:27:06.216Z"
   },
   {
    "duration": 647,
    "start_time": "2022-04-26T10:27:06.297Z"
   },
   {
    "duration": 597,
    "start_time": "2022-04-26T10:27:06.945Z"
   },
   {
    "duration": 8,
    "start_time": "2022-04-26T10:27:07.544Z"
   },
   {
    "duration": 50,
    "start_time": "2022-04-26T10:27:07.555Z"
   },
   {
    "duration": 11,
    "start_time": "2022-04-26T10:27:07.606Z"
   },
   {
    "duration": 12,
    "start_time": "2022-04-26T10:27:07.618Z"
   },
   {
    "duration": 66,
    "start_time": "2022-04-26T10:27:07.632Z"
   },
   {
    "duration": 11,
    "start_time": "2022-04-26T10:27:07.700Z"
   },
   {
    "duration": 1106,
    "start_time": "2022-04-26T11:31:28.765Z"
   },
   {
    "duration": 135,
    "start_time": "2022-04-26T11:31:34.078Z"
   },
   {
    "duration": 21,
    "start_time": "2022-04-26T11:31:42.501Z"
   },
   {
    "duration": 13,
    "start_time": "2022-04-26T11:31:42.570Z"
   },
   {
    "duration": 14,
    "start_time": "2022-04-26T11:31:45.467Z"
   },
   {
    "duration": 13,
    "start_time": "2022-04-26T11:31:46.433Z"
   },
   {
    "duration": 25,
    "start_time": "2022-04-26T11:31:48.067Z"
   },
   {
    "duration": 16,
    "start_time": "2022-04-26T11:31:50.973Z"
   },
   {
    "duration": 9,
    "start_time": "2022-04-26T11:31:53.547Z"
   },
   {
    "duration": 9,
    "start_time": "2022-04-26T11:31:55.782Z"
   },
   {
    "duration": 3470,
    "start_time": "2022-04-26T11:39:01.944Z"
   },
   {
    "duration": 3,
    "start_time": "2022-04-26T11:39:11.337Z"
   },
   {
    "duration": 11,
    "start_time": "2022-04-26T11:39:11.907Z"
   },
   {
    "duration": 7,
    "start_time": "2022-04-26T11:39:12.706Z"
   },
   {
    "duration": 6,
    "start_time": "2022-04-26T11:39:18.236Z"
   },
   {
    "duration": 6,
    "start_time": "2022-04-26T11:46:21.892Z"
   },
   {
    "duration": 6,
    "start_time": "2022-04-26T11:46:29.208Z"
   },
   {
    "duration": 186,
    "start_time": "2022-04-26T11:57:36.995Z"
   },
   {
    "duration": 200,
    "start_time": "2022-04-26T11:59:44.992Z"
   },
   {
    "duration": 16,
    "start_time": "2022-04-26T12:03:01.566Z"
   },
   {
    "duration": 6,
    "start_time": "2022-04-26T12:03:16.248Z"
   },
   {
    "duration": 19,
    "start_time": "2022-04-26T12:03:16.891Z"
   },
   {
    "duration": 9,
    "start_time": "2022-04-26T12:03:17.614Z"
   },
   {
    "duration": 64,
    "start_time": "2022-04-26T12:03:18.311Z"
   },
   {
    "duration": 8,
    "start_time": "2022-04-26T12:03:18.892Z"
   },
   {
    "duration": 12,
    "start_time": "2022-04-26T12:03:23.142Z"
   },
   {
    "duration": 192,
    "start_time": "2022-04-26T12:06:21.262Z"
   },
   {
    "duration": 40,
    "start_time": "2022-04-26T12:06:25.368Z"
   },
   {
    "duration": 187,
    "start_time": "2022-04-26T12:06:28.069Z"
   },
   {
    "duration": 13,
    "start_time": "2022-04-26T12:06:45.708Z"
   },
   {
    "duration": 169,
    "start_time": "2022-04-26T12:06:54.069Z"
   },
   {
    "duration": 212,
    "start_time": "2022-04-26T12:07:00.522Z"
   },
   {
    "duration": 180,
    "start_time": "2022-04-26T12:07:09.037Z"
   },
   {
    "duration": 217,
    "start_time": "2022-04-26T12:08:55.426Z"
   },
   {
    "duration": 16,
    "start_time": "2022-04-26T12:09:55.632Z"
   },
   {
    "duration": 193,
    "start_time": "2022-04-26T12:14:29.335Z"
   },
   {
    "duration": 11,
    "start_time": "2022-04-26T12:17:17.541Z"
   },
   {
    "duration": 10,
    "start_time": "2022-04-26T12:41:53.735Z"
   },
   {
    "duration": 39,
    "start_time": "2022-04-26T12:41:59.219Z"
   },
   {
    "duration": 39,
    "start_time": "2022-04-26T12:41:59.676Z"
   },
   {
    "duration": 376,
    "start_time": "2022-04-26T12:41:59.973Z"
   },
   {
    "duration": 123,
    "start_time": "2022-04-26T12:42:01.406Z"
   },
   {
    "duration": 9,
    "start_time": "2022-04-26T12:42:04.987Z"
   },
   {
    "duration": 1019,
    "start_time": "2022-04-26T12:42:50.262Z"
   },
   {
    "duration": 1770,
    "start_time": "2022-04-26T12:44:27.382Z"
   },
   {
    "duration": 586,
    "start_time": "2022-04-26T12:48:25.914Z"
   },
   {
    "duration": 49,
    "start_time": "2022-04-26T12:50:40.672Z"
   },
   {
    "duration": 18,
    "start_time": "2022-04-26T12:50:42.050Z"
   },
   {
    "duration": 823,
    "start_time": "2022-04-26T12:50:42.757Z"
   },
   {
    "duration": 18,
    "start_time": "2022-04-26T12:50:43.594Z"
   },
   {
    "duration": 16,
    "start_time": "2022-04-26T12:51:17.084Z"
   },
   {
    "duration": 12,
    "start_time": "2022-04-26T12:51:17.426Z"
   },
   {
    "duration": 191,
    "start_time": "2022-04-26T12:52:39.752Z"
   },
   {
    "duration": 179,
    "start_time": "2022-04-26T12:55:47.309Z"
   },
   {
    "duration": 38,
    "start_time": "2022-04-26T12:59:22.396Z"
   },
   {
    "duration": 255,
    "start_time": "2022-04-26T12:59:39.101Z"
   },
   {
    "duration": 217,
    "start_time": "2022-04-26T13:03:16.433Z"
   },
   {
    "duration": 13,
    "start_time": "2022-04-26T13:03:33.798Z"
   },
   {
    "duration": 13,
    "start_time": "2022-04-26T13:04:00.768Z"
   },
   {
    "duration": 202,
    "start_time": "2022-04-26T13:04:01.576Z"
   },
   {
    "duration": 35,
    "start_time": "2022-04-26T13:04:10.378Z"
   },
   {
    "duration": 122,
    "start_time": "2022-04-26T13:04:11.447Z"
   },
   {
    "duration": 37,
    "start_time": "2022-04-26T13:04:11.765Z"
   },
   {
    "duration": 204,
    "start_time": "2022-04-26T13:04:12.499Z"
   },
   {
    "duration": 35,
    "start_time": "2022-04-26T13:04:12.969Z"
   },
   {
    "duration": 353,
    "start_time": "2022-04-26T13:04:57.217Z"
   },
   {
    "duration": 201,
    "start_time": "2022-04-26T13:05:53.529Z"
   },
   {
    "duration": 316,
    "start_time": "2022-04-26T13:06:00.898Z"
   },
   {
    "duration": 6,
    "start_time": "2022-04-26T13:09:35.250Z"
   },
   {
    "duration": 7,
    "start_time": "2022-04-26T13:09:35.711Z"
   },
   {
    "duration": 8,
    "start_time": "2022-04-26T13:09:36.577Z"
   },
   {
    "duration": 192,
    "start_time": "2022-04-26T13:12:21.363Z"
   },
   {
    "duration": 201,
    "start_time": "2022-04-26T13:17:13.949Z"
   },
   {
    "duration": 49,
    "start_time": "2022-04-27T09:57:59.367Z"
   },
   {
    "duration": 1354,
    "start_time": "2022-04-27T09:58:08.584Z"
   },
   {
    "duration": 3,
    "start_time": "2022-04-27T09:58:09.940Z"
   },
   {
    "duration": 82,
    "start_time": "2022-04-27T09:58:09.944Z"
   },
   {
    "duration": 23,
    "start_time": "2022-04-27T09:58:10.028Z"
   },
   {
    "duration": 16,
    "start_time": "2022-04-27T09:58:10.053Z"
   },
   {
    "duration": 52,
    "start_time": "2022-04-27T09:58:10.071Z"
   },
   {
    "duration": 16,
    "start_time": "2022-04-27T09:58:10.124Z"
   },
   {
    "duration": 10,
    "start_time": "2022-04-27T09:58:10.142Z"
   },
   {
    "duration": 9,
    "start_time": "2022-04-27T09:58:10.211Z"
   },
   {
    "duration": 3,
    "start_time": "2022-04-27T09:58:10.852Z"
   },
   {
    "duration": 10,
    "start_time": "2022-04-27T09:58:11.386Z"
   },
   {
    "duration": 7,
    "start_time": "2022-04-27T09:58:11.551Z"
   },
   {
    "duration": 7,
    "start_time": "2022-04-27T09:58:11.739Z"
   },
   {
    "duration": 23,
    "start_time": "2022-04-27T09:58:12.679Z"
   },
   {
    "duration": 9,
    "start_time": "2022-04-27T09:58:13.188Z"
   },
   {
    "duration": 20,
    "start_time": "2022-04-27T09:58:13.509Z"
   },
   {
    "duration": 5,
    "start_time": "2022-04-27T09:58:13.688Z"
   },
   {
    "duration": 10,
    "start_time": "2022-04-27T09:58:14.390Z"
   },
   {
    "duration": 233,
    "start_time": "2022-04-27T09:58:15.864Z"
   },
   {
    "duration": 14,
    "start_time": "2022-04-27T09:58:16.957Z"
   },
   {
    "duration": 66,
    "start_time": "2022-04-27T10:10:04.550Z"
   },
   {
    "duration": 144,
    "start_time": "2022-05-12T04:08:31.865Z"
   },
   {
    "duration": 1256,
    "start_time": "2022-06-12T03:06:35.460Z"
   },
   {
    "duration": 3,
    "start_time": "2022-06-12T03:06:36.718Z"
   },
   {
    "duration": 103,
    "start_time": "2022-06-12T03:06:36.723Z"
   },
   {
    "duration": 22,
    "start_time": "2022-06-12T03:06:36.828Z"
   },
   {
    "duration": 15,
    "start_time": "2022-06-12T03:06:36.852Z"
   },
   {
    "duration": 30,
    "start_time": "2022-06-12T03:06:36.869Z"
   },
   {
    "duration": 14,
    "start_time": "2022-06-12T03:06:36.900Z"
   },
   {
    "duration": 9,
    "start_time": "2022-06-12T03:06:36.916Z"
   },
   {
    "duration": 29,
    "start_time": "2022-06-12T03:06:36.927Z"
   },
   {
    "duration": 19,
    "start_time": "2022-06-12T03:06:36.958Z"
   },
   {
    "duration": 16,
    "start_time": "2022-06-12T03:06:36.978Z"
   },
   {
    "duration": 17,
    "start_time": "2022-06-12T03:06:36.996Z"
   },
   {
    "duration": 18,
    "start_time": "2022-06-12T03:06:37.015Z"
   },
   {
    "duration": 35,
    "start_time": "2022-06-12T03:06:37.034Z"
   },
   {
    "duration": 8,
    "start_time": "2022-06-12T03:06:37.070Z"
   },
   {
    "duration": 24,
    "start_time": "2022-06-12T03:06:37.080Z"
   },
   {
    "duration": 11,
    "start_time": "2022-06-12T03:06:37.106Z"
   },
   {
    "duration": 24,
    "start_time": "2022-06-12T03:06:37.122Z"
   },
   {
    "duration": 206,
    "start_time": "2022-06-12T03:06:37.148Z"
   },
   {
    "duration": 12,
    "start_time": "2022-06-12T03:06:37.356Z"
   },
   {
    "duration": 286,
    "start_time": "2022-06-12T03:06:37.370Z"
   },
   {
    "duration": 2345,
    "start_time": "2022-06-12T03:06:37.658Z"
   },
   {
    "duration": 19,
    "start_time": "2022-06-12T03:06:40.005Z"
   },
   {
    "duration": 58,
    "start_time": "2022-06-12T03:06:40.026Z"
   },
   {
    "duration": 42,
    "start_time": "2022-06-12T03:06:40.085Z"
   },
   {
    "duration": 434,
    "start_time": "2022-06-12T03:06:40.129Z"
   },
   {
    "duration": 150,
    "start_time": "2022-06-12T03:06:40.565Z"
   },
   {
    "duration": 11,
    "start_time": "2022-06-12T03:06:40.720Z"
   },
   {
    "duration": 647,
    "start_time": "2022-06-12T03:06:40.733Z"
   },
   {
    "duration": 51,
    "start_time": "2022-06-12T03:06:41.382Z"
   },
   {
    "duration": 30,
    "start_time": "2022-06-12T03:06:41.435Z"
   },
   {
    "duration": 1516,
    "start_time": "2022-06-12T03:06:41.466Z"
   },
   {
    "duration": 13,
    "start_time": "2022-06-12T03:06:42.984Z"
   },
   {
    "duration": 713,
    "start_time": "2022-06-12T03:06:43.053Z"
   },
   {
    "duration": 57,
    "start_time": "2022-06-12T03:06:43.768Z"
   },
   {
    "duration": 318,
    "start_time": "2022-06-12T03:06:43.827Z"
   },
   {
    "duration": 15,
    "start_time": "2022-06-12T03:06:44.152Z"
   },
   {
    "duration": 19,
    "start_time": "2022-06-12T03:06:44.168Z"
   },
   {
    "duration": 156,
    "start_time": "2022-06-12T03:06:44.189Z"
   },
   {
    "duration": 36,
    "start_time": "2022-06-12T03:06:44.351Z"
   },
   {
    "duration": 147,
    "start_time": "2022-06-12T03:06:44.389Z"
   },
   {
    "duration": 43,
    "start_time": "2022-06-12T03:06:44.538Z"
   },
   {
    "duration": 143,
    "start_time": "2022-06-12T03:06:44.583Z"
   },
   {
    "duration": 43,
    "start_time": "2022-06-12T03:06:44.728Z"
   },
   {
    "duration": 390,
    "start_time": "2022-06-12T03:06:44.773Z"
   },
   {
    "duration": 504,
    "start_time": "2022-06-12T03:06:45.165Z"
   },
   {
    "duration": 5,
    "start_time": "2022-06-12T03:06:45.671Z"
   },
   {
    "duration": 16,
    "start_time": "2022-06-12T03:06:45.677Z"
   },
   {
    "duration": 9,
    "start_time": "2022-06-12T03:06:45.694Z"
   },
   {
    "duration": 8,
    "start_time": "2022-06-12T03:06:45.704Z"
   },
   {
    "duration": 9,
    "start_time": "2022-06-12T03:06:45.714Z"
   },
   {
    "duration": 34,
    "start_time": "2022-06-12T03:06:45.725Z"
   },
   {
    "duration": 97,
    "start_time": "2022-06-12T03:17:57.113Z"
   },
   {
    "duration": 362,
    "start_time": "2022-06-12T03:22:05.804Z"
   },
   {
    "duration": 1109,
    "start_time": "2022-06-12T03:22:19.733Z"
   },
   {
    "duration": 4,
    "start_time": "2022-06-12T03:22:20.845Z"
   },
   {
    "duration": 62,
    "start_time": "2022-06-12T03:22:20.852Z"
   },
   {
    "duration": 21,
    "start_time": "2022-06-12T03:22:20.916Z"
   },
   {
    "duration": 14,
    "start_time": "2022-06-12T03:22:20.939Z"
   },
   {
    "duration": 32,
    "start_time": "2022-06-12T03:22:20.955Z"
   },
   {
    "duration": 14,
    "start_time": "2022-06-12T03:22:20.989Z"
   },
   {
    "duration": 9,
    "start_time": "2022-06-12T03:22:21.005Z"
   },
   {
    "duration": 22,
    "start_time": "2022-06-12T03:22:21.015Z"
   },
   {
    "duration": 13,
    "start_time": "2022-06-12T03:22:21.040Z"
   },
   {
    "duration": 19,
    "start_time": "2022-06-12T03:22:21.055Z"
   },
   {
    "duration": 12,
    "start_time": "2022-06-12T03:22:21.076Z"
   },
   {
    "duration": 8,
    "start_time": "2022-06-12T03:22:21.090Z"
   },
   {
    "duration": 23,
    "start_time": "2022-06-12T03:22:21.099Z"
   },
   {
    "duration": 8,
    "start_time": "2022-06-12T03:22:21.124Z"
   },
   {
    "duration": 33,
    "start_time": "2022-06-12T03:22:21.134Z"
   },
   {
    "duration": 4,
    "start_time": "2022-06-12T03:22:21.168Z"
   },
   {
    "duration": 14,
    "start_time": "2022-06-12T03:22:21.174Z"
   },
   {
    "duration": 230,
    "start_time": "2022-06-12T03:22:21.189Z"
   },
   {
    "duration": 12,
    "start_time": "2022-06-12T03:22:21.420Z"
   },
   {
    "duration": 301,
    "start_time": "2022-06-12T03:22:21.434Z"
   },
   {
    "duration": 486,
    "start_time": "2022-06-12T03:22:21.736Z"
   },
   {
    "duration": 0,
    "start_time": "2022-06-12T03:22:22.224Z"
   },
   {
    "duration": 0,
    "start_time": "2022-06-12T03:22:22.225Z"
   },
   {
    "duration": 0,
    "start_time": "2022-06-12T03:22:22.226Z"
   },
   {
    "duration": 0,
    "start_time": "2022-06-12T03:22:22.227Z"
   },
   {
    "duration": 0,
    "start_time": "2022-06-12T03:22:22.228Z"
   },
   {
    "duration": 0,
    "start_time": "2022-06-12T03:22:22.230Z"
   },
   {
    "duration": 0,
    "start_time": "2022-06-12T03:22:22.231Z"
   },
   {
    "duration": 0,
    "start_time": "2022-06-12T03:22:22.231Z"
   },
   {
    "duration": 0,
    "start_time": "2022-06-12T03:22:22.232Z"
   },
   {
    "duration": 0,
    "start_time": "2022-06-12T03:22:22.233Z"
   },
   {
    "duration": 0,
    "start_time": "2022-06-12T03:22:22.234Z"
   },
   {
    "duration": 0,
    "start_time": "2022-06-12T03:22:22.252Z"
   },
   {
    "duration": 0,
    "start_time": "2022-06-12T03:22:22.253Z"
   },
   {
    "duration": 0,
    "start_time": "2022-06-12T03:22:22.254Z"
   },
   {
    "duration": 0,
    "start_time": "2022-06-12T03:22:22.256Z"
   },
   {
    "duration": 0,
    "start_time": "2022-06-12T03:22:22.257Z"
   },
   {
    "duration": 0,
    "start_time": "2022-06-12T03:22:22.258Z"
   },
   {
    "duration": 0,
    "start_time": "2022-06-12T03:22:22.259Z"
   },
   {
    "duration": 0,
    "start_time": "2022-06-12T03:22:22.260Z"
   },
   {
    "duration": 0,
    "start_time": "2022-06-12T03:22:22.261Z"
   },
   {
    "duration": 0,
    "start_time": "2022-06-12T03:22:22.262Z"
   },
   {
    "duration": 0,
    "start_time": "2022-06-12T03:22:22.262Z"
   },
   {
    "duration": 0,
    "start_time": "2022-06-12T03:22:22.263Z"
   },
   {
    "duration": 0,
    "start_time": "2022-06-12T03:22:22.265Z"
   },
   {
    "duration": 0,
    "start_time": "2022-06-12T03:22:22.265Z"
   },
   {
    "duration": 0,
    "start_time": "2022-06-12T03:22:22.267Z"
   },
   {
    "duration": 0,
    "start_time": "2022-06-12T03:22:22.267Z"
   },
   {
    "duration": 0,
    "start_time": "2022-06-12T03:22:22.268Z"
   },
   {
    "duration": 0,
    "start_time": "2022-06-12T03:22:22.269Z"
   },
   {
    "duration": 0,
    "start_time": "2022-06-12T03:22:22.270Z"
   },
   {
    "duration": 1056,
    "start_time": "2022-06-12T03:23:56.671Z"
   },
   {
    "duration": 2,
    "start_time": "2022-06-12T03:23:57.729Z"
   },
   {
    "duration": 55,
    "start_time": "2022-06-12T03:23:57.733Z"
   },
   {
    "duration": 22,
    "start_time": "2022-06-12T03:23:57.790Z"
   },
   {
    "duration": 20,
    "start_time": "2022-06-12T03:23:57.813Z"
   },
   {
    "duration": 33,
    "start_time": "2022-06-12T03:23:57.834Z"
   },
   {
    "duration": 22,
    "start_time": "2022-06-12T03:23:57.869Z"
   },
   {
    "duration": 17,
    "start_time": "2022-06-12T03:23:57.893Z"
   },
   {
    "duration": 18,
    "start_time": "2022-06-12T03:23:57.912Z"
   },
   {
    "duration": 13,
    "start_time": "2022-06-12T03:23:57.934Z"
   },
   {
    "duration": 24,
    "start_time": "2022-06-12T03:23:57.949Z"
   },
   {
    "duration": 10,
    "start_time": "2022-06-12T03:23:57.975Z"
   },
   {
    "duration": 16,
    "start_time": "2022-06-12T03:23:57.987Z"
   },
   {
    "duration": 32,
    "start_time": "2022-06-12T03:23:58.005Z"
   },
   {
    "duration": 10,
    "start_time": "2022-06-12T03:23:58.039Z"
   },
   {
    "duration": 36,
    "start_time": "2022-06-12T03:23:58.051Z"
   },
   {
    "duration": 5,
    "start_time": "2022-06-12T03:23:58.089Z"
   },
   {
    "duration": 19,
    "start_time": "2022-06-12T03:23:58.095Z"
   },
   {
    "duration": 226,
    "start_time": "2022-06-12T03:23:58.116Z"
   },
   {
    "duration": 15,
    "start_time": "2022-06-12T03:23:58.344Z"
   },
   {
    "duration": 275,
    "start_time": "2022-06-12T03:23:58.361Z"
   },
   {
    "duration": 20,
    "start_time": "2022-06-12T03:23:58.637Z"
   },
   {
    "duration": 39,
    "start_time": "2022-06-12T03:23:58.659Z"
   },
   {
    "duration": 69,
    "start_time": "2022-06-12T03:23:58.700Z"
   },
   {
    "duration": 402,
    "start_time": "2022-06-12T03:23:58.771Z"
   },
   {
    "duration": 143,
    "start_time": "2022-06-12T03:23:59.175Z"
   },
   {
    "duration": 10,
    "start_time": "2022-06-12T03:23:59.319Z"
   },
   {
    "duration": 1072,
    "start_time": "2022-06-12T03:23:59.332Z"
   },
   {
    "duration": 102,
    "start_time": "2022-06-12T03:24:00.451Z"
   },
   {
    "duration": 14,
    "start_time": "2022-06-12T03:24:00.555Z"
   },
   {
    "duration": 974,
    "start_time": "2022-06-12T03:24:00.571Z"
   },
   {
    "duration": 16,
    "start_time": "2022-06-12T03:24:01.552Z"
   },
   {
    "duration": 596,
    "start_time": "2022-06-12T03:24:01.569Z"
   },
   {
    "duration": 45,
    "start_time": "2022-06-12T03:24:02.167Z"
   },
   {
    "duration": 334,
    "start_time": "2022-06-12T03:24:02.214Z"
   },
   {
    "duration": 24,
    "start_time": "2022-06-12T03:24:02.553Z"
   },
   {
    "duration": 42,
    "start_time": "2022-06-12T03:24:02.580Z"
   },
   {
    "duration": 264,
    "start_time": "2022-06-12T03:24:02.624Z"
   },
   {
    "duration": 42,
    "start_time": "2022-06-12T03:24:02.890Z"
   },
   {
    "duration": 163,
    "start_time": "2022-06-12T03:24:02.933Z"
   },
   {
    "duration": 41,
    "start_time": "2022-06-12T03:24:03.097Z"
   },
   {
    "duration": 141,
    "start_time": "2022-06-12T03:24:03.151Z"
   },
   {
    "duration": 39,
    "start_time": "2022-06-12T03:24:03.293Z"
   },
   {
    "duration": 407,
    "start_time": "2022-06-12T03:24:03.334Z"
   },
   {
    "duration": 367,
    "start_time": "2022-06-12T03:24:03.743Z"
   },
   {
    "duration": 6,
    "start_time": "2022-06-12T03:24:04.112Z"
   },
   {
    "duration": 16,
    "start_time": "2022-06-12T03:24:04.120Z"
   },
   {
    "duration": 19,
    "start_time": "2022-06-12T03:24:04.138Z"
   },
   {
    "duration": 6,
    "start_time": "2022-06-12T03:24:04.159Z"
   },
   {
    "duration": 12,
    "start_time": "2022-06-12T03:24:04.167Z"
   },
   {
    "duration": 8,
    "start_time": "2022-06-12T03:24:04.181Z"
   },
   {
    "duration": 1192,
    "start_time": "2022-06-12T03:25:41.240Z"
   },
   {
    "duration": 3,
    "start_time": "2022-06-12T03:25:42.434Z"
   },
   {
    "duration": 71,
    "start_time": "2022-06-12T03:25:42.438Z"
   },
   {
    "duration": 28,
    "start_time": "2022-06-12T03:25:42.512Z"
   },
   {
    "duration": 15,
    "start_time": "2022-06-12T03:25:42.541Z"
   },
   {
    "duration": 38,
    "start_time": "2022-06-12T03:25:42.557Z"
   },
   {
    "duration": 17,
    "start_time": "2022-06-12T03:25:42.597Z"
   },
   {
    "duration": 12,
    "start_time": "2022-06-12T03:25:42.616Z"
   },
   {
    "duration": 28,
    "start_time": "2022-06-12T03:25:42.630Z"
   },
   {
    "duration": 4,
    "start_time": "2022-06-12T03:25:42.661Z"
   },
   {
    "duration": 14,
    "start_time": "2022-06-12T03:25:42.666Z"
   },
   {
    "duration": 19,
    "start_time": "2022-06-12T03:25:42.682Z"
   },
   {
    "duration": 9,
    "start_time": "2022-06-12T03:25:42.703Z"
   },
   {
    "duration": 39,
    "start_time": "2022-06-12T03:25:42.713Z"
   },
   {
    "duration": 9,
    "start_time": "2022-06-12T03:25:42.754Z"
   },
   {
    "duration": 21,
    "start_time": "2022-06-12T03:25:42.765Z"
   },
   {
    "duration": 5,
    "start_time": "2022-06-12T03:25:42.788Z"
   },
   {
    "duration": 11,
    "start_time": "2022-06-12T03:25:42.795Z"
   },
   {
    "duration": 260,
    "start_time": "2022-06-12T03:25:42.808Z"
   },
   {
    "duration": 14,
    "start_time": "2022-06-12T03:25:43.070Z"
   },
   {
    "duration": 310,
    "start_time": "2022-06-12T03:25:43.085Z"
   },
   {
    "duration": 118,
    "start_time": "2022-06-12T03:25:43.397Z"
   },
   {
    "duration": 0,
    "start_time": "2022-06-12T03:25:43.517Z"
   },
   {
    "duration": 0,
    "start_time": "2022-06-12T03:25:43.519Z"
   },
   {
    "duration": 0,
    "start_time": "2022-06-12T03:25:43.520Z"
   },
   {
    "duration": 0,
    "start_time": "2022-06-12T03:25:43.521Z"
   },
   {
    "duration": 0,
    "start_time": "2022-06-12T03:25:43.522Z"
   },
   {
    "duration": 0,
    "start_time": "2022-06-12T03:25:43.523Z"
   },
   {
    "duration": 0,
    "start_time": "2022-06-12T03:25:43.524Z"
   },
   {
    "duration": 0,
    "start_time": "2022-06-12T03:25:43.525Z"
   },
   {
    "duration": 0,
    "start_time": "2022-06-12T03:25:43.526Z"
   },
   {
    "duration": 0,
    "start_time": "2022-06-12T03:25:43.527Z"
   },
   {
    "duration": 0,
    "start_time": "2022-06-12T03:25:43.528Z"
   },
   {
    "duration": 0,
    "start_time": "2022-06-12T03:25:43.529Z"
   },
   {
    "duration": 0,
    "start_time": "2022-06-12T03:25:43.529Z"
   },
   {
    "duration": 0,
    "start_time": "2022-06-12T03:25:43.530Z"
   },
   {
    "duration": 0,
    "start_time": "2022-06-12T03:25:43.552Z"
   },
   {
    "duration": 0,
    "start_time": "2022-06-12T03:25:43.554Z"
   },
   {
    "duration": 0,
    "start_time": "2022-06-12T03:25:43.555Z"
   },
   {
    "duration": 0,
    "start_time": "2022-06-12T03:25:43.555Z"
   },
   {
    "duration": 0,
    "start_time": "2022-06-12T03:25:43.557Z"
   },
   {
    "duration": 0,
    "start_time": "2022-06-12T03:25:43.558Z"
   },
   {
    "duration": 0,
    "start_time": "2022-06-12T03:25:43.559Z"
   },
   {
    "duration": 0,
    "start_time": "2022-06-12T03:25:43.560Z"
   },
   {
    "duration": 0,
    "start_time": "2022-06-12T03:25:43.561Z"
   },
   {
    "duration": 0,
    "start_time": "2022-06-12T03:25:43.562Z"
   },
   {
    "duration": 0,
    "start_time": "2022-06-12T03:25:43.563Z"
   },
   {
    "duration": 0,
    "start_time": "2022-06-12T03:25:43.564Z"
   },
   {
    "duration": 0,
    "start_time": "2022-06-12T03:25:43.566Z"
   },
   {
    "duration": 0,
    "start_time": "2022-06-12T03:25:43.567Z"
   },
   {
    "duration": 0,
    "start_time": "2022-06-12T03:25:43.568Z"
   },
   {
    "duration": 0,
    "start_time": "2022-06-12T03:25:43.569Z"
   },
   {
    "duration": 85,
    "start_time": "2022-06-12T03:26:00.481Z"
   },
   {
    "duration": 104,
    "start_time": "2022-06-12T03:26:27.935Z"
   },
   {
    "duration": 356,
    "start_time": "2022-06-12T03:30:57.477Z"
   },
   {
    "duration": 44,
    "start_time": "2022-06-12T03:31:07.653Z"
   },
   {
    "duration": 72,
    "start_time": "2022-06-12T03:31:24.050Z"
   },
   {
    "duration": 298,
    "start_time": "2022-06-12T03:31:33.743Z"
   },
   {
    "duration": 288,
    "start_time": "2022-06-12T03:32:08.460Z"
   },
   {
    "duration": 291,
    "start_time": "2022-06-12T03:35:23.276Z"
   },
   {
    "duration": 273,
    "start_time": "2022-06-12T03:36:04.251Z"
   },
   {
    "duration": 350,
    "start_time": "2022-06-12T03:36:16.831Z"
   },
   {
    "duration": 333,
    "start_time": "2022-06-12T03:36:42.392Z"
   },
   {
    "duration": 17,
    "start_time": "2022-06-12T03:40:15.201Z"
   },
   {
    "duration": 1087,
    "start_time": "2022-06-12T03:41:46.644Z"
   },
   {
    "duration": 2,
    "start_time": "2022-06-12T03:41:47.733Z"
   },
   {
    "duration": 58,
    "start_time": "2022-06-12T03:41:47.737Z"
   },
   {
    "duration": 22,
    "start_time": "2022-06-12T03:41:47.798Z"
   },
   {
    "duration": 13,
    "start_time": "2022-06-12T03:41:47.821Z"
   },
   {
    "duration": 27,
    "start_time": "2022-06-12T03:41:47.835Z"
   },
   {
    "duration": 13,
    "start_time": "2022-06-12T03:41:47.863Z"
   },
   {
    "duration": 7,
    "start_time": "2022-06-12T03:41:47.878Z"
   },
   {
    "duration": 9,
    "start_time": "2022-06-12T03:41:47.887Z"
   },
   {
    "duration": 3,
    "start_time": "2022-06-12T03:41:47.898Z"
   },
   {
    "duration": 10,
    "start_time": "2022-06-12T03:41:47.903Z"
   },
   {
    "duration": 37,
    "start_time": "2022-06-12T03:41:47.915Z"
   },
   {
    "duration": 10,
    "start_time": "2022-06-12T03:41:47.954Z"
   },
   {
    "duration": 30,
    "start_time": "2022-06-12T03:41:47.966Z"
   },
   {
    "duration": 8,
    "start_time": "2022-06-12T03:41:47.998Z"
   },
   {
    "duration": 21,
    "start_time": "2022-06-12T03:41:48.007Z"
   },
   {
    "duration": 23,
    "start_time": "2022-06-12T03:41:48.030Z"
   },
   {
    "duration": 10,
    "start_time": "2022-06-12T03:41:48.055Z"
   },
   {
    "duration": 225,
    "start_time": "2022-06-12T03:41:48.067Z"
   },
   {
    "duration": 12,
    "start_time": "2022-06-12T03:41:48.293Z"
   },
   {
    "duration": 280,
    "start_time": "2022-06-12T03:41:48.306Z"
   },
   {
    "duration": 16,
    "start_time": "2022-06-12T03:41:48.587Z"
   },
   {
    "duration": 55,
    "start_time": "2022-06-12T03:41:48.605Z"
   },
   {
    "duration": 37,
    "start_time": "2022-06-12T03:41:48.661Z"
   },
   {
    "duration": 393,
    "start_time": "2022-06-12T03:41:48.700Z"
   },
   {
    "duration": 134,
    "start_time": "2022-06-12T03:41:49.094Z"
   },
   {
    "duration": 9,
    "start_time": "2022-06-12T03:41:49.230Z"
   },
   {
    "duration": 624,
    "start_time": "2022-06-12T03:41:49.252Z"
   },
   {
    "duration": 47,
    "start_time": "2022-06-12T03:41:49.878Z"
   },
   {
    "duration": 13,
    "start_time": "2022-06-12T03:41:49.927Z"
   },
   {
    "duration": 561,
    "start_time": "2022-06-12T03:41:49.942Z"
   },
   {
    "duration": 14,
    "start_time": "2022-06-12T03:41:50.504Z"
   },
   {
    "duration": 543,
    "start_time": "2022-06-12T03:41:50.520Z"
   },
   {
    "duration": 38,
    "start_time": "2022-06-12T03:41:51.065Z"
   },
   {
    "duration": 299,
    "start_time": "2022-06-12T03:41:51.104Z"
   },
   {
    "duration": 15,
    "start_time": "2022-06-12T03:41:51.405Z"
   },
   {
    "duration": 13,
    "start_time": "2022-06-12T03:41:51.422Z"
   },
   {
    "duration": 239,
    "start_time": "2022-06-12T03:41:51.451Z"
   },
   {
    "duration": 38,
    "start_time": "2022-06-12T03:41:51.692Z"
   },
   {
    "duration": 151,
    "start_time": "2022-06-12T03:41:51.731Z"
   },
   {
    "duration": 38,
    "start_time": "2022-06-12T03:41:51.883Z"
   },
   {
    "duration": 139,
    "start_time": "2022-06-12T03:41:51.922Z"
   },
   {
    "duration": 41,
    "start_time": "2022-06-12T03:41:52.063Z"
   },
   {
    "duration": 420,
    "start_time": "2022-06-12T03:41:52.105Z"
   },
   {
    "duration": 380,
    "start_time": "2022-06-12T03:41:52.527Z"
   },
   {
    "duration": 6,
    "start_time": "2022-06-12T03:41:52.909Z"
   },
   {
    "duration": 12,
    "start_time": "2022-06-12T03:41:52.917Z"
   },
   {
    "duration": 22,
    "start_time": "2022-06-12T03:41:52.931Z"
   },
   {
    "duration": 6,
    "start_time": "2022-06-12T03:41:52.955Z"
   },
   {
    "duration": 9,
    "start_time": "2022-06-12T03:41:52.963Z"
   },
   {
    "duration": 8,
    "start_time": "2022-06-12T03:41:52.974Z"
   },
   {
    "duration": 74,
    "start_time": "2022-06-12T03:44:13.073Z"
   },
   {
    "duration": 90,
    "start_time": "2022-06-12T03:55:25.234Z"
   },
   {
    "duration": 54,
    "start_time": "2022-06-12T03:55:44.870Z"
   },
   {
    "duration": 1508,
    "start_time": "2022-06-12T04:00:28.607Z"
   },
   {
    "duration": 9,
    "start_time": "2022-06-12T04:04:03.829Z"
   },
   {
    "duration": 112,
    "start_time": "2022-06-12T04:07:50.775Z"
   },
   {
    "duration": 39,
    "start_time": "2022-06-12T04:07:56.468Z"
   },
   {
    "duration": 21,
    "start_time": "2022-06-12T04:08:01.416Z"
   },
   {
    "duration": 59,
    "start_time": "2022-06-12T04:08:13.637Z"
   },
   {
    "duration": 16,
    "start_time": "2022-06-12T04:08:26.417Z"
   },
   {
    "duration": 10,
    "start_time": "2022-06-12T04:08:44.036Z"
   },
   {
    "duration": 13,
    "start_time": "2022-06-12T04:09:14.262Z"
   },
   {
    "duration": 287,
    "start_time": "2022-06-12T04:09:24.486Z"
   },
   {
    "duration": 17,
    "start_time": "2022-06-12T04:09:45.481Z"
   },
   {
    "duration": 103,
    "start_time": "2022-06-12T04:10:05.532Z"
   },
   {
    "duration": 59,
    "start_time": "2022-06-12T04:10:53.044Z"
   },
   {
    "duration": 16,
    "start_time": "2022-06-12T04:10:57.111Z"
   },
   {
    "duration": 24,
    "start_time": "2022-06-12T04:11:06.186Z"
   },
   {
    "duration": 19,
    "start_time": "2022-06-12T04:11:29.595Z"
   },
   {
    "duration": 1090,
    "start_time": "2022-06-12T04:11:46.235Z"
   },
   {
    "duration": 2,
    "start_time": "2022-06-12T04:11:47.327Z"
   },
   {
    "duration": 71,
    "start_time": "2022-06-12T04:11:47.330Z"
   },
   {
    "duration": 22,
    "start_time": "2022-06-12T04:11:47.403Z"
   },
   {
    "duration": 13,
    "start_time": "2022-06-12T04:11:47.426Z"
   },
   {
    "duration": 27,
    "start_time": "2022-06-12T04:11:47.441Z"
   },
   {
    "duration": 15,
    "start_time": "2022-06-12T04:11:47.471Z"
   },
   {
    "duration": 12,
    "start_time": "2022-06-12T04:11:47.488Z"
   },
   {
    "duration": 10,
    "start_time": "2022-06-12T04:11:47.502Z"
   },
   {
    "duration": 10,
    "start_time": "2022-06-12T04:11:47.516Z"
   },
   {
    "duration": 34,
    "start_time": "2022-06-12T04:11:47.527Z"
   },
   {
    "duration": 12,
    "start_time": "2022-06-12T04:11:47.562Z"
   },
   {
    "duration": 19,
    "start_time": "2022-06-12T04:11:47.576Z"
   },
   {
    "duration": 22,
    "start_time": "2022-06-12T04:11:47.596Z"
   },
   {
    "duration": 11,
    "start_time": "2022-06-12T04:11:47.620Z"
   },
   {
    "duration": 32,
    "start_time": "2022-06-12T04:11:47.633Z"
   },
   {
    "duration": 5,
    "start_time": "2022-06-12T04:11:47.667Z"
   },
   {
    "duration": 12,
    "start_time": "2022-06-12T04:11:47.674Z"
   },
   {
    "duration": 216,
    "start_time": "2022-06-12T04:11:47.688Z"
   },
   {
    "duration": 13,
    "start_time": "2022-06-12T04:11:47.906Z"
   },
   {
    "duration": 298,
    "start_time": "2022-06-12T04:11:47.921Z"
   },
   {
    "duration": 64,
    "start_time": "2022-06-12T04:11:48.220Z"
   },
   {
    "duration": 26,
    "start_time": "2022-06-12T04:11:48.285Z"
   },
   {
    "duration": 115,
    "start_time": "2022-06-12T04:11:48.312Z"
   },
   {
    "duration": 0,
    "start_time": "2022-06-12T04:11:48.429Z"
   },
   {
    "duration": 0,
    "start_time": "2022-06-12T04:11:48.430Z"
   },
   {
    "duration": 0,
    "start_time": "2022-06-12T04:11:48.431Z"
   },
   {
    "duration": 0,
    "start_time": "2022-06-12T04:11:48.432Z"
   },
   {
    "duration": 0,
    "start_time": "2022-06-12T04:11:48.433Z"
   },
   {
    "duration": 0,
    "start_time": "2022-06-12T04:11:48.433Z"
   },
   {
    "duration": 0,
    "start_time": "2022-06-12T04:11:48.434Z"
   },
   {
    "duration": 0,
    "start_time": "2022-06-12T04:11:48.435Z"
   },
   {
    "duration": 0,
    "start_time": "2022-06-12T04:11:48.436Z"
   },
   {
    "duration": 0,
    "start_time": "2022-06-12T04:11:48.452Z"
   },
   {
    "duration": 0,
    "start_time": "2022-06-12T04:11:48.453Z"
   },
   {
    "duration": 0,
    "start_time": "2022-06-12T04:11:48.454Z"
   },
   {
    "duration": 0,
    "start_time": "2022-06-12T04:11:48.456Z"
   },
   {
    "duration": 0,
    "start_time": "2022-06-12T04:11:48.456Z"
   },
   {
    "duration": 0,
    "start_time": "2022-06-12T04:11:48.458Z"
   },
   {
    "duration": 0,
    "start_time": "2022-06-12T04:11:48.459Z"
   },
   {
    "duration": 0,
    "start_time": "2022-06-12T04:11:48.460Z"
   },
   {
    "duration": 0,
    "start_time": "2022-06-12T04:11:48.461Z"
   },
   {
    "duration": 0,
    "start_time": "2022-06-12T04:11:48.462Z"
   },
   {
    "duration": 0,
    "start_time": "2022-06-12T04:11:48.462Z"
   },
   {
    "duration": 0,
    "start_time": "2022-06-12T04:11:48.464Z"
   },
   {
    "duration": 0,
    "start_time": "2022-06-12T04:11:48.465Z"
   },
   {
    "duration": 0,
    "start_time": "2022-06-12T04:11:48.466Z"
   },
   {
    "duration": 0,
    "start_time": "2022-06-12T04:11:48.467Z"
   },
   {
    "duration": 0,
    "start_time": "2022-06-12T04:11:48.468Z"
   },
   {
    "duration": 0,
    "start_time": "2022-06-12T04:11:48.468Z"
   },
   {
    "duration": 0,
    "start_time": "2022-06-12T04:11:48.469Z"
   },
   {
    "duration": 0,
    "start_time": "2022-06-12T04:11:48.470Z"
   },
   {
    "duration": 0,
    "start_time": "2022-06-12T04:11:48.471Z"
   },
   {
    "duration": 0,
    "start_time": "2022-06-12T04:11:48.472Z"
   },
   {
    "duration": 0,
    "start_time": "2022-06-12T04:11:48.472Z"
   },
   {
    "duration": 324,
    "start_time": "2022-06-12T04:12:54.584Z"
   },
   {
    "duration": 284,
    "start_time": "2022-06-12T04:13:26.098Z"
   },
   {
    "duration": 1055,
    "start_time": "2022-06-12T04:15:36.832Z"
   },
   {
    "duration": 2,
    "start_time": "2022-06-12T04:15:37.889Z"
   },
   {
    "duration": 58,
    "start_time": "2022-06-12T04:15:37.893Z"
   },
   {
    "duration": 21,
    "start_time": "2022-06-12T04:15:37.964Z"
   },
   {
    "duration": 12,
    "start_time": "2022-06-12T04:15:37.987Z"
   },
   {
    "duration": 26,
    "start_time": "2022-06-12T04:15:38.001Z"
   },
   {
    "duration": 40,
    "start_time": "2022-06-12T04:15:38.028Z"
   },
   {
    "duration": 8,
    "start_time": "2022-06-12T04:15:38.070Z"
   },
   {
    "duration": 9,
    "start_time": "2022-06-12T04:15:38.080Z"
   },
   {
    "duration": 3,
    "start_time": "2022-06-12T04:15:38.092Z"
   },
   {
    "duration": 10,
    "start_time": "2022-06-12T04:15:38.097Z"
   },
   {
    "duration": 8,
    "start_time": "2022-06-12T04:15:38.109Z"
   },
   {
    "duration": 39,
    "start_time": "2022-06-12T04:15:38.119Z"
   },
   {
    "duration": 27,
    "start_time": "2022-06-12T04:15:38.160Z"
   },
   {
    "duration": 8,
    "start_time": "2022-06-12T04:15:38.189Z"
   },
   {
    "duration": 20,
    "start_time": "2022-06-12T04:15:38.198Z"
   },
   {
    "duration": 5,
    "start_time": "2022-06-12T04:15:38.220Z"
   },
   {
    "duration": 28,
    "start_time": "2022-06-12T04:15:38.226Z"
   },
   {
    "duration": 217,
    "start_time": "2022-06-12T04:15:38.259Z"
   },
   {
    "duration": 11,
    "start_time": "2022-06-12T04:15:38.478Z"
   },
   {
    "duration": 304,
    "start_time": "2022-06-12T04:15:38.490Z"
   },
   {
    "duration": 72,
    "start_time": "2022-06-12T04:15:38.795Z"
   },
   {
    "duration": 227,
    "start_time": "2022-06-12T04:15:38.869Z"
   },
   {
    "duration": 17,
    "start_time": "2022-06-12T04:15:39.098Z"
   },
   {
    "duration": 57,
    "start_time": "2022-06-12T04:15:39.116Z"
   },
   {
    "duration": 43,
    "start_time": "2022-06-12T04:15:39.174Z"
   },
   {
    "duration": 448,
    "start_time": "2022-06-12T04:15:39.218Z"
   },
   {
    "duration": 154,
    "start_time": "2022-06-12T04:15:39.671Z"
   },
   {
    "duration": 10,
    "start_time": "2022-06-12T04:15:39.827Z"
   },
   {
    "duration": 761,
    "start_time": "2022-06-12T04:15:39.839Z"
   },
   {
    "duration": 65,
    "start_time": "2022-06-12T04:15:40.602Z"
   },
   {
    "duration": 17,
    "start_time": "2022-06-12T04:15:40.668Z"
   },
   {
    "duration": 793,
    "start_time": "2022-06-12T04:15:40.687Z"
   },
   {
    "duration": 15,
    "start_time": "2022-06-12T04:15:41.482Z"
   },
   {
    "duration": 1373,
    "start_time": "2022-06-12T04:15:41.499Z"
   },
   {
    "duration": 305,
    "start_time": "2022-06-12T04:15:42.874Z"
   },
   {
    "duration": 428,
    "start_time": "2022-06-12T04:15:43.181Z"
   },
   {
    "duration": 15,
    "start_time": "2022-06-12T04:15:43.611Z"
   },
   {
    "duration": 38,
    "start_time": "2022-06-12T04:15:43.627Z"
   },
   {
    "duration": 167,
    "start_time": "2022-06-12T04:15:43.668Z"
   },
   {
    "duration": 53,
    "start_time": "2022-06-12T04:15:43.837Z"
   },
   {
    "duration": 177,
    "start_time": "2022-06-12T04:15:43.891Z"
   },
   {
    "duration": 42,
    "start_time": "2022-06-12T04:15:44.070Z"
   },
   {
    "duration": 156,
    "start_time": "2022-06-12T04:15:44.114Z"
   },
   {
    "duration": 44,
    "start_time": "2022-06-12T04:15:44.272Z"
   },
   {
    "duration": 454,
    "start_time": "2022-06-12T04:15:44.318Z"
   },
   {
    "duration": 392,
    "start_time": "2022-06-12T04:15:44.774Z"
   },
   {
    "duration": 7,
    "start_time": "2022-06-12T04:15:45.168Z"
   },
   {
    "duration": 19,
    "start_time": "2022-06-12T04:15:45.176Z"
   },
   {
    "duration": 10,
    "start_time": "2022-06-12T04:15:45.196Z"
   },
   {
    "duration": 10,
    "start_time": "2022-06-12T04:15:45.208Z"
   },
   {
    "duration": 13,
    "start_time": "2022-06-12T04:15:45.220Z"
   },
   {
    "duration": 32,
    "start_time": "2022-06-12T04:15:45.235Z"
   },
   {
    "duration": 228,
    "start_time": "2022-06-12T04:15:54.525Z"
   },
   {
    "duration": 227,
    "start_time": "2022-06-12T04:16:47.470Z"
   },
   {
    "duration": 251,
    "start_time": "2022-06-12T04:17:39.926Z"
   },
   {
    "duration": 326,
    "start_time": "2022-06-12T04:17:46.035Z"
   },
   {
    "duration": 328,
    "start_time": "2022-06-12T04:19:02.674Z"
   },
   {
    "duration": 262,
    "start_time": "2022-06-12T04:19:10.328Z"
   },
   {
    "duration": 287,
    "start_time": "2022-06-12T04:20:05.010Z"
   },
   {
    "duration": 230,
    "start_time": "2022-06-12T04:20:25.698Z"
   },
   {
    "duration": 1118,
    "start_time": "2022-06-12T04:20:51.427Z"
   },
   {
    "duration": 2,
    "start_time": "2022-06-12T04:20:52.548Z"
   },
   {
    "duration": 76,
    "start_time": "2022-06-12T04:20:52.553Z"
   },
   {
    "duration": 28,
    "start_time": "2022-06-12T04:20:52.632Z"
   },
   {
    "duration": 22,
    "start_time": "2022-06-12T04:20:52.663Z"
   },
   {
    "duration": 36,
    "start_time": "2022-06-12T04:20:52.687Z"
   },
   {
    "duration": 39,
    "start_time": "2022-06-12T04:20:52.725Z"
   },
   {
    "duration": 10,
    "start_time": "2022-06-12T04:20:52.766Z"
   },
   {
    "duration": 11,
    "start_time": "2022-06-12T04:20:52.779Z"
   },
   {
    "duration": 4,
    "start_time": "2022-06-12T04:20:52.793Z"
   },
   {
    "duration": 11,
    "start_time": "2022-06-12T04:20:52.799Z"
   },
   {
    "duration": 42,
    "start_time": "2022-06-12T04:20:52.812Z"
   },
   {
    "duration": 9,
    "start_time": "2022-06-12T04:20:52.856Z"
   },
   {
    "duration": 24,
    "start_time": "2022-06-12T04:20:52.867Z"
   },
   {
    "duration": 11,
    "start_time": "2022-06-12T04:20:52.892Z"
   },
   {
    "duration": 50,
    "start_time": "2022-06-12T04:20:52.905Z"
   },
   {
    "duration": 5,
    "start_time": "2022-06-12T04:20:52.957Z"
   },
   {
    "duration": 20,
    "start_time": "2022-06-12T04:20:52.964Z"
   },
   {
    "duration": 266,
    "start_time": "2022-06-12T04:20:52.986Z"
   },
   {
    "duration": 14,
    "start_time": "2022-06-12T04:20:53.254Z"
   },
   {
    "duration": 310,
    "start_time": "2022-06-12T04:20:53.269Z"
   },
   {
    "duration": 79,
    "start_time": "2022-06-12T04:20:53.581Z"
   },
   {
    "duration": 294,
    "start_time": "2022-06-12T04:20:53.662Z"
   },
   {
    "duration": 0,
    "start_time": "2022-06-12T04:20:53.959Z"
   },
   {
    "duration": 0,
    "start_time": "2022-06-12T04:20:53.960Z"
   },
   {
    "duration": 0,
    "start_time": "2022-06-12T04:20:53.962Z"
   },
   {
    "duration": 0,
    "start_time": "2022-06-12T04:20:53.964Z"
   },
   {
    "duration": 0,
    "start_time": "2022-06-12T04:20:53.965Z"
   },
   {
    "duration": 0,
    "start_time": "2022-06-12T04:20:53.966Z"
   },
   {
    "duration": 0,
    "start_time": "2022-06-12T04:20:53.967Z"
   },
   {
    "duration": 0,
    "start_time": "2022-06-12T04:20:53.968Z"
   },
   {
    "duration": 0,
    "start_time": "2022-06-12T04:20:53.970Z"
   },
   {
    "duration": 0,
    "start_time": "2022-06-12T04:20:53.971Z"
   },
   {
    "duration": 0,
    "start_time": "2022-06-12T04:20:53.972Z"
   },
   {
    "duration": 0,
    "start_time": "2022-06-12T04:20:53.973Z"
   },
   {
    "duration": 0,
    "start_time": "2022-06-12T04:20:53.975Z"
   },
   {
    "duration": 0,
    "start_time": "2022-06-12T04:20:53.976Z"
   },
   {
    "duration": 0,
    "start_time": "2022-06-12T04:20:53.978Z"
   },
   {
    "duration": 0,
    "start_time": "2022-06-12T04:20:53.979Z"
   },
   {
    "duration": 0,
    "start_time": "2022-06-12T04:20:53.981Z"
   },
   {
    "duration": 0,
    "start_time": "2022-06-12T04:20:53.982Z"
   },
   {
    "duration": 0,
    "start_time": "2022-06-12T04:20:53.984Z"
   },
   {
    "duration": 0,
    "start_time": "2022-06-12T04:20:53.986Z"
   },
   {
    "duration": 0,
    "start_time": "2022-06-12T04:20:53.987Z"
   },
   {
    "duration": 0,
    "start_time": "2022-06-12T04:20:53.989Z"
   },
   {
    "duration": 0,
    "start_time": "2022-06-12T04:20:53.990Z"
   },
   {
    "duration": 0,
    "start_time": "2022-06-12T04:20:53.992Z"
   },
   {
    "duration": 0,
    "start_time": "2022-06-12T04:20:53.994Z"
   },
   {
    "duration": 0,
    "start_time": "2022-06-12T04:20:53.995Z"
   },
   {
    "duration": 0,
    "start_time": "2022-06-12T04:20:53.997Z"
   },
   {
    "duration": 0,
    "start_time": "2022-06-12T04:20:54.053Z"
   },
   {
    "duration": 0,
    "start_time": "2022-06-12T04:20:54.055Z"
   },
   {
    "duration": 0,
    "start_time": "2022-06-12T04:20:54.056Z"
   },
   {
    "duration": 264,
    "start_time": "2022-06-12T04:21:06.043Z"
   },
   {
    "duration": 246,
    "start_time": "2022-06-12T04:21:13.830Z"
   },
   {
    "duration": 252,
    "start_time": "2022-06-12T04:21:31.931Z"
   },
   {
    "duration": 250,
    "start_time": "2022-06-12T04:27:54.776Z"
   },
   {
    "duration": 15,
    "start_time": "2022-06-12T04:28:47.829Z"
   },
   {
    "duration": 172,
    "start_time": "2022-06-12T04:29:25.635Z"
   },
   {
    "duration": 1140,
    "start_time": "2022-06-12T04:30:29.901Z"
   },
   {
    "duration": 3,
    "start_time": "2022-06-12T04:30:31.044Z"
   },
   {
    "duration": 105,
    "start_time": "2022-06-12T04:30:31.048Z"
   },
   {
    "duration": 26,
    "start_time": "2022-06-12T04:30:31.156Z"
   },
   {
    "duration": 22,
    "start_time": "2022-06-12T04:30:31.184Z"
   },
   {
    "duration": 60,
    "start_time": "2022-06-12T04:30:31.208Z"
   },
   {
    "duration": 20,
    "start_time": "2022-06-12T04:30:31.270Z"
   },
   {
    "duration": 15,
    "start_time": "2022-06-12T04:30:31.292Z"
   },
   {
    "duration": 36,
    "start_time": "2022-06-12T04:30:31.309Z"
   },
   {
    "duration": 6,
    "start_time": "2022-06-12T04:30:31.348Z"
   },
   {
    "duration": 20,
    "start_time": "2022-06-12T04:30:31.356Z"
   },
   {
    "duration": 24,
    "start_time": "2022-06-12T04:30:31.378Z"
   },
   {
    "duration": 13,
    "start_time": "2022-06-12T04:30:31.405Z"
   },
   {
    "duration": 24,
    "start_time": "2022-06-12T04:30:31.420Z"
   },
   {
    "duration": 9,
    "start_time": "2022-06-12T04:30:31.452Z"
   },
   {
    "duration": 29,
    "start_time": "2022-06-12T04:30:31.463Z"
   },
   {
    "duration": 6,
    "start_time": "2022-06-12T04:30:31.494Z"
   },
   {
    "duration": 21,
    "start_time": "2022-06-12T04:30:31.502Z"
   },
   {
    "duration": 251,
    "start_time": "2022-06-12T04:30:31.525Z"
   },
   {
    "duration": 17,
    "start_time": "2022-06-12T04:30:31.778Z"
   },
   {
    "duration": 314,
    "start_time": "2022-06-12T04:30:31.796Z"
   },
   {
    "duration": 80,
    "start_time": "2022-06-12T04:30:32.112Z"
   },
   {
    "duration": 14,
    "start_time": "2022-06-12T04:30:32.195Z"
   },
   {
    "duration": 291,
    "start_time": "2022-06-12T04:30:32.212Z"
   },
   {
    "duration": 22,
    "start_time": "2022-06-12T04:30:32.505Z"
   },
   {
    "duration": 65,
    "start_time": "2022-06-12T04:30:32.530Z"
   },
   {
    "duration": 63,
    "start_time": "2022-06-12T04:30:32.598Z"
   },
   {
    "duration": 720,
    "start_time": "2022-06-12T04:30:32.664Z"
   },
   {
    "duration": 295,
    "start_time": "2022-06-12T04:30:33.386Z"
   },
   {
    "duration": 11,
    "start_time": "2022-06-12T04:30:33.683Z"
   },
   {
    "duration": 1164,
    "start_time": "2022-06-12T04:30:33.752Z"
   },
   {
    "duration": 46,
    "start_time": "2022-06-12T04:30:34.918Z"
   },
   {
    "duration": 14,
    "start_time": "2022-06-12T04:30:34.965Z"
   },
   {
    "duration": 621,
    "start_time": "2022-06-12T04:30:34.981Z"
   },
   {
    "duration": 14,
    "start_time": "2022-06-12T04:30:35.603Z"
   },
   {
    "duration": 601,
    "start_time": "2022-06-12T04:30:35.619Z"
   },
   {
    "duration": 149,
    "start_time": "2022-06-12T04:30:36.222Z"
   },
   {
    "duration": 297,
    "start_time": "2022-06-12T04:30:36.373Z"
   },
   {
    "duration": 16,
    "start_time": "2022-06-12T04:30:36.672Z"
   },
   {
    "duration": 18,
    "start_time": "2022-06-12T04:30:36.690Z"
   },
   {
    "duration": 165,
    "start_time": "2022-06-12T04:30:36.711Z"
   },
   {
    "duration": 56,
    "start_time": "2022-06-12T04:30:36.878Z"
   },
   {
    "duration": 152,
    "start_time": "2022-06-12T04:30:36.936Z"
   },
   {
    "duration": 42,
    "start_time": "2022-06-12T04:30:37.090Z"
   },
   {
    "duration": 151,
    "start_time": "2022-06-12T04:30:37.134Z"
   },
   {
    "duration": 38,
    "start_time": "2022-06-12T04:30:37.287Z"
   },
   {
    "duration": 432,
    "start_time": "2022-06-12T04:30:37.327Z"
   },
   {
    "duration": 393,
    "start_time": "2022-06-12T04:30:37.761Z"
   },
   {
    "duration": 7,
    "start_time": "2022-06-12T04:30:38.157Z"
   },
   {
    "duration": 12,
    "start_time": "2022-06-12T04:30:38.166Z"
   },
   {
    "duration": 8,
    "start_time": "2022-06-12T04:30:38.180Z"
   },
   {
    "duration": 7,
    "start_time": "2022-06-12T04:30:38.189Z"
   },
   {
    "duration": 9,
    "start_time": "2022-06-12T04:30:38.198Z"
   },
   {
    "duration": 46,
    "start_time": "2022-06-12T04:30:38.209Z"
   },
   {
    "duration": 157,
    "start_time": "2022-06-12T04:31:18.060Z"
   },
   {
    "duration": 1112,
    "start_time": "2022-06-12T04:31:27.271Z"
   },
   {
    "duration": 3,
    "start_time": "2022-06-12T04:31:28.385Z"
   },
   {
    "duration": 61,
    "start_time": "2022-06-12T04:31:28.389Z"
   },
   {
    "duration": 25,
    "start_time": "2022-06-12T04:31:28.454Z"
   },
   {
    "duration": 20,
    "start_time": "2022-06-12T04:31:28.481Z"
   },
   {
    "duration": 67,
    "start_time": "2022-06-12T04:31:28.504Z"
   },
   {
    "duration": 19,
    "start_time": "2022-06-12T04:31:28.574Z"
   },
   {
    "duration": 13,
    "start_time": "2022-06-12T04:31:28.595Z"
   },
   {
    "duration": 9,
    "start_time": "2022-06-12T04:31:28.609Z"
   },
   {
    "duration": 5,
    "start_time": "2022-06-12T04:31:28.621Z"
   },
   {
    "duration": 34,
    "start_time": "2022-06-12T04:31:28.628Z"
   },
   {
    "duration": 17,
    "start_time": "2022-06-12T04:31:28.663Z"
   },
   {
    "duration": 9,
    "start_time": "2022-06-12T04:31:28.683Z"
   },
   {
    "duration": 32,
    "start_time": "2022-06-12T04:31:28.693Z"
   },
   {
    "duration": 26,
    "start_time": "2022-06-12T04:31:28.727Z"
   },
   {
    "duration": 25,
    "start_time": "2022-06-12T04:31:28.755Z"
   },
   {
    "duration": 5,
    "start_time": "2022-06-12T04:31:28.781Z"
   },
   {
    "duration": 13,
    "start_time": "2022-06-12T04:31:28.788Z"
   },
   {
    "duration": 268,
    "start_time": "2022-06-12T04:31:28.803Z"
   },
   {
    "duration": 13,
    "start_time": "2022-06-12T04:31:29.073Z"
   },
   {
    "duration": 330,
    "start_time": "2022-06-12T04:31:29.088Z"
   },
   {
    "duration": 196,
    "start_time": "2022-06-12T04:31:29.420Z"
   },
   {
    "duration": 0,
    "start_time": "2022-06-12T04:31:29.618Z"
   },
   {
    "duration": 0,
    "start_time": "2022-06-12T04:31:29.619Z"
   },
   {
    "duration": 0,
    "start_time": "2022-06-12T04:31:29.621Z"
   },
   {
    "duration": 0,
    "start_time": "2022-06-12T04:31:29.622Z"
   },
   {
    "duration": 0,
    "start_time": "2022-06-12T04:31:29.623Z"
   },
   {
    "duration": 0,
    "start_time": "2022-06-12T04:31:29.625Z"
   },
   {
    "duration": 0,
    "start_time": "2022-06-12T04:31:29.626Z"
   },
   {
    "duration": 0,
    "start_time": "2022-06-12T04:31:29.627Z"
   },
   {
    "duration": 0,
    "start_time": "2022-06-12T04:31:29.628Z"
   },
   {
    "duration": 0,
    "start_time": "2022-06-12T04:31:29.629Z"
   },
   {
    "duration": 0,
    "start_time": "2022-06-12T04:31:29.630Z"
   },
   {
    "duration": 0,
    "start_time": "2022-06-12T04:31:29.652Z"
   },
   {
    "duration": 0,
    "start_time": "2022-06-12T04:31:29.653Z"
   },
   {
    "duration": 0,
    "start_time": "2022-06-12T04:31:29.654Z"
   },
   {
    "duration": 0,
    "start_time": "2022-06-12T04:31:29.654Z"
   },
   {
    "duration": 0,
    "start_time": "2022-06-12T04:31:29.655Z"
   },
   {
    "duration": 0,
    "start_time": "2022-06-12T04:31:29.656Z"
   },
   {
    "duration": 0,
    "start_time": "2022-06-12T04:31:29.657Z"
   },
   {
    "duration": 0,
    "start_time": "2022-06-12T04:31:29.660Z"
   },
   {
    "duration": 0,
    "start_time": "2022-06-12T04:31:29.663Z"
   },
   {
    "duration": 0,
    "start_time": "2022-06-12T04:31:29.665Z"
   },
   {
    "duration": 0,
    "start_time": "2022-06-12T04:31:29.667Z"
   },
   {
    "duration": 0,
    "start_time": "2022-06-12T04:31:29.668Z"
   },
   {
    "duration": 0,
    "start_time": "2022-06-12T04:31:29.669Z"
   },
   {
    "duration": 0,
    "start_time": "2022-06-12T04:31:29.671Z"
   },
   {
    "duration": 0,
    "start_time": "2022-06-12T04:31:29.672Z"
   },
   {
    "duration": 0,
    "start_time": "2022-06-12T04:31:29.674Z"
   },
   {
    "duration": 0,
    "start_time": "2022-06-12T04:31:29.677Z"
   },
   {
    "duration": 0,
    "start_time": "2022-06-12T04:31:29.679Z"
   },
   {
    "duration": 0,
    "start_time": "2022-06-12T04:31:29.680Z"
   },
   {
    "duration": 0,
    "start_time": "2022-06-12T04:31:29.681Z"
   },
   {
    "duration": 0,
    "start_time": "2022-06-12T04:31:29.683Z"
   },
   {
    "duration": 66,
    "start_time": "2022-06-12T04:31:39.291Z"
   },
   {
    "duration": 340,
    "start_time": "2022-06-12T04:31:47.272Z"
   },
   {
    "duration": 1159,
    "start_time": "2022-06-12T04:34:22.124Z"
   },
   {
    "duration": 2,
    "start_time": "2022-06-12T04:34:23.285Z"
   },
   {
    "duration": 83,
    "start_time": "2022-06-12T04:34:23.289Z"
   },
   {
    "duration": 23,
    "start_time": "2022-06-12T04:34:23.373Z"
   },
   {
    "duration": 16,
    "start_time": "2022-06-12T04:34:23.399Z"
   },
   {
    "duration": 61,
    "start_time": "2022-06-12T04:34:23.417Z"
   },
   {
    "duration": 16,
    "start_time": "2022-06-12T04:34:23.480Z"
   },
   {
    "duration": 18,
    "start_time": "2022-06-12T04:34:23.498Z"
   },
   {
    "duration": 15,
    "start_time": "2022-06-12T04:34:23.518Z"
   },
   {
    "duration": 16,
    "start_time": "2022-06-12T04:34:23.536Z"
   },
   {
    "duration": 16,
    "start_time": "2022-06-12T04:34:23.555Z"
   },
   {
    "duration": 8,
    "start_time": "2022-06-12T04:34:23.573Z"
   },
   {
    "duration": 16,
    "start_time": "2022-06-12T04:34:23.583Z"
   },
   {
    "duration": 50,
    "start_time": "2022-06-12T04:34:23.604Z"
   },
   {
    "duration": 10,
    "start_time": "2022-06-12T04:34:23.655Z"
   },
   {
    "duration": 30,
    "start_time": "2022-06-12T04:34:23.667Z"
   },
   {
    "duration": 6,
    "start_time": "2022-06-12T04:34:23.699Z"
   },
   {
    "duration": 15,
    "start_time": "2022-06-12T04:34:23.707Z"
   },
   {
    "duration": 259,
    "start_time": "2022-06-12T04:34:23.724Z"
   },
   {
    "duration": 17,
    "start_time": "2022-06-12T04:34:23.986Z"
   },
   {
    "duration": 323,
    "start_time": "2022-06-12T04:34:24.004Z"
   },
   {
    "duration": 84,
    "start_time": "2022-06-12T04:34:24.329Z"
   },
   {
    "duration": 19,
    "start_time": "2022-06-12T04:34:24.763Z"
   },
   {
    "duration": 53,
    "start_time": "2022-06-12T04:34:24.784Z"
   },
   {
    "duration": 45,
    "start_time": "2022-06-12T04:34:24.851Z"
   },
   {
    "duration": 534,
    "start_time": "2022-06-12T04:34:24.898Z"
   },
   {
    "duration": 159,
    "start_time": "2022-06-12T04:34:25.434Z"
   },
   {
    "duration": 12,
    "start_time": "2022-06-12T04:34:25.595Z"
   },
   {
    "duration": 1067,
    "start_time": "2022-06-12T04:34:25.609Z"
   },
   {
    "duration": 102,
    "start_time": "2022-06-12T04:34:26.678Z"
   },
   {
    "duration": 14,
    "start_time": "2022-06-12T04:34:26.782Z"
   },
   {
    "duration": 983,
    "start_time": "2022-06-12T04:34:26.851Z"
   },
   {
    "duration": 24,
    "start_time": "2022-06-12T04:34:27.836Z"
   },
   {
    "duration": 560,
    "start_time": "2022-06-12T04:34:27.862Z"
   },
   {
    "duration": 147,
    "start_time": "2022-06-12T04:34:28.424Z"
   },
   {
    "duration": 298,
    "start_time": "2022-06-12T04:34:28.572Z"
   },
   {
    "duration": 15,
    "start_time": "2022-06-12T04:34:28.872Z"
   },
   {
    "duration": 14,
    "start_time": "2022-06-12T04:34:28.888Z"
   },
   {
    "duration": 161,
    "start_time": "2022-06-12T04:34:28.904Z"
   },
   {
    "duration": 41,
    "start_time": "2022-06-12T04:34:29.070Z"
   },
   {
    "duration": 161,
    "start_time": "2022-06-12T04:34:29.113Z"
   },
   {
    "duration": 40,
    "start_time": "2022-06-12T04:34:29.276Z"
   },
   {
    "duration": 152,
    "start_time": "2022-06-12T04:34:29.317Z"
   },
   {
    "duration": 58,
    "start_time": "2022-06-12T04:34:29.470Z"
   },
   {
    "duration": 446,
    "start_time": "2022-06-12T04:34:29.530Z"
   },
   {
    "duration": 392,
    "start_time": "2022-06-12T04:34:29.979Z"
   },
   {
    "duration": 6,
    "start_time": "2022-06-12T04:34:30.373Z"
   },
   {
    "duration": 24,
    "start_time": "2022-06-12T04:34:30.381Z"
   },
   {
    "duration": 19,
    "start_time": "2022-06-12T04:34:30.406Z"
   },
   {
    "duration": 66,
    "start_time": "2022-06-12T04:34:30.427Z"
   },
   {
    "duration": 20,
    "start_time": "2022-06-12T04:34:30.495Z"
   },
   {
    "duration": 26,
    "start_time": "2022-06-12T04:34:30.517Z"
   },
   {
    "duration": 294,
    "start_time": "2022-06-12T04:35:07.752Z"
   },
   {
    "duration": 24,
    "start_time": "2022-06-12T04:36:24.646Z"
   },
   {
    "duration": 474,
    "start_time": "2022-06-12T05:14:05.376Z"
   },
   {
    "duration": 146,
    "start_time": "2022-06-12T05:15:37.873Z"
   },
   {
    "duration": 12,
    "start_time": "2022-06-12T05:28:56.567Z"
   },
   {
    "duration": 734,
    "start_time": "2022-06-12T05:29:02.035Z"
   },
   {
    "duration": 15,
    "start_time": "2022-06-12T05:29:21.908Z"
   },
   {
    "duration": 14,
    "start_time": "2022-06-12T05:30:08.445Z"
   },
   {
    "duration": 556,
    "start_time": "2022-06-12T05:30:11.785Z"
   },
   {
    "duration": 14,
    "start_time": "2022-06-12T05:30:16.722Z"
   },
   {
    "duration": 655,
    "start_time": "2022-06-12T05:30:20.474Z"
   },
   {
    "duration": 14,
    "start_time": "2022-06-12T05:31:11.657Z"
   },
   {
    "duration": 548,
    "start_time": "2022-06-12T05:31:29.779Z"
   },
   {
    "duration": 35,
    "start_time": "2022-06-12T06:05:03.525Z"
   },
   {
    "duration": 38,
    "start_time": "2022-06-12T06:05:45.105Z"
   },
   {
    "duration": 41,
    "start_time": "2022-06-12T06:06:57.030Z"
   },
   {
    "duration": 116,
    "start_time": "2022-06-12T06:07:55.989Z"
   },
   {
    "duration": 40,
    "start_time": "2022-06-12T06:08:05.625Z"
   },
   {
    "duration": 20,
    "start_time": "2022-06-12T06:08:58.477Z"
   },
   {
    "duration": 38,
    "start_time": "2022-06-12T06:09:23.706Z"
   },
   {
    "duration": 9,
    "start_time": "2022-06-12T06:10:37.040Z"
   },
   {
    "duration": 42,
    "start_time": "2022-06-12T06:10:50.926Z"
   },
   {
    "duration": 44,
    "start_time": "2022-06-12T06:11:02.474Z"
   },
   {
    "duration": 10,
    "start_time": "2022-06-12T06:16:19.657Z"
   },
   {
    "duration": 37,
    "start_time": "2022-06-12T06:17:53.914Z"
   },
   {
    "duration": 36,
    "start_time": "2022-06-12T06:21:48.905Z"
   },
   {
    "duration": 36,
    "start_time": "2022-06-12T06:22:06.044Z"
   },
   {
    "duration": 216,
    "start_time": "2022-06-12T06:22:31.404Z"
   },
   {
    "duration": 39,
    "start_time": "2022-06-12T07:16:29.376Z"
   },
   {
    "duration": 36,
    "start_time": "2022-06-12T07:16:54.775Z"
   },
   {
    "duration": 10,
    "start_time": "2022-06-12T07:17:47.482Z"
   },
   {
    "duration": 36,
    "start_time": "2022-06-12T07:17:56.434Z"
   },
   {
    "duration": 41,
    "start_time": "2022-06-12T07:19:26.532Z"
   },
   {
    "duration": 42,
    "start_time": "2022-06-12T07:29:10.004Z"
   },
   {
    "duration": 36,
    "start_time": "2022-06-12T07:29:19.593Z"
   },
   {
    "duration": 35,
    "start_time": "2022-06-12T07:29:30.419Z"
   },
   {
    "duration": 35,
    "start_time": "2022-06-12T07:29:36.760Z"
   },
   {
    "duration": 49,
    "start_time": "2022-06-12T07:30:26.608Z"
   },
   {
    "duration": 21,
    "start_time": "2022-06-12T07:31:23.580Z"
   },
   {
    "duration": 19,
    "start_time": "2022-06-12T07:31:51.617Z"
   },
   {
    "duration": 34,
    "start_time": "2022-06-12T07:32:12.425Z"
   },
   {
    "duration": 222,
    "start_time": "2022-06-12T07:32:27.320Z"
   },
   {
    "duration": 37,
    "start_time": "2022-06-12T07:33:37.481Z"
   },
   {
    "duration": 46,
    "start_time": "2022-06-12T07:33:43.013Z"
   },
   {
    "duration": 40,
    "start_time": "2022-06-12T07:34:08.518Z"
   },
   {
    "duration": 39,
    "start_time": "2022-06-12T07:34:17.525Z"
   },
   {
    "duration": 47,
    "start_time": "2022-06-12T07:34:20.465Z"
   },
   {
    "duration": 225,
    "start_time": "2022-06-12T07:34:23.270Z"
   },
   {
    "duration": 1152,
    "start_time": "2022-06-12T08:25:38.533Z"
   },
   {
    "duration": 0,
    "start_time": "2022-06-12T08:25:39.689Z"
   },
   {
    "duration": 0,
    "start_time": "2022-06-12T08:25:39.690Z"
   },
   {
    "duration": 0,
    "start_time": "2022-06-12T08:25:39.691Z"
   },
   {
    "duration": 0,
    "start_time": "2022-06-12T08:25:39.692Z"
   },
   {
    "duration": 0,
    "start_time": "2022-06-12T08:25:39.694Z"
   },
   {
    "duration": 0,
    "start_time": "2022-06-12T08:25:39.695Z"
   },
   {
    "duration": 0,
    "start_time": "2022-06-12T08:25:39.696Z"
   },
   {
    "duration": 0,
    "start_time": "2022-06-12T08:25:39.697Z"
   },
   {
    "duration": 0,
    "start_time": "2022-06-12T08:25:39.698Z"
   },
   {
    "duration": 0,
    "start_time": "2022-06-12T08:25:39.699Z"
   },
   {
    "duration": 0,
    "start_time": "2022-06-12T08:25:39.700Z"
   },
   {
    "duration": 0,
    "start_time": "2022-06-12T08:25:39.702Z"
   },
   {
    "duration": 0,
    "start_time": "2022-06-12T08:25:39.703Z"
   },
   {
    "duration": 0,
    "start_time": "2022-06-12T08:25:39.704Z"
   },
   {
    "duration": 0,
    "start_time": "2022-06-12T08:25:39.705Z"
   },
   {
    "duration": 0,
    "start_time": "2022-06-12T08:25:39.706Z"
   },
   {
    "duration": 0,
    "start_time": "2022-06-12T08:25:39.707Z"
   },
   {
    "duration": 0,
    "start_time": "2022-06-12T08:25:39.709Z"
   },
   {
    "duration": 0,
    "start_time": "2022-06-12T08:25:39.710Z"
   },
   {
    "duration": 0,
    "start_time": "2022-06-12T08:25:39.711Z"
   },
   {
    "duration": 0,
    "start_time": "2022-06-12T08:25:39.712Z"
   },
   {
    "duration": 0,
    "start_time": "2022-06-12T08:25:39.712Z"
   },
   {
    "duration": 0,
    "start_time": "2022-06-12T08:25:39.713Z"
   },
   {
    "duration": 0,
    "start_time": "2022-06-12T08:25:39.753Z"
   },
   {
    "duration": 0,
    "start_time": "2022-06-12T08:25:39.754Z"
   },
   {
    "duration": 0,
    "start_time": "2022-06-12T08:25:39.755Z"
   },
   {
    "duration": 0,
    "start_time": "2022-06-12T08:25:39.756Z"
   },
   {
    "duration": 0,
    "start_time": "2022-06-12T08:25:39.757Z"
   },
   {
    "duration": 0,
    "start_time": "2022-06-12T08:25:39.758Z"
   },
   {
    "duration": 0,
    "start_time": "2022-06-12T08:25:39.759Z"
   },
   {
    "duration": 0,
    "start_time": "2022-06-12T08:25:39.760Z"
   },
   {
    "duration": 0,
    "start_time": "2022-06-12T08:25:39.761Z"
   },
   {
    "duration": 0,
    "start_time": "2022-06-12T08:25:39.762Z"
   },
   {
    "duration": 0,
    "start_time": "2022-06-12T08:25:39.763Z"
   },
   {
    "duration": 0,
    "start_time": "2022-06-12T08:25:39.764Z"
   },
   {
    "duration": 0,
    "start_time": "2022-06-12T08:25:39.765Z"
   },
   {
    "duration": 0,
    "start_time": "2022-06-12T08:25:39.766Z"
   },
   {
    "duration": 0,
    "start_time": "2022-06-12T08:25:39.767Z"
   },
   {
    "duration": 0,
    "start_time": "2022-06-12T08:25:39.768Z"
   },
   {
    "duration": 0,
    "start_time": "2022-06-12T08:25:39.769Z"
   },
   {
    "duration": 0,
    "start_time": "2022-06-12T08:25:39.770Z"
   },
   {
    "duration": 0,
    "start_time": "2022-06-12T08:25:39.771Z"
   },
   {
    "duration": 0,
    "start_time": "2022-06-12T08:25:39.772Z"
   },
   {
    "duration": 0,
    "start_time": "2022-06-12T08:25:39.773Z"
   },
   {
    "duration": 0,
    "start_time": "2022-06-12T08:25:39.774Z"
   },
   {
    "duration": 0,
    "start_time": "2022-06-12T08:25:39.775Z"
   },
   {
    "duration": 0,
    "start_time": "2022-06-12T08:25:39.776Z"
   },
   {
    "duration": 0,
    "start_time": "2022-06-12T08:25:39.777Z"
   },
   {
    "duration": 0,
    "start_time": "2022-06-12T08:25:39.778Z"
   },
   {
    "duration": 0,
    "start_time": "2022-06-12T08:25:39.779Z"
   },
   {
    "duration": 0,
    "start_time": "2022-06-12T08:25:39.780Z"
   },
   {
    "duration": 0,
    "start_time": "2022-06-12T08:25:39.781Z"
   },
   {
    "duration": 0,
    "start_time": "2022-06-12T08:25:39.783Z"
   },
   {
    "duration": 0,
    "start_time": "2022-06-12T08:25:39.784Z"
   },
   {
    "duration": 0,
    "start_time": "2022-06-12T08:25:39.786Z"
   },
   {
    "duration": 0,
    "start_time": "2022-06-12T08:25:39.787Z"
   },
   {
    "duration": 1160,
    "start_time": "2022-06-12T08:28:12.501Z"
   },
   {
    "duration": 0,
    "start_time": "2022-06-12T08:28:13.664Z"
   },
   {
    "duration": 0,
    "start_time": "2022-06-12T08:28:13.666Z"
   },
   {
    "duration": 0,
    "start_time": "2022-06-12T08:28:13.667Z"
   },
   {
    "duration": 0,
    "start_time": "2022-06-12T08:28:13.668Z"
   },
   {
    "duration": 0,
    "start_time": "2022-06-12T08:28:13.669Z"
   },
   {
    "duration": 0,
    "start_time": "2022-06-12T08:28:13.669Z"
   },
   {
    "duration": 0,
    "start_time": "2022-06-12T08:28:13.671Z"
   },
   {
    "duration": 0,
    "start_time": "2022-06-12T08:28:13.672Z"
   },
   {
    "duration": 0,
    "start_time": "2022-06-12T08:28:13.673Z"
   },
   {
    "duration": 0,
    "start_time": "2022-06-12T08:28:13.674Z"
   },
   {
    "duration": 0,
    "start_time": "2022-06-12T08:28:13.675Z"
   },
   {
    "duration": 0,
    "start_time": "2022-06-12T08:28:13.676Z"
   },
   {
    "duration": 0,
    "start_time": "2022-06-12T08:28:13.677Z"
   },
   {
    "duration": 0,
    "start_time": "2022-06-12T08:28:13.678Z"
   },
   {
    "duration": 0,
    "start_time": "2022-06-12T08:28:13.679Z"
   },
   {
    "duration": 0,
    "start_time": "2022-06-12T08:28:13.680Z"
   },
   {
    "duration": 0,
    "start_time": "2022-06-12T08:28:13.681Z"
   },
   {
    "duration": 0,
    "start_time": "2022-06-12T08:28:13.682Z"
   },
   {
    "duration": 0,
    "start_time": "2022-06-12T08:28:13.683Z"
   },
   {
    "duration": 0,
    "start_time": "2022-06-12T08:28:13.685Z"
   },
   {
    "duration": 0,
    "start_time": "2022-06-12T08:28:13.686Z"
   },
   {
    "duration": 0,
    "start_time": "2022-06-12T08:28:13.687Z"
   },
   {
    "duration": 0,
    "start_time": "2022-06-12T08:28:13.688Z"
   },
   {
    "duration": 0,
    "start_time": "2022-06-12T08:28:13.689Z"
   },
   {
    "duration": 0,
    "start_time": "2022-06-12T08:28:13.690Z"
   },
   {
    "duration": 0,
    "start_time": "2022-06-12T08:28:13.691Z"
   },
   {
    "duration": 0,
    "start_time": "2022-06-12T08:28:13.692Z"
   },
   {
    "duration": 0,
    "start_time": "2022-06-12T08:28:13.693Z"
   },
   {
    "duration": 0,
    "start_time": "2022-06-12T08:28:13.694Z"
   },
   {
    "duration": 0,
    "start_time": "2022-06-12T08:28:13.695Z"
   },
   {
    "duration": 0,
    "start_time": "2022-06-12T08:28:13.696Z"
   },
   {
    "duration": 1,
    "start_time": "2022-06-12T08:28:13.696Z"
   },
   {
    "duration": 0,
    "start_time": "2022-06-12T08:28:13.697Z"
   },
   {
    "duration": 0,
    "start_time": "2022-06-12T08:28:13.698Z"
   },
   {
    "duration": 0,
    "start_time": "2022-06-12T08:28:13.699Z"
   },
   {
    "duration": 0,
    "start_time": "2022-06-12T08:28:13.752Z"
   },
   {
    "duration": 0,
    "start_time": "2022-06-12T08:28:13.753Z"
   },
   {
    "duration": 0,
    "start_time": "2022-06-12T08:28:13.754Z"
   },
   {
    "duration": 0,
    "start_time": "2022-06-12T08:28:13.756Z"
   },
   {
    "duration": 0,
    "start_time": "2022-06-12T08:28:13.756Z"
   },
   {
    "duration": 0,
    "start_time": "2022-06-12T08:28:13.757Z"
   },
   {
    "duration": 0,
    "start_time": "2022-06-12T08:28:13.759Z"
   },
   {
    "duration": 0,
    "start_time": "2022-06-12T08:28:13.760Z"
   },
   {
    "duration": 0,
    "start_time": "2022-06-12T08:28:13.761Z"
   },
   {
    "duration": 0,
    "start_time": "2022-06-12T08:28:13.762Z"
   },
   {
    "duration": 0,
    "start_time": "2022-06-12T08:28:13.763Z"
   },
   {
    "duration": 0,
    "start_time": "2022-06-12T08:28:13.764Z"
   },
   {
    "duration": 0,
    "start_time": "2022-06-12T08:28:13.765Z"
   },
   {
    "duration": 0,
    "start_time": "2022-06-12T08:28:13.766Z"
   },
   {
    "duration": 0,
    "start_time": "2022-06-12T08:28:13.767Z"
   },
   {
    "duration": 0,
    "start_time": "2022-06-12T08:28:13.768Z"
   },
   {
    "duration": 0,
    "start_time": "2022-06-12T08:28:13.769Z"
   },
   {
    "duration": 0,
    "start_time": "2022-06-12T08:28:13.770Z"
   },
   {
    "duration": 0,
    "start_time": "2022-06-12T08:28:13.771Z"
   },
   {
    "duration": 0,
    "start_time": "2022-06-12T08:28:13.772Z"
   },
   {
    "duration": 0,
    "start_time": "2022-06-12T08:28:13.773Z"
   },
   {
    "duration": 1197,
    "start_time": "2022-06-12T08:28:51.346Z"
   },
   {
    "duration": 0,
    "start_time": "2022-06-12T08:28:52.552Z"
   },
   {
    "duration": 0,
    "start_time": "2022-06-12T08:28:52.553Z"
   },
   {
    "duration": 0,
    "start_time": "2022-06-12T08:28:52.554Z"
   },
   {
    "duration": 0,
    "start_time": "2022-06-12T08:28:52.555Z"
   },
   {
    "duration": 0,
    "start_time": "2022-06-12T08:28:52.557Z"
   },
   {
    "duration": 0,
    "start_time": "2022-06-12T08:28:52.558Z"
   },
   {
    "duration": 0,
    "start_time": "2022-06-12T08:28:52.560Z"
   },
   {
    "duration": 0,
    "start_time": "2022-06-12T08:28:52.561Z"
   },
   {
    "duration": 0,
    "start_time": "2022-06-12T08:28:52.562Z"
   },
   {
    "duration": 0,
    "start_time": "2022-06-12T08:28:52.563Z"
   },
   {
    "duration": 0,
    "start_time": "2022-06-12T08:28:52.565Z"
   },
   {
    "duration": 0,
    "start_time": "2022-06-12T08:28:52.567Z"
   },
   {
    "duration": 0,
    "start_time": "2022-06-12T08:28:52.568Z"
   },
   {
    "duration": 0,
    "start_time": "2022-06-12T08:28:52.569Z"
   },
   {
    "duration": 0,
    "start_time": "2022-06-12T08:28:52.571Z"
   },
   {
    "duration": 0,
    "start_time": "2022-06-12T08:28:52.572Z"
   },
   {
    "duration": 0,
    "start_time": "2022-06-12T08:28:52.574Z"
   },
   {
    "duration": 0,
    "start_time": "2022-06-12T08:28:52.576Z"
   },
   {
    "duration": 0,
    "start_time": "2022-06-12T08:28:52.577Z"
   },
   {
    "duration": 0,
    "start_time": "2022-06-12T08:28:52.579Z"
   },
   {
    "duration": 0,
    "start_time": "2022-06-12T08:28:52.580Z"
   },
   {
    "duration": 0,
    "start_time": "2022-06-12T08:28:52.582Z"
   },
   {
    "duration": 0,
    "start_time": "2022-06-12T08:28:52.584Z"
   },
   {
    "duration": 0,
    "start_time": "2022-06-12T08:28:52.585Z"
   },
   {
    "duration": 0,
    "start_time": "2022-06-12T08:28:52.586Z"
   },
   {
    "duration": 0,
    "start_time": "2022-06-12T08:28:52.587Z"
   },
   {
    "duration": 0,
    "start_time": "2022-06-12T08:28:52.588Z"
   },
   {
    "duration": 0,
    "start_time": "2022-06-12T08:28:52.591Z"
   },
   {
    "duration": 0,
    "start_time": "2022-06-12T08:28:52.592Z"
   },
   {
    "duration": 0,
    "start_time": "2022-06-12T08:28:52.593Z"
   },
   {
    "duration": 0,
    "start_time": "2022-06-12T08:28:52.594Z"
   },
   {
    "duration": 0,
    "start_time": "2022-06-12T08:28:52.653Z"
   },
   {
    "duration": 0,
    "start_time": "2022-06-12T08:28:52.655Z"
   },
   {
    "duration": 0,
    "start_time": "2022-06-12T08:28:52.656Z"
   },
   {
    "duration": 0,
    "start_time": "2022-06-12T08:28:52.657Z"
   },
   {
    "duration": 0,
    "start_time": "2022-06-12T08:28:52.658Z"
   },
   {
    "duration": 0,
    "start_time": "2022-06-12T08:28:52.659Z"
   },
   {
    "duration": 0,
    "start_time": "2022-06-12T08:28:52.661Z"
   },
   {
    "duration": 0,
    "start_time": "2022-06-12T08:28:52.663Z"
   },
   {
    "duration": 0,
    "start_time": "2022-06-12T08:28:52.664Z"
   },
   {
    "duration": 0,
    "start_time": "2022-06-12T08:28:52.665Z"
   },
   {
    "duration": 0,
    "start_time": "2022-06-12T08:28:52.666Z"
   },
   {
    "duration": 0,
    "start_time": "2022-06-12T08:28:52.667Z"
   },
   {
    "duration": 0,
    "start_time": "2022-06-12T08:28:52.668Z"
   },
   {
    "duration": 0,
    "start_time": "2022-06-12T08:28:52.669Z"
   },
   {
    "duration": 0,
    "start_time": "2022-06-12T08:28:52.670Z"
   },
   {
    "duration": 0,
    "start_time": "2022-06-12T08:28:52.671Z"
   },
   {
    "duration": 0,
    "start_time": "2022-06-12T08:28:52.672Z"
   },
   {
    "duration": 0,
    "start_time": "2022-06-12T08:28:52.673Z"
   },
   {
    "duration": 0,
    "start_time": "2022-06-12T08:28:52.674Z"
   },
   {
    "duration": 0,
    "start_time": "2022-06-12T08:28:52.675Z"
   },
   {
    "duration": 0,
    "start_time": "2022-06-12T08:28:52.676Z"
   },
   {
    "duration": 0,
    "start_time": "2022-06-12T08:28:52.677Z"
   },
   {
    "duration": 0,
    "start_time": "2022-06-12T08:28:52.678Z"
   },
   {
    "duration": 0,
    "start_time": "2022-06-12T08:28:52.679Z"
   },
   {
    "duration": 0,
    "start_time": "2022-06-12T08:28:52.680Z"
   },
   {
    "duration": 1114,
    "start_time": "2022-06-12T08:29:31.024Z"
   },
   {
    "duration": 2,
    "start_time": "2022-06-12T08:29:32.140Z"
   },
   {
    "duration": 76,
    "start_time": "2022-06-12T08:29:32.144Z"
   },
   {
    "duration": 22,
    "start_time": "2022-06-12T08:29:32.222Z"
   },
   {
    "duration": 13,
    "start_time": "2022-06-12T08:29:32.247Z"
   },
   {
    "duration": 29,
    "start_time": "2022-06-12T08:29:32.262Z"
   },
   {
    "duration": 18,
    "start_time": "2022-06-12T08:29:32.293Z"
   },
   {
    "duration": 9,
    "start_time": "2022-06-12T08:29:32.312Z"
   },
   {
    "duration": 35,
    "start_time": "2022-06-12T08:29:32.323Z"
   },
   {
    "duration": 4,
    "start_time": "2022-06-12T08:29:32.360Z"
   },
   {
    "duration": 17,
    "start_time": "2022-06-12T08:29:32.366Z"
   },
   {
    "duration": 9,
    "start_time": "2022-06-12T08:29:32.385Z"
   },
   {
    "duration": 17,
    "start_time": "2022-06-12T08:29:32.396Z"
   },
   {
    "duration": 23,
    "start_time": "2022-06-12T08:29:32.417Z"
   },
   {
    "duration": 9,
    "start_time": "2022-06-12T08:29:32.452Z"
   },
   {
    "duration": 18,
    "start_time": "2022-06-12T08:29:32.463Z"
   },
   {
    "duration": 6,
    "start_time": "2022-06-12T08:29:32.482Z"
   },
   {
    "duration": 17,
    "start_time": "2022-06-12T08:29:32.489Z"
   },
   {
    "duration": 274,
    "start_time": "2022-06-12T08:29:32.508Z"
   },
   {
    "duration": 12,
    "start_time": "2022-06-12T08:29:32.784Z"
   },
   {
    "duration": 304,
    "start_time": "2022-06-12T08:29:32.798Z"
   },
   {
    "duration": 85,
    "start_time": "2022-06-12T08:29:33.104Z"
   },
   {
    "duration": 355,
    "start_time": "2022-06-12T08:29:33.191Z"
   },
   {
    "duration": 18,
    "start_time": "2022-06-12T08:29:33.547Z"
   },
   {
    "duration": 40,
    "start_time": "2022-06-12T08:29:33.566Z"
   },
   {
    "duration": 60,
    "start_time": "2022-06-12T08:29:33.608Z"
   },
   {
    "duration": 542,
    "start_time": "2022-06-12T08:29:33.669Z"
   },
   {
    "duration": 161,
    "start_time": "2022-06-12T08:29:34.213Z"
   },
   {
    "duration": 11,
    "start_time": "2022-06-12T08:29:34.376Z"
   },
   {
    "duration": 706,
    "start_time": "2022-06-12T08:29:34.388Z"
   },
   {
    "duration": 59,
    "start_time": "2022-06-12T08:29:35.096Z"
   },
   {
    "duration": 23,
    "start_time": "2022-06-12T08:29:35.157Z"
   },
   {
    "duration": 626,
    "start_time": "2022-06-12T08:29:35.182Z"
   },
   {
    "duration": 15,
    "start_time": "2022-06-12T08:29:35.809Z"
   },
   {
    "duration": 571,
    "start_time": "2022-06-12T08:29:35.826Z"
   },
   {
    "duration": 14,
    "start_time": "2022-06-12T08:29:36.399Z"
   },
   {
    "duration": 694,
    "start_time": "2022-06-12T08:29:36.414Z"
   },
   {
    "duration": 48,
    "start_time": "2022-06-12T08:29:37.109Z"
   },
   {
    "duration": 44,
    "start_time": "2022-06-12T08:29:37.159Z"
   },
   {
    "duration": 65,
    "start_time": "2022-06-12T08:29:37.205Z"
   },
   {
    "duration": 273,
    "start_time": "2022-06-12T08:29:37.274Z"
   },
   {
    "duration": 16,
    "start_time": "2022-06-12T08:29:37.551Z"
   },
   {
    "duration": 17,
    "start_time": "2022-06-12T08:29:37.569Z"
   },
   {
    "duration": 171,
    "start_time": "2022-06-12T08:29:37.588Z"
   },
   {
    "duration": 41,
    "start_time": "2022-06-12T08:29:37.762Z"
   },
   {
    "duration": 211,
    "start_time": "2022-06-12T08:29:37.804Z"
   },
   {
    "duration": 51,
    "start_time": "2022-06-12T08:29:38.017Z"
   },
   {
    "duration": 163,
    "start_time": "2022-06-12T08:29:38.070Z"
   },
   {
    "duration": 56,
    "start_time": "2022-06-12T08:29:38.235Z"
   },
   {
    "duration": 503,
    "start_time": "2022-06-12T08:29:38.293Z"
   },
   {
    "duration": 152,
    "start_time": "2022-06-12T08:29:38.798Z"
   },
   {
    "duration": 7,
    "start_time": "2022-06-12T08:29:38.953Z"
   },
   {
    "duration": 14,
    "start_time": "2022-06-12T08:29:38.961Z"
   },
   {
    "duration": 13,
    "start_time": "2022-06-12T08:29:38.976Z"
   },
   {
    "duration": 9,
    "start_time": "2022-06-12T08:29:38.990Z"
   },
   {
    "duration": 15,
    "start_time": "2022-06-12T08:29:39.001Z"
   },
   {
    "duration": 34,
    "start_time": "2022-06-12T08:29:39.018Z"
   },
   {
    "duration": 535,
    "start_time": "2022-06-12T08:30:24.126Z"
   },
   {
    "duration": 52,
    "start_time": "2022-06-12T09:02:23.450Z"
   },
   {
    "duration": 1232,
    "start_time": "2022-06-12T09:02:43.545Z"
   },
   {
    "duration": 4,
    "start_time": "2022-06-12T09:02:44.780Z"
   },
   {
    "duration": 61,
    "start_time": "2022-06-12T09:02:44.785Z"
   },
   {
    "duration": 35,
    "start_time": "2022-06-12T09:02:44.849Z"
   },
   {
    "duration": 17,
    "start_time": "2022-06-12T09:02:44.886Z"
   },
   {
    "duration": 35,
    "start_time": "2022-06-12T09:02:44.905Z"
   },
   {
    "duration": 41,
    "start_time": "2022-06-12T09:02:44.943Z"
   },
   {
    "duration": 23,
    "start_time": "2022-06-12T09:02:44.987Z"
   },
   {
    "duration": 33,
    "start_time": "2022-06-12T09:02:45.013Z"
   },
   {
    "duration": 44,
    "start_time": "2022-06-12T09:02:45.049Z"
   },
   {
    "duration": 20,
    "start_time": "2022-06-12T09:02:45.095Z"
   },
   {
    "duration": 18,
    "start_time": "2022-06-12T09:02:45.118Z"
   },
   {
    "duration": 44,
    "start_time": "2022-06-12T09:02:45.138Z"
   },
   {
    "duration": 31,
    "start_time": "2022-06-12T09:02:45.184Z"
   },
   {
    "duration": 9,
    "start_time": "2022-06-12T09:02:45.217Z"
   },
   {
    "duration": 18,
    "start_time": "2022-06-12T09:02:45.228Z"
   },
   {
    "duration": 19,
    "start_time": "2022-06-12T09:02:45.249Z"
   },
   {
    "duration": 30,
    "start_time": "2022-06-12T09:02:45.279Z"
   },
   {
    "duration": 302,
    "start_time": "2022-06-12T09:02:45.311Z"
   },
   {
    "duration": 14,
    "start_time": "2022-06-12T09:02:45.615Z"
   },
   {
    "duration": 385,
    "start_time": "2022-06-12T09:02:45.631Z"
   },
   {
    "duration": 92,
    "start_time": "2022-06-12T09:02:46.018Z"
   },
   {
    "duration": 480,
    "start_time": "2022-06-12T09:02:46.112Z"
   },
   {
    "duration": 17,
    "start_time": "2022-06-12T09:02:46.593Z"
   },
   {
    "duration": 118,
    "start_time": "2022-06-12T09:02:46.651Z"
   },
   {
    "duration": 111,
    "start_time": "2022-06-12T09:02:46.775Z"
   },
   {
    "duration": 1668,
    "start_time": "2022-06-12T09:02:46.894Z"
   },
   {
    "duration": 332,
    "start_time": "2022-06-12T09:02:48.572Z"
   },
   {
    "duration": 24,
    "start_time": "2022-06-12T09:02:48.952Z"
   },
   {
    "duration": 751,
    "start_time": "2022-06-12T09:02:48.978Z"
   },
   {
    "duration": 72,
    "start_time": "2022-06-12T09:02:49.730Z"
   },
   {
    "duration": 14,
    "start_time": "2022-06-12T09:02:49.804Z"
   },
   {
    "duration": 633,
    "start_time": "2022-06-12T09:02:49.819Z"
   },
   {
    "duration": 19,
    "start_time": "2022-06-12T09:02:50.453Z"
   },
   {
    "duration": 597,
    "start_time": "2022-06-12T09:02:50.474Z"
   },
   {
    "duration": 15,
    "start_time": "2022-06-12T09:02:51.074Z"
   },
   {
    "duration": 717,
    "start_time": "2022-06-12T09:02:51.090Z"
   },
   {
    "duration": 52,
    "start_time": "2022-06-12T09:02:51.809Z"
   },
   {
    "duration": 40,
    "start_time": "2022-06-12T09:02:51.868Z"
   },
   {
    "duration": 47,
    "start_time": "2022-06-12T09:02:51.910Z"
   },
   {
    "duration": 241,
    "start_time": "2022-06-12T09:02:51.959Z"
   },
   {
    "duration": 14,
    "start_time": "2022-06-12T09:02:52.202Z"
   },
   {
    "duration": 15,
    "start_time": "2022-06-12T09:02:52.218Z"
   },
   {
    "duration": 165,
    "start_time": "2022-06-12T09:02:52.234Z"
   },
   {
    "duration": 37,
    "start_time": "2022-06-12T09:02:52.400Z"
   },
   {
    "duration": 169,
    "start_time": "2022-06-12T09:02:52.439Z"
   },
   {
    "duration": 66,
    "start_time": "2022-06-12T09:02:52.610Z"
   },
   {
    "duration": 148,
    "start_time": "2022-06-12T09:02:52.678Z"
   },
   {
    "duration": 63,
    "start_time": "2022-06-12T09:02:52.827Z"
   },
   {
    "duration": 452,
    "start_time": "2022-06-12T09:02:52.892Z"
   },
   {
    "duration": 527,
    "start_time": "2022-06-12T09:02:53.351Z"
   },
   {
    "duration": 7,
    "start_time": "2022-06-12T09:02:53.879Z"
   },
   {
    "duration": 26,
    "start_time": "2022-06-12T09:02:53.887Z"
   },
   {
    "duration": 11,
    "start_time": "2022-06-12T09:02:53.914Z"
   },
   {
    "duration": 8,
    "start_time": "2022-06-12T09:02:53.926Z"
   },
   {
    "duration": 24,
    "start_time": "2022-06-12T09:02:53.936Z"
   },
   {
    "duration": 28,
    "start_time": "2022-06-12T09:02:53.962Z"
   },
   {
    "duration": 15,
    "start_time": "2022-06-12T15:06:21.902Z"
   },
   {
    "duration": 1345,
    "start_time": "2022-06-14T11:41:38.020Z"
   },
   {
    "duration": 113,
    "start_time": "2022-06-14T11:41:41.378Z"
   },
   {
    "duration": 114,
    "start_time": "2022-06-14T11:41:48.377Z"
   }
  ],
  "colab": {
   "name": "Сборный проект_1.ipynb",
   "provenance": [],
   "toc_visible": true
  },
  "kernelspec": {
   "display_name": "Python 3 (ipykernel)",
   "language": "python",
   "name": "python3"
  },
  "language_info": {
   "codemirror_mode": {
    "name": "ipython",
    "version": 3
   },
   "file_extension": ".py",
   "mimetype": "text/x-python",
   "name": "python",
   "nbconvert_exporter": "python",
   "pygments_lexer": "ipython3",
   "version": "3.9.5"
  },
  "toc": {
   "base_numbering": 1,
   "nav_menu": {},
   "number_sections": true,
   "sideBar": true,
   "skip_h1_title": true,
   "title_cell": "Table of Contents",
   "title_sidebar": "Contents",
   "toc_cell": false,
   "toc_position": {
    "height": "calc(100% - 180px)",
    "left": "10px",
    "top": "150px",
    "width": "319.188px"
   },
   "toc_section_display": true,
   "toc_window_display": true
  }
 },
 "nbformat": 4,
 "nbformat_minor": 1
}
